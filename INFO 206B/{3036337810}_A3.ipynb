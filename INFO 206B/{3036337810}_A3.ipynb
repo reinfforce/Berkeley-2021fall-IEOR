{
 "cells": [
  {
   "cell_type": "code",
   "execution_count": 46,
   "metadata": {},
   "outputs": [],
   "source": [
    "class Node:\n",
    "    def __init__(self,data):\n",
    "        self.data = data\n",
    "        self.next = None\n",
    "        self.prev = None\n",
    "        \n",
    "class Circle:\n",
    "    def __init__(self):\n",
    "        self.first = None\n",
    "        \n",
    "    def get_node(self,index,start):\n",
    "        current = start\n",
    "        for i in range(index):\n",
    "            current = current.next\n",
    "        return current\n",
    "    \n",
    "    def insert_after(self,ref_node,new_node):\n",
    "        new_node.prev = ref_node\n",
    "        new_node.next = ref_node.next\n",
    "        new_node.next.prev = new_node\n",
    "        ref_node.next = new_node\n",
    "        \n",
    "    def append(self,new_node):\n",
    "        if self.first is None:\n",
    "            self.first = new_node\n",
    "            new_node.next = new_node\n",
    "            new_node.prev = new_node\n",
    "        else:\n",
    "            self.insert_after(self.first.prev, new_node)\n",
    "            \n",
    "    def remove(self,node):\n",
    "        if self.first.next == self.first:\n",
    "            self.first = None\n",
    "        else:\n",
    "            node.prev.next = node.next\n",
    "            node.next.prev = node.prev\n",
    "            if self.first == node:\n",
    "                self.first = node.next\n",
    "        "
   ]
  },
  {
   "cell_type": "code",
   "execution_count": 47,
   "metadata": {},
   "outputs": [],
   "source": [
    "def has_one_node(cllist):\n",
    "    if cllist.first.next == cllist.first:\n",
    "        return True\n",
    "    else:\n",
    "        return False\n",
    "    \n",
    "def get_solution(cllist,k):\n",
    "    if cllist.first is None:\n",
    "        return None\n",
    "    start = cllist.first\n",
    "    while not has_one_node(cllist):\n",
    "        to_remove = cllist.get_node(k-1,start)\n",
    "        start = to_remove.next\n",
    "        cllist.remove(to_remove)\n",
    "    return cllist.first.data"
   ]
  },
  {
   "cell_type": "code",
   "execution_count": 50,
   "metadata": {},
   "outputs": [
    {
     "name": "stdout",
     "output_type": "stream",
     "text": [
      "Input number of people: 5\n",
      "The kth student will be removed. Input k: 2\n",
      "The student 2 won't be removed.\n"
     ]
    }
   ],
   "source": [
    "a_cllist = Circle()\n",
    "n = int(input('Input number of people: '))\n",
    "k = int(input('The kth student will be removed. Input k: '))\n",
    "for i in range(0, n):\n",
    "    a_cllist.append(Node(i))\n",
    " \n",
    "ans = get_solution(a_cllist, k)\n",
    "print('The student {} won\\'t be removed.'.format(ans))"
   ]
  },
  {
   "cell_type": "code",
   "execution_count": null,
   "metadata": {},
   "outputs": [],
   "source": []
  }
 ],
 "metadata": {
  "kernelspec": {
   "display_name": "Python 3",
   "language": "python",
   "name": "python3"
  },
  "language_info": {
   "codemirror_mode": {
    "name": "ipython",
    "version": 3
   },
   "file_extension": ".py",
   "mimetype": "text/x-python",
   "name": "python",
   "nbconvert_exporter": "python",
   "pygments_lexer": "ipython3",
   "version": "3.8.3"
  },
  "toc": {
   "base_numbering": 1,
   "nav_menu": {},
   "number_sections": true,
   "sideBar": true,
   "skip_h1_title": false,
   "title_cell": "Table of Contents",
   "title_sidebar": "Contents",
   "toc_cell": false,
   "toc_position": {},
   "toc_section_display": true,
   "toc_window_display": false
  }
 },
 "nbformat": 4,
 "nbformat_minor": 4
}
