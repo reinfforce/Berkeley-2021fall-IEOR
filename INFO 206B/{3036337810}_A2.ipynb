{
 "cells": [
  {
   "cell_type": "code",
   "execution_count": 9,
   "metadata": {},
   "outputs": [],
   "source": [
    "def bubble_sort(L):\n",
    "    origin = L[:]\n",
    "    i = 0\n",
    "    while i < len(L) - 1:\n",
    "        if L[i] > L[i+1]:\n",
    "            temp = L[i]\n",
    "            L[i] = L[i+1]\n",
    "            L[i+1] = temp\n",
    "        i += 1\n",
    "    if origin == L:\n",
    "        return L\n",
    "    else:\n",
    "        return bubble_sort(L)"
   ]
  },
  {
   "cell_type": "code",
   "execution_count": 10,
   "metadata": {},
   "outputs": [
    {
     "data": {
      "text/plain": [
       "[209, 401, 203, 1, 418, 499, 315, 130, 227, 262]"
      ]
     },
     "execution_count": 10,
     "metadata": {},
     "output_type": "execute_result"
    }
   ],
   "source": [
    "import random\n",
    "\n",
    "s = []\n",
    "for i in range(10):\n",
    "    s.append(random.randint(0,500))\n",
    "s"
   ]
  },
  {
   "cell_type": "code",
   "execution_count": 11,
   "metadata": {},
   "outputs": [
    {
     "data": {
      "text/plain": [
       "[1, 130, 203, 209, 227, 262, 315, 401, 418, 499]"
      ]
     },
     "execution_count": 11,
     "metadata": {},
     "output_type": "execute_result"
    }
   ],
   "source": [
    "bubble_sort(s)"
   ]
  },
  {
   "cell_type": "code",
   "execution_count": 12,
   "metadata": {},
   "outputs": [],
   "source": [
    "# The best circumstance for the run-time complexity is O(n). If the input list is already sorted, then we will just go through the list for once.\n",
    "# The worst circumstance for the run-time complexity is O(n^2). If the input list is reversed sorted, then we need to swap each item taking n*(n-1) times, leading to O(n^2)"
   ]
  }
 ],
 "metadata": {
  "kernelspec": {
   "display_name": "Python 3",
   "language": "python",
   "name": "python3"
  },
  "language_info": {
   "codemirror_mode": {
    "name": "ipython",
    "version": 3
   },
   "file_extension": ".py",
   "mimetype": "text/x-python",
   "name": "python",
   "nbconvert_exporter": "python",
   "pygments_lexer": "ipython3",
   "version": "3.8.3"
  },
  "toc": {
   "base_numbering": 1,
   "nav_menu": {},
   "number_sections": true,
   "sideBar": true,
   "skip_h1_title": false,
   "title_cell": "Table of Contents",
   "title_sidebar": "Contents",
   "toc_cell": false,
   "toc_position": {},
   "toc_section_display": true,
   "toc_window_display": false
  }
 },
 "nbformat": 4,
 "nbformat_minor": 4
}
