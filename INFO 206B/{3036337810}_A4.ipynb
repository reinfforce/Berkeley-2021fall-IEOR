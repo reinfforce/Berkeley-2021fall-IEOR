{
 "cells": [
  {
   "cell_type": "code",
   "execution_count": 1,
   "metadata": {},
   "outputs": [],
   "source": [
    "def strip_word( w ):\n",
    "    w = w.lower()\n",
    "    w = ''.join([i for i in w if i.isalpha()])\n",
    "    return( w )\n",
    "\n",
    "def sort_dictionary( D ):\n",
    "    Ds = sorted(D.items(), key=lambda x:x[1], reverse=True)               \n",
    "    return Ds"
   ]
  },
  {
   "cell_type": "code",
   "execution_count": 2,
   "metadata": {},
   "outputs": [
    {
     "data": {
      "text/plain": [
       "['dr9.txt',\n",
       " 'dr8.txt',\n",
       " 'pk7.txt',\n",
       " 'pk6.txt',\n",
       " 'pk4.txt',\n",
       " 'pk5.txt',\n",
       " 'pk1.txt',\n",
       " 'pk2.txt',\n",
       " 'pk3.txt',\n",
       " 'pk8.txt',\n",
       " 'pk9.txt',\n",
       " 'dr1.txt',\n",
       " 'dr3.txt',\n",
       " 'dr2.txt',\n",
       " 'dr6.txt',\n",
       " 'dr7.txt',\n",
       " 'dr5.txt',\n",
       " 'dr4.txt']"
      ]
     },
     "execution_count": 2,
     "metadata": {},
     "output_type": "execute_result"
    }
   ],
   "source": [
    "import os\n",
    "directory=r'/Users/zhouyi/Desktop/Info206B/Assignment/assignment 4/data'#set the directory\n",
    "os.listdir(directory)"
   ]
  },
  {
   "cell_type": "code",
   "execution_count": 3,
   "metadata": {},
   "outputs": [],
   "source": [
    "def build_dictionary(prefix):\n",
    "    my_dictionary = {} \n",
    "    N=0 \n",
    "    for file in os.listdir(directory):\n",
    "        if file.startswith(prefix) and file.endswith(\".txt\"):\n",
    "            with open(os.path.join(directory, file), 'r') as f:\n",
    "                for line in f:\n",
    "                    line=line.split() \n",
    "                    N=N+len(line)\n",
    "                    for word in line:\n",
    "                        word=strip_word(word)\n",
    "                        if len(word)!=0:\n",
    "                            if word in my_dictionary: \n",
    "                                my_dictionary[word] +=1 \n",
    "                            else:\n",
    "                                my_dictionary[word] = 1 \n",
    "\n",
    "    for key in my_dictionary:\n",
    "        my_dictionary[key]=my_dictionary[key]/N*100\n",
    "    return my_dictionary\n",
    "\n",
    "def print_dictionary(Dic):\n",
    "    for key in Dic:\n",
    "        print(key,Dic[key])"
   ]
  },
  {
   "cell_type": "code",
   "execution_count": 4,
   "metadata": {},
   "outputs": [
    {
     "data": {
      "text/plain": [
       "['the',\n",
       " 'to',\n",
       " 'of',\n",
       " 'and',\n",
       " 'a',\n",
       " 'in',\n",
       " 'that',\n",
       " 'is',\n",
       " 'for',\n",
       " 'on',\n",
       " 'it',\n",
       " 'as',\n",
       " 'i',\n",
       " 'was',\n",
       " 'but',\n",
       " 'with',\n",
       " 'at',\n",
       " 'this',\n",
       " 'be',\n",
       " 'not',\n",
       " 'has',\n",
       " 'have',\n",
       " 'are',\n",
       " 'my',\n",
       " 'an']"
      ]
     },
     "execution_count": 4,
     "metadata": {},
     "output_type": "execute_result"
    }
   ],
   "source": [
    "all_items=sort_dictionary(build_dictionary('')) \n",
    "first_25=all_items[0:25]\n",
    "first_25_word=[]\n",
    "for key in first_25:\n",
    "    percent=key[0]\n",
    "    first_25_word.append(percent)\n",
    "first_25_word"
   ]
  },
  {
   "cell_type": "code",
   "execution_count": 5,
   "metadata": {},
   "outputs": [],
   "source": [
    "pk = [\"pk1.txt\",\"pk2.txt\",\"pk3.txt\",\"pk4.txt\",\"pk5.txt\",\"pk6.txt\",\"pk7.txt\",\"pk8.txt\",\"pk9.txt\"]\n",
    "dr = [\"dr1.txt\",\"dr2.txt\",\"dr3.txt\",\"dr4.txt\",\"dr5.txt\",\"dr6.txt\",\"dr7.txt\",\"dr8.txt\",\"dr9.txt\"]"
   ]
  },
  {
   "cell_type": "code",
   "execution_count": 6,
   "metadata": {},
   "outputs": [],
   "source": [
    "F1=[]\n",
    "for a in pk:\n",
    "    pkdic=build_dictionary(a)          \n",
    "    for i in first_25_word:\n",
    "        if i not in pkdic:\n",
    "            pkdic[i]=0  \n",
    "    pklist=[]\n",
    "    for i in first_25_word:\n",
    "        if i in pkdic:\n",
    "            pklist.append(pkdic[i])\n",
    "\n",
    "    F1.append(pklist)\n",
    "    \n",
    "F2=[]\n",
    "drlist=[]\n",
    "for b in dr:\n",
    "    drdic=build_dictionary(b)          \n",
    "    for i in first_25_word:\n",
    "        if i not in drdic:\n",
    "            drdic[i]=0      \n",
    "    drlist=[]    \n",
    "    for i in first_25_word:\n",
    "        if i in drdic:\n",
    "            drlist.append(drdic[i]) \n",
    "\n",
    "    F2.append(drlist) "
   ]
  },
  {
   "cell_type": "code",
   "execution_count": 8,
   "metadata": {},
   "outputs": [],
   "source": [
    "import numpy as np\n",
    "F11 = np.zeros((9,25))\n",
    "for i in range(len(F1)):\n",
    "    for j in range(len(F1[i])):\n",
    "        F11[i,j] = F1[i][j]\n",
    "F22 = np.zeros((9,25))\n",
    "for i in range(len(F1)):\n",
    "    for j in range(len(F1[i])):\n",
    "        F22[i,j] = F2[i][j]"
   ]
  },
  {
   "cell_type": "code",
   "execution_count": 9,
   "metadata": {},
   "outputs": [
    {
     "data": {
      "text/plain": [
       "<matplotlib.collections.PathCollection at 0x7f8771f192b0>"
      ]
     },
     "execution_count": 9,
     "metadata": {},
     "output_type": "execute_result"
    },
    {
     "data": {
      "image/png": "[encoded data removed]",
      "text/plain": [
       "<Figure size 432x288 with 1 Axes>"
      ]
     },
     "metadata": {
      "needs_background": "light"
     },
     "output_type": "display_data"
    }
   ],
   "source": [
    "import numpy as np\n",
    "import matplotlib.pyplot as plt\n",
    "from sklearn.decomposition import PCA\n",
    "\n",
    "F = np.concatenate((F11,F22),axis=0)\n",
    "pca = PCA(n_components=2)\n",
    "Fp  = pca.fit(F).transform(F)\n",
    "plt.scatter( Fp[0:9,0], Fp[0:9,1], color='b')\n",
    "plt.scatter( Fp[9:18,0], Fp[9:18,1], color='r' )"
   ]
  },
  {
   "cell_type": "code",
   "execution_count": null,
   "metadata": {},
   "outputs": [],
   "source": []
  }
 ],
 "metadata": {
  "kernelspec": {
   "display_name": "Python 3",
   "language": "python",
   "name": "python3"
  },
  "language_info": {
   "codemirror_mode": {
    "name": "ipython",
    "version": 3
   },
   "file_extension": ".py",
   "mimetype": "text/x-python",
   "name": "python",
   "nbconvert_exporter": "python",
   "pygments_lexer": "ipython3",
   "version": "3.8.3"
  },
  "toc": {
   "base_numbering": 1,
   "nav_menu": {},
   "number_sections": true,
   "sideBar": true,
   "skip_h1_title": false,
   "title_cell": "Table of Contents",
   "title_sidebar": "Contents",
   "toc_cell": false,
   "toc_position": {},
   "toc_section_display": true,
   "toc_window_display": false
  }
 },
 "nbformat": 4,
 "nbformat_minor": 4
}
