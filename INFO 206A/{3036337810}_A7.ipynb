{
 "cells": [
  {
   "cell_type": "code",
   "execution_count": 2,
   "metadata": {},
   "outputs": [],
   "source": [
    "import drawSvg as draw\n",
    "\n",
    "class Body:\n",
    "    def __init__(self,mass,x,y,vx,vy,pixel_radius,r,g,b):\n",
    "        self.mass = mass\n",
    "        self.x = x\n",
    "        self.y = y\n",
    "        self.vx = vx\n",
    "        self.vy = vy\n",
    "        self.radius = pixel_radius\n",
    "        self.color = '#%02x%02x%02x' % (r,g,b)\n",
    "        \n",
    "    def update_velocity(self,ax,ay,timestep):\n",
    "        self.vx = ax * timestep + self.vx\n",
    "        self.vy = ay * timestep + self.vy\n",
    "        \n",
    "    def update_position(self,timestep):\n",
    "        self.x = self.x + self.vx * timestep\n",
    "        self.y = self.y + self.vy * timestep\n",
    "        \n",
    "    def draw(self,pixels_per_meter):\n",
    "        self.pixel_x = self.x * pixels_per_meter\n",
    "        self.pixel_y = self.y * pixels_per_meter\n",
    "        D.append(draw.Circle(self.pixel_x, self.pixel_y, self.radius, fill = self.color))"
   ]
  },
  {
   "cell_type": "code",
   "execution_count": 4,
   "metadata": {},
   "outputs": [],
   "source": [
    "import math\n",
    "\n",
    "class System:\n",
    "    def __init__(self,body_list):\n",
    "        self.body_list = body_list\n",
    "        \n",
    "    def compute_acceleration(self,n):\n",
    "        ax = 0\n",
    "        ay = 0\n",
    "        G = 6.67384e-11\n",
    "        for i in range(len(self.body_list)):\n",
    "            if i != n:\n",
    "                dx = self.body_list[i].x - self.body_list[n].x\n",
    "                dy = self.body_list[i].y - self.body_list[n].y\n",
    "                distance = math.sqrt(dx**2 + dy**2)\n",
    "                a = (G*self.body_list[i].mass) / distance**2\n",
    "                ax = ax + a * dx/distance\n",
    "                ay = ay + a * dy/distance\n",
    "        return (ax,ay)\n",
    "    \n",
    "    def draw(self,pixels_per_meter):\n",
    "        for k in range(len(self.body_list)):\n",
    "            self.body_list[k].draw(pixels_per_meter)\n",
    "            \n",
    "    def update(self,timestep):\n",
    "        for m in range(len(self.body_list)):\n",
    "            acceleration = self.compute_acceleration(m)\n",
    "            self.body_list[m].update_velocity(acceleration[0],acceleration[1],timestep)\n",
    "            self.body_list[m].update_position(timestep)\n",
    "    "
   ]
  },
  {
   "cell_type": "code",
   "execution_count": null,
   "metadata": {},
   "outputs": [
    {
     "data": {
      "image/svg+xml": [
       "<?xml version=\"1.0\" encoding=\"UTF-8\"?>\n",
       "<svg xmlns=\"http://www.w3.org/2000/svg\" xmlns:xlink=\"http://www.w3.org/1999/xlink\"\n",
       "     width=\"600\" height=\"600\" viewBox=\"-300.0 -300.0 600 600\">\n",
       "<defs>\n",
       "</defs>\n",
       "<rect x=\"-300\" y=\"-300\" width=\"600\" height=\"600\" fill=\"black\" />\n",
       "<circle cx=\"-0.0005464304390050262\" cy=\"-0.00484678430315178\" r=\"15\" fill=\"#ffff00\" />\n",
       "<circle cx=\"-44.78601602706667\" cy=\"14.113315627172307\" r=\"3\" fill=\"#ff6600\" />\n",
       "<circle cx=\"80.87474241788608\" cy=\"33.46603196949502\" r=\"6\" fill=\"#009933\" />\n",
       "<circle cx=\"-115.88298392656152\" cy=\"32.377229153211545\" r=\"7\" fill=\"#0066ff\" />\n",
       "<circle cx=\"182.81856334913752\" cy=\"13.033606081037878\" r=\"4\" fill=\"#cc3300\" />\n",
       "</svg>"
      ],
      "text/plain": [
       "<drawSvg.drawing.Drawing at 0x7fac88109970>"
      ]
     },
     "metadata": {},
     "output_type": "display_data"
    }
   ],
   "source": [
    "import drawSvg as draw\n",
    "\n",
    "AU = 1.49598e11 # number of meters per astronomical unit\n",
    "EM = 5.9736e24  # mass of the Earth in kilograms\n",
    "\n",
    "TIME_SCALE = 3.0e6              # how many real seconds for each second of simulation\n",
    "PIXELS_PER_METER = 120. / AU    # distance scale for the simulation\n",
    "\n",
    "FRAME_RATE = 30\n",
    "TIMESTEP = 1.0 / FRAME_RATE     # time between drawing each frame\n",
    "\n",
    "# Solar system data comes from\n",
    "#   http://hyperphysics.phy-astr.gsu.edu/hbase/solar/soldata2.html\n",
    "sun     = Body(1.98892e30, 0, 0, 0, 0, 15, 255, 255, 0)\n",
    "mercury = Body(.06 * EM, -.3871 * AU, 0, 0, 47890, 3, 255, 102, 0)\n",
    "venus   = Body(.82 * EM, -.7233 * AU, 0, 0, 35040, 6, 0, 153, 51)\n",
    "earth   = Body(1.0 * EM, -1.0 * AU, 0, 0, 29790, 7, 0, 102, 255)\n",
    "mars    = Body(.11 * EM, -1.524 * AU, 0, 0, 24140, 4, 204, 51, 0)\n",
    "    \n",
    "solar_system = System([sun, mercury, venus, earth, mars])\n",
    "\n",
    "def draw_frame():\n",
    "    solar_system.draw(PIXELS_PER_METER)\n",
    "    solar_system.update(TIMESTEP * TIME_SCALE)\n",
    "    return( D )\n",
    "\n",
    "with draw.animate_jupyter(draw_frame, delay=0.05) as anim:\n",
    "   while( True ):\n",
    "        D = draw.Drawing(600, 600, origin='center') # clear canvas\n",
    "        D.append( draw.Rectangle(-300,-300,600,600,fill='black')) # black background\n",
    "        anim.draw_frame()"
   ]
  },
  {
   "cell_type": "code",
   "execution_count": null,
   "metadata": {},
   "outputs": [],
   "source": []
  }
 ],
 "metadata": {
  "kernelspec": {
   "display_name": "Python 3",
   "language": "python",
   "name": "python3"
  },
  "language_info": {
   "codemirror_mode": {
    "name": "ipython",
    "version": 3
   },
   "file_extension": ".py",
   "mimetype": "text/x-python",
   "name": "python",
   "nbconvert_exporter": "python",
   "pygments_lexer": "ipython3",
   "version": "3.8.3"
  },
  "toc": {
   "base_numbering": 1,
   "nav_menu": {},
   "number_sections": true,
   "sideBar": true,
   "skip_h1_title": false,
   "title_cell": "Table of Contents",
   "title_sidebar": "Contents",
   "toc_cell": false,
   "toc_position": {},
   "toc_section_display": true,
   "toc_window_display": false
  }
 },
 "nbformat": 4,
 "nbformat_minor": 4
}
