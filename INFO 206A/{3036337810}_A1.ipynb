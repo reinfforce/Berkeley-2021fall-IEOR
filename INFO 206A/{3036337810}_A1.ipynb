{
 "cells": [
  {
   "cell_type": "code",
   "execution_count": 15,
   "metadata": {},
   "outputs": [
    {
     "data": {
      "image/svg+xml": [
       "<?xml version=\"1.0\" encoding=\"UTF-8\"?>\n",
       "<svg xmlns=\"http://www.w3.org/2000/svg\" xmlns:xlink=\"http://www.w3.org/1999/xlink\"\n",
       "     width=\"250\" height=\"100\" viewBox=\"-125.0 -50.0 250 100\">\n",
       "<defs>\n",
       "</defs>\n",
       "<text x=\"10\" y=\"-5\" font-size=\"30\" fill=\"blue\" dy=\"0em\">R</text>\n",
       "<text x=\"27\" y=\"-5\" font-size=\"30\" fill=\"red\" dy=\"0em\">e</text>\n",
       "<text x=\"44\" y=\"-5\" font-size=\"30\" fill=\"pink\" dy=\"0em\">e</text>\n",
       "<text x=\"61\" y=\"-5\" font-size=\"30\" fill=\"blue\" dy=\"0em\">s</text>\n",
       "<text x=\"78\" y=\"-5\" font-size=\"30\" fill=\"green\" dy=\"0em\">e</text>\n",
       "</svg>"
      ],
      "text/plain": [
       "<drawSvg.drawing.Drawing at 0x7fa4aefe6310>"
      ]
     },
     "execution_count": 15,
     "metadata": {},
     "output_type": "execute_result"
    }
   ],
   "source": [
    "# 1.Write a Python program that prints out a logo containing your name.\n",
    "# It's like the Google logo\n",
    "import drawSvg as draw\n",
    "\n",
    "initial_positon = 10\n",
    "gap = 17\n",
    "size = 30\n",
    "\n",
    "d = draw.Drawing(250,100, origin='center', displayInline=True)\n",
    "d.append(draw.Text('R',size, initial_positon + gap * 0,5,fill='blue'))\n",
    "d.append(draw.Text('e',size, initial_positon + gap * 1,5,fill='red'))\n",
    "d.append(draw.Text('e',size, initial_positon + gap * 2,5,fill='pink'))\n",
    "d.append(draw.Text('s',size, initial_positon + gap * 3,5,fill='blue'))\n",
    "d.append(draw.Text('e',size, initial_positon + gap * 4,5,fill='green'))\n",
    "d"
   ]
  },
  {
   "cell_type": "code",
   "execution_count": 16,
   "metadata": {},
   "outputs": [
    {
     "data": {
      "image/png": "[encoded data removed]",
      "text/plain": [
       "<drawSvg.raster.Raster at 0x7fa4aef532b0>"
      ]
     },
     "execution_count": 16,
     "metadata": {},
     "output_type": "execute_result"
    }
   ],
   "source": [
    "# 2.Write a Python program that sketches (using the drawSvg library) your favorite logo\n",
    "import drawSvg as draw\n",
    "\n",
    "d = draw.Drawing(250, 100, orgin='center', displayInline=True)\n",
    "d.append(draw.Circle(30, 50, 25, fill='white', stroke_width=5,stroke='black' ))\n",
    "d.append(draw.Circle(60, 50, 25, fill='white', stroke_width=5,stroke='black' ))\n",
    "d.append(draw.Circle(90, 50, 25, fill='white', stroke_width=5,stroke='black' ))\n",
    "d.append(draw.Circle(120, 50, 25, fill='white', stroke_width=5,stroke='black'))\n",
    "d.append(draw.Arc(30,50,25,-50,50,cw=False,\n",
    "            stroke='black', stroke_width=5, fill='none'))\n",
    "d.append(draw.Arc(30,50,25,-50,50,cw=False,\n",
    "            stroke='black', stroke_width=5, fill='none'))\n",
    "d.append(draw.Arc(60,50,25,-50,50,cw=False,\n",
    "            stroke='black', stroke_width=5, fill='none'))\n",
    "d.append(draw.Arc(90,50,25,-50,50,cw=False,\n",
    "            stroke='black', stroke_width=5, fill='none'))\n",
    "d.append(draw.Text('Audi', 20,50,2,fill='black'))\n",
    "\n",
    "d.setRenderSize(400)\n",
    "d.rasterize()"
   ]
  },
  {
   "cell_type": "code",
   "execution_count": null,
   "metadata": {},
   "outputs": [],
   "source": []
  }
 ],
 "metadata": {
  "kernelspec": {
   "display_name": "Python 3",
   "language": "python",
   "name": "python3"
  },
  "language_info": {
   "codemirror_mode": {
    "name": "ipython",
    "version": 3
   },
   "file_extension": ".py",
   "mimetype": "text/x-python",
   "name": "python",
   "nbconvert_exporter": "python",
   "pygments_lexer": "ipython3",
   "version": "3.8.3"
  },
  "toc": {
   "base_numbering": 1,
   "nav_menu": {},
   "number_sections": true,
   "sideBar": true,
   "skip_h1_title": false,
   "title_cell": "Table of Contents",
   "title_sidebar": "Contents",
   "toc_cell": false,
   "toc_position": {},
   "toc_section_display": true,
   "toc_window_display": false
  }
 },
 "nbformat": 4,
 "nbformat_minor": 4
}
