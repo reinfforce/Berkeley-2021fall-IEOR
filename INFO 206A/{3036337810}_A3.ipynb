{
 "cells": [
  {
   "cell_type": "code",
   "execution_count": 1,
   "metadata": {},
   "outputs": [
    {
     "name": "stdout",
     "output_type": "stream",
     "text": [
      "Please enter the start x-coordinate of stick A: x1a = -100\n",
      "Please enter the start y-coordinate of stick A: y1a = 100\n",
      "Please enter the end x-coordinate of stick A: x2a = -50\n",
      "Please enter the end y-coordinate of stick A: y2a = -150\n",
      "Please enter the start x-coordinate of stick B: x1b = 200\n",
      "Please enter the start y-coordinate of stick B: y1b = 150\n",
      "Please enter the end x-coordinate of stick B: x2b = 150\n",
      "Please enter the end y-coordinate of stick B: y2b = -100\n",
      "Please enter the number of strings: 36\n"
     ]
    },
    {
     "data": {
      "text/html": [
       "<img src=\"data:image/svg+xml;base64,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\">"
      ],
      "text/plain": [
       "<drawSvg.drawing.Drawing at 0x7fbc35645c10>"
      ]
     },
     "execution_count": 1,
     "metadata": {},
     "output_type": "execute_result"
    }
   ],
   "source": [
    "import drawSvg as draw\n",
    "x1a = int(input(\"Please enter the start x-coordinate of stick A: x1a = \"))\n",
    "y1a = int(input(\"Please enter the start y-coordinate of stick A: y1a = \"))\n",
    "x2a = int(input(\"Please enter the end x-coordinate of stick A: x2a = \"))\n",
    "y2a = int(input(\"Please enter the end y-coordinate of stick A: y2a = \"))\n",
    "x1b = int(input(\"Please enter the start x-coordinate of stick B: x1b = \"))\n",
    "y1b = int(input(\"Please enter the start y-coordinate of stick B: y1b = \"))\n",
    "x2b = int(input(\"Please enter the end x-coordinate of stick B: x2b = \"))\n",
    "y2b = int(input(\"Please enter the end y-coordinate of stick B: y2b = \"))\n",
    "n = int(input(\"Please enter the number of strings: \"))\n",
    "\n",
    "d = draw.Drawing(1000,1000,origin='center',displayInline=False)\n",
    "d.append(draw.Lines(x1a,y1a,\n",
    "                   x2a,y2a,\n",
    "                   stroke='red'))\n",
    "d.append(draw.Lines(x1b,y1b,\n",
    "                   x2b,y2b,\n",
    "                   stroke='red'))\n",
    "\n",
    "def drawStrings(x1a,x2a,y1a,y2a,x1b,x2b,y1b,y2b,n):\n",
    "    f = 0\n",
    "    i = 0\n",
    "    while i < n:\n",
    "        d.append(draw.Lines(x1a+f*(x2a-x1a), y1a+f*(y2a-y1a),\n",
    "                           x1b+(1-f)*(x2b-x1b),y1b+(1-f)*(y2b-y1b),\n",
    "                           stroke='blue'))\n",
    "        i = i+1\n",
    "        f = f + 1/(n-1)\n",
    "        \n",
    "drawStrings(x1a,x2a,y1a,y2a,x1b,x2b,y1b,y2b,n)\n",
    "d"
   ]
  },
  {
   "cell_type": "code",
   "execution_count": null,
   "metadata": {},
   "outputs": [],
   "source": []
  }
 ],
 "metadata": {
  "kernelspec": {
   "display_name": "Python 3",
   "language": "python",
   "name": "python3"
  },
  "language_info": {
   "codemirror_mode": {
    "name": "ipython",
    "version": 3
   },
   "file_extension": ".py",
   "mimetype": "text/x-python",
   "name": "python",
   "nbconvert_exporter": "python",
   "pygments_lexer": "ipython3",
   "version": "3.8.3"
  },
  "toc": {
   "base_numbering": 1,
   "nav_menu": {},
   "number_sections": true,
   "sideBar": true,
   "skip_h1_title": false,
   "title_cell": "Table of Contents",
   "title_sidebar": "Contents",
   "toc_cell": false,
   "toc_position": {},
   "toc_section_display": true,
   "toc_window_display": false
  }
 },
 "nbformat": 4,
 "nbformat_minor": 4
}
