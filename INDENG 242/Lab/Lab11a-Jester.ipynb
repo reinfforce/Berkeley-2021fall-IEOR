{
 "cells": [
  {
   "cell_type": "code",
   "execution_count": 1,
   "metadata": {},
   "outputs": [],
   "source": [
    "import numpy as np\n",
    "import pandas as pd"
   ]
  },
  {
   "cell_type": "markdown",
   "metadata": {},
   "source": [
    "## 1. Load Data"
   ]
  },
  {
   "cell_type": "code",
   "execution_count": 2,
   "metadata": {},
   "outputs": [],
   "source": [
    "jester_train=pd.read_csv(\"jester_train.csv\")\n",
    "jester_val=pd.read_csv(\"jester_val.csv\")\n",
    "jester_test=pd.read_csv(\"jester_test.csv\")"
   ]
  },
  {
   "cell_type": "code",
   "execution_count": 3,
   "metadata": {},
   "outputs": [],
   "source": [
    "jester_train.rename(columns={'Unnamed: 0': 'index'}, inplace=True)\n",
    "jester_val.rename(columns={'Unnamed: 0': 'index'}, inplace=True)\n",
    "jester_test.rename(columns={'Unnamed: 0': 'index'}, inplace=True)"
   ]
  },
  {
   "cell_type": "code",
   "execution_count": 4,
   "metadata": {},
   "outputs": [],
   "source": [
    "jester_train.set_index('index', inplace=True)\n",
    "jester_val.set_index('index', inplace=True)\n",
    "jester_test.set_index('index', inplace=True)"
   ]
  },
  {
   "cell_type": "markdown",
   "metadata": {},
   "source": [
    "### 1.1 Convert dataframe to matrices\n"
   ]
  },
  {
   "cell_type": "code",
   "execution_count": 5,
   "metadata": {},
   "outputs": [
    {
     "data": {
      "text/html": [
       "<div>\n",
       "<style scoped>\n",
       "    .dataframe tbody tr th:only-of-type {\n",
       "        vertical-align: middle;\n",
       "    }\n",
       "\n",
       "    .dataframe tbody tr th {\n",
       "        vertical-align: top;\n",
       "    }\n",
       "\n",
       "    .dataframe thead th {\n",
       "        text-align: right;\n",
       "    }\n",
       "</style>\n",
       "<table border=\"1\" class=\"dataframe\">\n",
       "  <thead>\n",
       "    <tr style=\"text-align: right;\">\n",
       "      <th></th>\n",
       "      <th>user</th>\n",
       "      <th>joke</th>\n",
       "      <th>rating</th>\n",
       "    </tr>\n",
       "    <tr>\n",
       "      <th>index</th>\n",
       "      <th></th>\n",
       "      <th></th>\n",
       "      <th></th>\n",
       "    </tr>\n",
       "  </thead>\n",
       "  <tbody>\n",
       "    <tr>\n",
       "      <th>1067276</th>\n",
       "      <td>14785</td>\n",
       "      <td>68</td>\n",
       "      <td>7.62</td>\n",
       "    </tr>\n",
       "    <tr>\n",
       "      <th>2245073</th>\n",
       "      <td>31024</td>\n",
       "      <td>40</td>\n",
       "      <td>-9.51</td>\n",
       "    </tr>\n",
       "    <tr>\n",
       "      <th>1125980</th>\n",
       "      <td>15586</td>\n",
       "      <td>2</td>\n",
       "      <td>3.79</td>\n",
       "    </tr>\n",
       "    <tr>\n",
       "      <th>1254386</th>\n",
       "      <td>17313</td>\n",
       "      <td>40</td>\n",
       "      <td>5.92</td>\n",
       "    </tr>\n",
       "    <tr>\n",
       "      <th>452534</th>\n",
       "      <td>6278</td>\n",
       "      <td>28</td>\n",
       "      <td>2.62</td>\n",
       "    </tr>\n",
       "    <tr>\n",
       "      <th>...</th>\n",
       "      <td>...</td>\n",
       "      <td>...</td>\n",
       "      <td>...</td>\n",
       "    </tr>\n",
       "    <tr>\n",
       "      <th>840926</th>\n",
       "      <td>11653</td>\n",
       "      <td>37</td>\n",
       "      <td>8.69</td>\n",
       "    </tr>\n",
       "    <tr>\n",
       "      <th>1434376</th>\n",
       "      <td>19794</td>\n",
       "      <td>18</td>\n",
       "      <td>0.87</td>\n",
       "    </tr>\n",
       "    <tr>\n",
       "      <th>399816</th>\n",
       "      <td>5550</td>\n",
       "      <td>22</td>\n",
       "      <td>-9.37</td>\n",
       "    </tr>\n",
       "    <tr>\n",
       "      <th>3346023</th>\n",
       "      <td>46099</td>\n",
       "      <td>29</td>\n",
       "      <td>-3.64</td>\n",
       "    </tr>\n",
       "    <tr>\n",
       "      <th>1265629</th>\n",
       "      <td>17468</td>\n",
       "      <td>32</td>\n",
       "      <td>-8.59</td>\n",
       "    </tr>\n",
       "  </tbody>\n",
       "</table>\n",
       "<p>3722724 rows × 3 columns</p>\n",
       "</div>"
      ],
      "text/plain": [
       "          user  joke  rating\n",
       "index                       \n",
       "1067276  14785    68    7.62\n",
       "2245073  31024    40   -9.51\n",
       "1125980  15586     2    3.79\n",
       "1254386  17313    40    5.92\n",
       "452534    6278    28    2.62\n",
       "...        ...   ...     ...\n",
       "840926   11653    37    8.69\n",
       "1434376  19794    18    0.87\n",
       "399816    5550    22   -9.37\n",
       "3346023  46099    29   -3.64\n",
       "1265629  17468    32   -8.59\n",
       "\n",
       "[3722724 rows x 3 columns]"
      ]
     },
     "execution_count": 5,
     "metadata": {},
     "output_type": "execute_result"
    }
   ],
   "source": [
    "jester_train"
   ]
  },
  {
   "cell_type": "markdown",
   "metadata": {},
   "source": [
    "#### 1.1.1 train set"
   ]
  },
  {
   "cell_type": "code",
   "execution_count": 6,
   "metadata": {},
   "outputs": [
    {
     "data": {
      "text/html": [
       "<div>\n",
       "<style scoped>\n",
       "    .dataframe tbody tr th:only-of-type {\n",
       "        vertical-align: middle;\n",
       "    }\n",
       "\n",
       "    .dataframe tbody tr th {\n",
       "        vertical-align: top;\n",
       "    }\n",
       "\n",
       "    .dataframe thead th {\n",
       "        text-align: right;\n",
       "    }\n",
       "</style>\n",
       "<table border=\"1\" class=\"dataframe\">\n",
       "  <thead>\n",
       "    <tr style=\"text-align: right;\">\n",
       "      <th>joke</th>\n",
       "      <th>0</th>\n",
       "      <th>1</th>\n",
       "      <th>2</th>\n",
       "      <th>3</th>\n",
       "      <th>4</th>\n",
       "      <th>5</th>\n",
       "      <th>6</th>\n",
       "      <th>7</th>\n",
       "      <th>8</th>\n",
       "      <th>9</th>\n",
       "      <th>...</th>\n",
       "      <th>90</th>\n",
       "      <th>91</th>\n",
       "      <th>92</th>\n",
       "      <th>93</th>\n",
       "      <th>94</th>\n",
       "      <th>95</th>\n",
       "      <th>96</th>\n",
       "      <th>97</th>\n",
       "      <th>98</th>\n",
       "      <th>99</th>\n",
       "    </tr>\n",
       "    <tr>\n",
       "      <th>user</th>\n",
       "      <th></th>\n",
       "      <th></th>\n",
       "      <th></th>\n",
       "      <th></th>\n",
       "      <th></th>\n",
       "      <th></th>\n",
       "      <th></th>\n",
       "      <th></th>\n",
       "      <th></th>\n",
       "      <th></th>\n",
       "      <th></th>\n",
       "      <th></th>\n",
       "      <th></th>\n",
       "      <th></th>\n",
       "      <th></th>\n",
       "      <th></th>\n",
       "      <th></th>\n",
       "      <th></th>\n",
       "      <th></th>\n",
       "      <th></th>\n",
       "      <th></th>\n",
       "    </tr>\n",
       "  </thead>\n",
       "  <tbody>\n",
       "    <tr>\n",
       "      <th>0</th>\n",
       "      <td>NaN</td>\n",
       "      <td>8.79</td>\n",
       "      <td>-9.66</td>\n",
       "      <td>-8.16</td>\n",
       "      <td>-7.52</td>\n",
       "      <td>-8.50</td>\n",
       "      <td>-9.85</td>\n",
       "      <td>NaN</td>\n",
       "      <td>NaN</td>\n",
       "      <td>-4.76</td>\n",
       "      <td>...</td>\n",
       "      <td>2.82</td>\n",
       "      <td>NaN</td>\n",
       "      <td>NaN</td>\n",
       "      <td>NaN</td>\n",
       "      <td>NaN</td>\n",
       "      <td>NaN</td>\n",
       "      <td>-5.63</td>\n",
       "      <td>NaN</td>\n",
       "      <td>NaN</td>\n",
       "      <td>NaN</td>\n",
       "    </tr>\n",
       "    <tr>\n",
       "      <th>1</th>\n",
       "      <td>4.08</td>\n",
       "      <td>-0.29</td>\n",
       "      <td>6.36</td>\n",
       "      <td>4.37</td>\n",
       "      <td>-2.38</td>\n",
       "      <td>-9.66</td>\n",
       "      <td>-0.73</td>\n",
       "      <td>-5.34</td>\n",
       "      <td>8.88</td>\n",
       "      <td>NaN</td>\n",
       "      <td>...</td>\n",
       "      <td>2.82</td>\n",
       "      <td>-4.95</td>\n",
       "      <td>-0.29</td>\n",
       "      <td>7.86</td>\n",
       "      <td>-0.19</td>\n",
       "      <td>-2.14</td>\n",
       "      <td>3.06</td>\n",
       "      <td>0.34</td>\n",
       "      <td>-4.32</td>\n",
       "      <td>1.07</td>\n",
       "    </tr>\n",
       "    <tr>\n",
       "      <th>2</th>\n",
       "      <td>NaN</td>\n",
       "      <td>NaN</td>\n",
       "      <td>NaN</td>\n",
       "      <td>NaN</td>\n",
       "      <td>9.03</td>\n",
       "      <td>9.27</td>\n",
       "      <td>9.03</td>\n",
       "      <td>9.27</td>\n",
       "      <td>NaN</td>\n",
       "      <td>NaN</td>\n",
       "      <td>...</td>\n",
       "      <td>NaN</td>\n",
       "      <td>NaN</td>\n",
       "      <td>NaN</td>\n",
       "      <td>9.08</td>\n",
       "      <td>NaN</td>\n",
       "      <td>NaN</td>\n",
       "      <td>NaN</td>\n",
       "      <td>NaN</td>\n",
       "      <td>NaN</td>\n",
       "      <td>NaN</td>\n",
       "    </tr>\n",
       "    <tr>\n",
       "      <th>3</th>\n",
       "      <td>NaN</td>\n",
       "      <td>8.35</td>\n",
       "      <td>NaN</td>\n",
       "      <td>NaN</td>\n",
       "      <td>1.80</td>\n",
       "      <td>8.16</td>\n",
       "      <td>-2.82</td>\n",
       "      <td>6.21</td>\n",
       "      <td>NaN</td>\n",
       "      <td>1.84</td>\n",
       "      <td>...</td>\n",
       "      <td>NaN</td>\n",
       "      <td>NaN</td>\n",
       "      <td>NaN</td>\n",
       "      <td>0.53</td>\n",
       "      <td>NaN</td>\n",
       "      <td>NaN</td>\n",
       "      <td>NaN</td>\n",
       "      <td>NaN</td>\n",
       "      <td>NaN</td>\n",
       "      <td>NaN</td>\n",
       "    </tr>\n",
       "    <tr>\n",
       "      <th>4</th>\n",
       "      <td>8.50</td>\n",
       "      <td>4.61</td>\n",
       "      <td>-4.17</td>\n",
       "      <td>-5.39</td>\n",
       "      <td>1.36</td>\n",
       "      <td>1.60</td>\n",
       "      <td>7.04</td>\n",
       "      <td>4.61</td>\n",
       "      <td>-0.44</td>\n",
       "      <td>5.73</td>\n",
       "      <td>...</td>\n",
       "      <td>NaN</td>\n",
       "      <td>5.58</td>\n",
       "      <td>4.27</td>\n",
       "      <td>5.19</td>\n",
       "      <td>5.73</td>\n",
       "      <td>1.55</td>\n",
       "      <td>3.11</td>\n",
       "      <td>6.55</td>\n",
       "      <td>1.80</td>\n",
       "      <td>1.60</td>\n",
       "    </tr>\n",
       "    <tr>\n",
       "      <th>...</th>\n",
       "      <td>...</td>\n",
       "      <td>...</td>\n",
       "      <td>...</td>\n",
       "      <td>...</td>\n",
       "      <td>...</td>\n",
       "      <td>...</td>\n",
       "      <td>...</td>\n",
       "      <td>...</td>\n",
       "      <td>...</td>\n",
       "      <td>...</td>\n",
       "      <td>...</td>\n",
       "      <td>...</td>\n",
       "      <td>...</td>\n",
       "      <td>...</td>\n",
       "      <td>...</td>\n",
       "      <td>...</td>\n",
       "      <td>...</td>\n",
       "      <td>...</td>\n",
       "      <td>...</td>\n",
       "      <td>...</td>\n",
       "      <td>...</td>\n",
       "    </tr>\n",
       "    <tr>\n",
       "      <th>73416</th>\n",
       "      <td>NaN</td>\n",
       "      <td>NaN</td>\n",
       "      <td>NaN</td>\n",
       "      <td>NaN</td>\n",
       "      <td>5.78</td>\n",
       "      <td>8.45</td>\n",
       "      <td>NaN</td>\n",
       "      <td>8.20</td>\n",
       "      <td>NaN</td>\n",
       "      <td>8.50</td>\n",
       "      <td>...</td>\n",
       "      <td>NaN</td>\n",
       "      <td>NaN</td>\n",
       "      <td>NaN</td>\n",
       "      <td>NaN</td>\n",
       "      <td>NaN</td>\n",
       "      <td>NaN</td>\n",
       "      <td>NaN</td>\n",
       "      <td>NaN</td>\n",
       "      <td>NaN</td>\n",
       "      <td>NaN</td>\n",
       "    </tr>\n",
       "    <tr>\n",
       "      <th>73417</th>\n",
       "      <td>NaN</td>\n",
       "      <td>NaN</td>\n",
       "      <td>NaN</td>\n",
       "      <td>NaN</td>\n",
       "      <td>5.24</td>\n",
       "      <td>NaN</td>\n",
       "      <td>NaN</td>\n",
       "      <td>5.68</td>\n",
       "      <td>NaN</td>\n",
       "      <td>NaN</td>\n",
       "      <td>...</td>\n",
       "      <td>NaN</td>\n",
       "      <td>NaN</td>\n",
       "      <td>NaN</td>\n",
       "      <td>NaN</td>\n",
       "      <td>NaN</td>\n",
       "      <td>NaN</td>\n",
       "      <td>NaN</td>\n",
       "      <td>NaN</td>\n",
       "      <td>NaN</td>\n",
       "      <td>NaN</td>\n",
       "    </tr>\n",
       "    <tr>\n",
       "      <th>73418</th>\n",
       "      <td>NaN</td>\n",
       "      <td>NaN</td>\n",
       "      <td>NaN</td>\n",
       "      <td>NaN</td>\n",
       "      <td>-3.93</td>\n",
       "      <td>NaN</td>\n",
       "      <td>-9.03</td>\n",
       "      <td>-2.67</td>\n",
       "      <td>NaN</td>\n",
       "      <td>NaN</td>\n",
       "      <td>...</td>\n",
       "      <td>NaN</td>\n",
       "      <td>NaN</td>\n",
       "      <td>NaN</td>\n",
       "      <td>NaN</td>\n",
       "      <td>NaN</td>\n",
       "      <td>NaN</td>\n",
       "      <td>NaN</td>\n",
       "      <td>NaN</td>\n",
       "      <td>NaN</td>\n",
       "      <td>NaN</td>\n",
       "    </tr>\n",
       "    <tr>\n",
       "      <th>73419</th>\n",
       "      <td>NaN</td>\n",
       "      <td>NaN</td>\n",
       "      <td>NaN</td>\n",
       "      <td>NaN</td>\n",
       "      <td>9.42</td>\n",
       "      <td>9.66</td>\n",
       "      <td>NaN</td>\n",
       "      <td>9.17</td>\n",
       "      <td>NaN</td>\n",
       "      <td>NaN</td>\n",
       "      <td>...</td>\n",
       "      <td>NaN</td>\n",
       "      <td>NaN</td>\n",
       "      <td>NaN</td>\n",
       "      <td>NaN</td>\n",
       "      <td>NaN</td>\n",
       "      <td>NaN</td>\n",
       "      <td>NaN</td>\n",
       "      <td>NaN</td>\n",
       "      <td>NaN</td>\n",
       "      <td>NaN</td>\n",
       "    </tr>\n",
       "    <tr>\n",
       "      <th>73420</th>\n",
       "      <td>NaN</td>\n",
       "      <td>NaN</td>\n",
       "      <td>NaN</td>\n",
       "      <td>NaN</td>\n",
       "      <td>0.19</td>\n",
       "      <td>NaN</td>\n",
       "      <td>-1.50</td>\n",
       "      <td>NaN</td>\n",
       "      <td>NaN</td>\n",
       "      <td>NaN</td>\n",
       "      <td>...</td>\n",
       "      <td>NaN</td>\n",
       "      <td>NaN</td>\n",
       "      <td>NaN</td>\n",
       "      <td>NaN</td>\n",
       "      <td>NaN</td>\n",
       "      <td>NaN</td>\n",
       "      <td>NaN</td>\n",
       "      <td>NaN</td>\n",
       "      <td>NaN</td>\n",
       "      <td>NaN</td>\n",
       "    </tr>\n",
       "  </tbody>\n",
       "</table>\n",
       "<p>73421 rows × 100 columns</p>\n",
       "</div>"
      ],
      "text/plain": [
       "joke     0     1     2     3     4     5     6     7     8     9   ...    90  \\\n",
       "user                                                               ...         \n",
       "0       NaN  8.79 -9.66 -8.16 -7.52 -8.50 -9.85   NaN   NaN -4.76  ...  2.82   \n",
       "1      4.08 -0.29  6.36  4.37 -2.38 -9.66 -0.73 -5.34  8.88   NaN  ...  2.82   \n",
       "2       NaN   NaN   NaN   NaN  9.03  9.27  9.03  9.27   NaN   NaN  ...   NaN   \n",
       "3       NaN  8.35   NaN   NaN  1.80  8.16 -2.82  6.21   NaN  1.84  ...   NaN   \n",
       "4      8.50  4.61 -4.17 -5.39  1.36  1.60  7.04  4.61 -0.44  5.73  ...   NaN   \n",
       "...     ...   ...   ...   ...   ...   ...   ...   ...   ...   ...  ...   ...   \n",
       "73416   NaN   NaN   NaN   NaN  5.78  8.45   NaN  8.20   NaN  8.50  ...   NaN   \n",
       "73417   NaN   NaN   NaN   NaN  5.24   NaN   NaN  5.68   NaN   NaN  ...   NaN   \n",
       "73418   NaN   NaN   NaN   NaN -3.93   NaN -9.03 -2.67   NaN   NaN  ...   NaN   \n",
       "73419   NaN   NaN   NaN   NaN  9.42  9.66   NaN  9.17   NaN   NaN  ...   NaN   \n",
       "73420   NaN   NaN   NaN   NaN  0.19   NaN -1.50   NaN   NaN   NaN  ...   NaN   \n",
       "\n",
       "joke     91    92    93    94    95    96    97    98    99  \n",
       "user                                                         \n",
       "0       NaN   NaN   NaN   NaN   NaN -5.63   NaN   NaN   NaN  \n",
       "1     -4.95 -0.29  7.86 -0.19 -2.14  3.06  0.34 -4.32  1.07  \n",
       "2       NaN   NaN  9.08   NaN   NaN   NaN   NaN   NaN   NaN  \n",
       "3       NaN   NaN  0.53   NaN   NaN   NaN   NaN   NaN   NaN  \n",
       "4      5.58  4.27  5.19  5.73  1.55  3.11  6.55  1.80  1.60  \n",
       "...     ...   ...   ...   ...   ...   ...   ...   ...   ...  \n",
       "73416   NaN   NaN   NaN   NaN   NaN   NaN   NaN   NaN   NaN  \n",
       "73417   NaN   NaN   NaN   NaN   NaN   NaN   NaN   NaN   NaN  \n",
       "73418   NaN   NaN   NaN   NaN   NaN   NaN   NaN   NaN   NaN  \n",
       "73419   NaN   NaN   NaN   NaN   NaN   NaN   NaN   NaN   NaN  \n",
       "73420   NaN   NaN   NaN   NaN   NaN   NaN   NaN   NaN   NaN  \n",
       "\n",
       "[73421 rows x 100 columns]"
      ]
     },
     "execution_count": 6,
     "metadata": {},
     "output_type": "execute_result"
    }
   ],
   "source": [
    "jester_train.sort_index()\n",
    "jester_train_df = jester_train.pivot_table(index=\"user\", columns = \"joke\", values = \"rating\")\n",
    "jester_train_df"
   ]
  },
  {
   "cell_type": "code",
   "execution_count": 7,
   "metadata": {},
   "outputs": [
    {
     "data": {
      "text/plain": [
       "array([[  nan,  8.79, -9.66, ...,   nan,   nan,   nan],\n",
       "       [ 4.08, -0.29,  6.36, ...,  0.34, -4.32,  1.07],\n",
       "       [  nan,   nan,   nan, ...,   nan,   nan,   nan],\n",
       "       ...,\n",
       "       [  nan,   nan,   nan, ...,   nan,   nan,   nan],\n",
       "       [  nan,   nan,   nan, ...,   nan,   nan,   nan],\n",
       "       [  nan,   nan,   nan, ...,   nan,   nan,   nan]])"
      ]
     },
     "execution_count": 7,
     "metadata": {},
     "output_type": "execute_result"
    }
   ],
   "source": [
    "jester_train_mat = jester_train_df.to_numpy()\n",
    "jester_train_mat"
   ]
  },
  {
   "cell_type": "code",
   "execution_count": 8,
   "metadata": {},
   "outputs": [
    {
     "data": {
      "text/html": [
       "<div>\n",
       "<style scoped>\n",
       "    .dataframe tbody tr th:only-of-type {\n",
       "        vertical-align: middle;\n",
       "    }\n",
       "\n",
       "    .dataframe tbody tr th {\n",
       "        vertical-align: top;\n",
       "    }\n",
       "\n",
       "    .dataframe thead th {\n",
       "        text-align: right;\n",
       "    }\n",
       "</style>\n",
       "<table border=\"1\" class=\"dataframe\">\n",
       "  <thead>\n",
       "    <tr style=\"text-align: right;\">\n",
       "      <th>joke</th>\n",
       "      <th>0</th>\n",
       "      <th>1</th>\n",
       "      <th>2</th>\n",
       "      <th>3</th>\n",
       "      <th>4</th>\n",
       "      <th>5</th>\n",
       "      <th>6</th>\n",
       "      <th>7</th>\n",
       "      <th>8</th>\n",
       "      <th>9</th>\n",
       "      <th>...</th>\n",
       "      <th>90</th>\n",
       "      <th>91</th>\n",
       "      <th>92</th>\n",
       "      <th>93</th>\n",
       "      <th>94</th>\n",
       "      <th>95</th>\n",
       "      <th>96</th>\n",
       "      <th>97</th>\n",
       "      <th>98</th>\n",
       "      <th>99</th>\n",
       "    </tr>\n",
       "    <tr>\n",
       "      <th>user</th>\n",
       "      <th></th>\n",
       "      <th></th>\n",
       "      <th></th>\n",
       "      <th></th>\n",
       "      <th></th>\n",
       "      <th></th>\n",
       "      <th></th>\n",
       "      <th></th>\n",
       "      <th></th>\n",
       "      <th></th>\n",
       "      <th></th>\n",
       "      <th></th>\n",
       "      <th></th>\n",
       "      <th></th>\n",
       "      <th></th>\n",
       "      <th></th>\n",
       "      <th></th>\n",
       "      <th></th>\n",
       "      <th></th>\n",
       "      <th></th>\n",
       "      <th></th>\n",
       "    </tr>\n",
       "  </thead>\n",
       "  <tbody>\n",
       "    <tr>\n",
       "      <th>0</th>\n",
       "      <td>NaN</td>\n",
       "      <td>8.79</td>\n",
       "      <td>-9.66</td>\n",
       "      <td>-8.16</td>\n",
       "      <td>-7.52</td>\n",
       "      <td>-8.50</td>\n",
       "      <td>-9.85</td>\n",
       "      <td>NaN</td>\n",
       "      <td>NaN</td>\n",
       "      <td>-4.76</td>\n",
       "      <td>...</td>\n",
       "      <td>2.82</td>\n",
       "      <td>NaN</td>\n",
       "      <td>NaN</td>\n",
       "      <td>NaN</td>\n",
       "      <td>NaN</td>\n",
       "      <td>NaN</td>\n",
       "      <td>-5.63</td>\n",
       "      <td>NaN</td>\n",
       "      <td>NaN</td>\n",
       "      <td>NaN</td>\n",
       "    </tr>\n",
       "    <tr>\n",
       "      <th>1</th>\n",
       "      <td>4.08</td>\n",
       "      <td>-0.29</td>\n",
       "      <td>6.36</td>\n",
       "      <td>4.37</td>\n",
       "      <td>-2.38</td>\n",
       "      <td>-9.66</td>\n",
       "      <td>-0.73</td>\n",
       "      <td>-5.34</td>\n",
       "      <td>8.88</td>\n",
       "      <td>NaN</td>\n",
       "      <td>...</td>\n",
       "      <td>2.82</td>\n",
       "      <td>-4.95</td>\n",
       "      <td>-0.29</td>\n",
       "      <td>7.86</td>\n",
       "      <td>-0.19</td>\n",
       "      <td>-2.14</td>\n",
       "      <td>3.06</td>\n",
       "      <td>0.34</td>\n",
       "      <td>-4.32</td>\n",
       "      <td>1.07</td>\n",
       "    </tr>\n",
       "    <tr>\n",
       "      <th>2</th>\n",
       "      <td>NaN</td>\n",
       "      <td>NaN</td>\n",
       "      <td>NaN</td>\n",
       "      <td>NaN</td>\n",
       "      <td>9.03</td>\n",
       "      <td>9.27</td>\n",
       "      <td>9.03</td>\n",
       "      <td>9.27</td>\n",
       "      <td>NaN</td>\n",
       "      <td>NaN</td>\n",
       "      <td>...</td>\n",
       "      <td>NaN</td>\n",
       "      <td>NaN</td>\n",
       "      <td>NaN</td>\n",
       "      <td>9.08</td>\n",
       "      <td>NaN</td>\n",
       "      <td>NaN</td>\n",
       "      <td>NaN</td>\n",
       "      <td>NaN</td>\n",
       "      <td>NaN</td>\n",
       "      <td>NaN</td>\n",
       "    </tr>\n",
       "    <tr>\n",
       "      <th>3</th>\n",
       "      <td>NaN</td>\n",
       "      <td>8.35</td>\n",
       "      <td>NaN</td>\n",
       "      <td>NaN</td>\n",
       "      <td>1.80</td>\n",
       "      <td>8.16</td>\n",
       "      <td>-2.82</td>\n",
       "      <td>6.21</td>\n",
       "      <td>NaN</td>\n",
       "      <td>1.84</td>\n",
       "      <td>...</td>\n",
       "      <td>NaN</td>\n",
       "      <td>NaN</td>\n",
       "      <td>NaN</td>\n",
       "      <td>0.53</td>\n",
       "      <td>NaN</td>\n",
       "      <td>NaN</td>\n",
       "      <td>NaN</td>\n",
       "      <td>NaN</td>\n",
       "      <td>NaN</td>\n",
       "      <td>NaN</td>\n",
       "    </tr>\n",
       "    <tr>\n",
       "      <th>4</th>\n",
       "      <td>8.50</td>\n",
       "      <td>4.61</td>\n",
       "      <td>-4.17</td>\n",
       "      <td>-5.39</td>\n",
       "      <td>1.36</td>\n",
       "      <td>1.60</td>\n",
       "      <td>7.04</td>\n",
       "      <td>4.61</td>\n",
       "      <td>-0.44</td>\n",
       "      <td>5.73</td>\n",
       "      <td>...</td>\n",
       "      <td>NaN</td>\n",
       "      <td>5.58</td>\n",
       "      <td>4.27</td>\n",
       "      <td>5.19</td>\n",
       "      <td>5.73</td>\n",
       "      <td>1.55</td>\n",
       "      <td>3.11</td>\n",
       "      <td>6.55</td>\n",
       "      <td>1.80</td>\n",
       "      <td>1.60</td>\n",
       "    </tr>\n",
       "  </tbody>\n",
       "</table>\n",
       "<p>5 rows × 100 columns</p>\n",
       "</div>"
      ],
      "text/plain": [
       "joke    0     1     2     3     4     5     6     7     8     9   ...    90  \\\n",
       "user                                                              ...         \n",
       "0      NaN  8.79 -9.66 -8.16 -7.52 -8.50 -9.85   NaN   NaN -4.76  ...  2.82   \n",
       "1     4.08 -0.29  6.36  4.37 -2.38 -9.66 -0.73 -5.34  8.88   NaN  ...  2.82   \n",
       "2      NaN   NaN   NaN   NaN  9.03  9.27  9.03  9.27   NaN   NaN  ...   NaN   \n",
       "3      NaN  8.35   NaN   NaN  1.80  8.16 -2.82  6.21   NaN  1.84  ...   NaN   \n",
       "4     8.50  4.61 -4.17 -5.39  1.36  1.60  7.04  4.61 -0.44  5.73  ...   NaN   \n",
       "\n",
       "joke    91    92    93    94    95    96    97    98    99  \n",
       "user                                                        \n",
       "0      NaN   NaN   NaN   NaN   NaN -5.63   NaN   NaN   NaN  \n",
       "1    -4.95 -0.29  7.86 -0.19 -2.14  3.06  0.34 -4.32  1.07  \n",
       "2      NaN   NaN  9.08   NaN   NaN   NaN   NaN   NaN   NaN  \n",
       "3      NaN   NaN  0.53   NaN   NaN   NaN   NaN   NaN   NaN  \n",
       "4     5.58  4.27  5.19  5.73  1.55  3.11  6.55  1.80  1.60  \n",
       "\n",
       "[5 rows x 100 columns]"
      ]
     },
     "execution_count": 8,
     "metadata": {},
     "output_type": "execute_result"
    }
   ],
   "source": [
    "jester_train_df.head(5)"
   ]
  },
  {
   "cell_type": "code",
   "execution_count": 9,
   "metadata": {},
   "outputs": [
    {
     "name": "stdout",
     "output_type": "stream",
     "text": [
      "73421\n",
      "(73421, 100)\n"
     ]
    }
   ],
   "source": [
    "# sanity check: the number of unique users in the training set\n",
    "print(len(np.unique(jester_train.user)))\n",
    "print(jester_train_mat.shape)"
   ]
  },
  {
   "cell_type": "code",
   "execution_count": 10,
   "metadata": {},
   "outputs": [
    {
     "data": {
      "text/plain": [
       "array([[False,  True,  True, ..., False, False, False],\n",
       "       [ True,  True,  True, ...,  True,  True,  True],\n",
       "       [False, False, False, ..., False, False, False],\n",
       "       ...,\n",
       "       [False, False, False, ..., False, False, False],\n",
       "       [False, False, False, ..., False, False, False],\n",
       "       [False, False, False, ..., False, False, False]])"
      ]
     },
     "execution_count": 10,
     "metadata": {},
     "output_type": "execute_result"
    }
   ],
   "source": [
    "# create a mask for the subset of the data\n",
    "jester_train_mask = ~np.isnan(jester_train_mat)\n",
    "jester_train_mask"
   ]
  },
  {
   "cell_type": "code",
   "execution_count": 11,
   "metadata": {},
   "outputs": [
    {
     "data": {
      "text/plain": [
       "3722724"
      ]
     },
     "execution_count": 11,
     "metadata": {},
     "output_type": "execute_result"
    }
   ],
   "source": [
    "np.sum(jester_train_mask)"
   ]
  },
  {
   "cell_type": "markdown",
   "metadata": {},
   "source": [
    "#### 1.1.2. validation set"
   ]
  },
  {
   "cell_type": "code",
   "execution_count": 12,
   "metadata": {
    "scrolled": true
   },
   "outputs": [],
   "source": [
    "jester_val.sort_index()\n",
    "jester_val_df = jester_val.pivot_table(index=\"user\", columns = \"joke\", values = \"rating\", dropna=False)"
   ]
  },
  {
   "cell_type": "code",
   "execution_count": 13,
   "metadata": {},
   "outputs": [],
   "source": [
    "# Some users are not included in the validation or test set, due to the small set size. Therefore, we need to merge\n",
    "# the validation and test set with the complete list of users.\n",
    "user_df = jester_train_df.reset_index()[['user']]"
   ]
  },
  {
   "cell_type": "code",
   "execution_count": 14,
   "metadata": {},
   "outputs": [
    {
     "data": {
      "text/plain": [
       "array([[-7.82,   nan,   nan, ...,   nan,   nan,   nan],\n",
       "       [  nan,   nan,   nan, ...,   nan,   nan,   nan],\n",
       "       [  nan,   nan,   nan, ...,   nan,   nan,   nan],\n",
       "       ...,\n",
       "       [  nan,   nan,   nan, ...,   nan,   nan,   nan],\n",
       "       [  nan,   nan,   nan, ...,   nan,   nan,   nan],\n",
       "       [  nan,   nan,   nan, ...,   nan,   nan,   nan]])"
      ]
     },
     "execution_count": 14,
     "metadata": {},
     "output_type": "execute_result"
    }
   ],
   "source": [
    "jester_val_df=pd.merge(user_df,jester_val_df.reset_index(),how='outer',on='user')\n",
    "jester_val_df=jester_val_df.set_index('user')\n",
    "jester_val_mat = jester_val_df.to_numpy()\n",
    "jester_val_mat"
   ]
  },
  {
   "cell_type": "code",
   "execution_count": 15,
   "metadata": {},
   "outputs": [
    {
     "name": "stdout",
     "output_type": "stream",
     "text": [
      "64072\n",
      "(73421, 100)\n"
     ]
    }
   ],
   "source": [
    "# sanity check: the number of unique users in the training set\n",
    "print(len(np.unique(jester_val.user)))\n",
    "print(jester_val_mat.shape)"
   ]
  },
  {
   "cell_type": "code",
   "execution_count": 16,
   "metadata": {
    "scrolled": true
   },
   "outputs": [
    {
     "data": {
      "text/plain": [
       "206818"
      ]
     },
     "execution_count": 16,
     "metadata": {},
     "output_type": "execute_result"
    }
   ],
   "source": [
    "jester_val_mask = ~np.isnan(jester_val_mat)\n",
    "np.sum(jester_val_mask)"
   ]
  },
  {
   "cell_type": "markdown",
   "metadata": {},
   "source": [
    "#### 1.1.3. test set"
   ]
  },
  {
   "cell_type": "code",
   "execution_count": 17,
   "metadata": {
    "scrolled": false
   },
   "outputs": [],
   "source": [
    "jester_test.sort_index()\n",
    "jester_test_df = jester_test.pivot_table(index=\"user\", columns = \"joke\", values = \"rating\")"
   ]
  },
  {
   "cell_type": "code",
   "execution_count": 18,
   "metadata": {},
   "outputs": [
    {
     "data": {
      "text/plain": [
       "array([[nan, nan, nan, ..., nan, nan, nan],\n",
       "       [nan, nan, nan, ..., nan, nan, nan],\n",
       "       [nan, nan, nan, ..., nan, nan, nan],\n",
       "       ...,\n",
       "       [nan, nan, nan, ..., nan, nan, nan],\n",
       "       [nan, nan, nan, ..., nan, nan, nan],\n",
       "       [nan, nan, nan, ..., nan, nan, nan]])"
      ]
     },
     "execution_count": 18,
     "metadata": {},
     "output_type": "execute_result"
    }
   ],
   "source": [
    "jester_test_df=pd.merge(user_df,jester_test_df.reset_index(),how='outer',on='user')\n",
    "jester_test_df=jester_test_df.set_index('user')\n",
    "jester_test_mat = jester_test_df.to_numpy()\n",
    "jester_test_mat"
   ]
  },
  {
   "cell_type": "code",
   "execution_count": 19,
   "metadata": {},
   "outputs": [
    {
     "name": "stdout",
     "output_type": "stream",
     "text": [
      "63799\n",
      "(73421, 100)\n"
     ]
    }
   ],
   "source": [
    "# sanity check: the number of unique users in the training set\n",
    "print(len(np.unique(jester_test.user)))\n",
    "print(jester_test_mat.shape)"
   ]
  },
  {
   "cell_type": "code",
   "execution_count": 20,
   "metadata": {},
   "outputs": [
    {
     "data": {
      "text/plain": [
       "206818"
      ]
     },
     "execution_count": 20,
     "metadata": {},
     "output_type": "execute_result"
    }
   ],
   "source": [
    "jester_test_mask = ~np.isnan(jester_test_mat)\n",
    "np.sum(jester_test_mask)"
   ]
  },
  {
   "cell_type": "markdown",
   "metadata": {},
   "source": [
    "## 2. Analysis/Modeling"
   ]
  },
  {
   "cell_type": "markdown",
   "metadata": {},
   "source": [
    "### 2.1 Biscale Centering"
   ]
  },
  {
   "cell_type": "markdown",
   "metadata": {},
   "source": [
    "#### 2.1.1 Fitting"
   ]
  },
  {
   "cell_type": "code",
   "execution_count": 21,
   "metadata": {},
   "outputs": [
    {
     "name": "stdout",
     "output_type": "stream",
     "text": [
      "[BiScaler] Initial log residual value = 13.262872\n",
      "[BiScaler] Iter 1: log residual = 5.192479, log improvement ratio=8.070393\n",
      "[BiScaler] Iter 2: log residual = 1.736193, log improvement ratio=3.456287\n",
      "[BiScaler] Iter 3: log residual = -1.696396, log improvement ratio=3.432589\n",
      "[BiScaler] Iter 4: log residual = -5.134444, log improvement ratio=3.438049\n",
      "[BiScaler] Iter 5: log residual = -8.577467, log improvement ratio=3.443022\n",
      "[BiScaler] Iter 6: log residual = -12.023553, log improvement ratio=3.446086\n",
      "[BiScaler] Iter 7: log residual = -15.471356, log improvement ratio=3.447803\n",
      "[BiScaler] Iter 8: log residual = -18.920092, log improvement ratio=3.448736\n",
      "[BiScaler] Iter 9: log residual = -22.369327, log improvement ratio=3.449235\n",
      "[BiScaler] Iter 10: log residual = -25.818829, log improvement ratio=3.449501\n",
      "[BiScaler] Iter 11: log residual = -29.268472, log improvement ratio=3.449643\n",
      "[BiScaler] Iter 12: log residual = -32.718190, log improvement ratio=3.449719\n",
      "[BiScaler] Iter 13: log residual = -36.167950, log improvement ratio=3.449759\n",
      "[BiScaler] Iter 14: log residual = -39.617721, log improvement ratio=3.449771\n",
      "[BiScaler] Iter 15: log residual = -43.067480, log improvement ratio=3.449759\n",
      "[BiScaler] Iter 16: log residual = -46.517679, log improvement ratio=3.450199\n",
      "[BiScaler] Iter 17: log residual = -49.967745, log improvement ratio=3.450066\n",
      "[BiScaler] Iter 18: log residual = -53.404975, log improvement ratio=3.437230\n",
      "[BiScaler] Iter 19: log residual = -56.841760, log improvement ratio=3.436785\n",
      "[BiScaler] Iter 20: log residual = -59.579651, log improvement ratio=2.737891\n",
      "[BiScaler] Iter 21: log residual = -60.219164, log improvement ratio=0.639513\n",
      "[BiScaler] Iter 22: log residual = -60.229923, log improvement ratio=0.010759\n",
      "[BiScaler] Iter 23: log residual = -60.237997, log improvement ratio=0.008074\n",
      "[BiScaler] Iter 24: log residual = -60.238443, log improvement ratio=0.000446\n"
     ]
    }
   ],
   "source": [
    "from fancyimpute import BiScaler\n",
    "\n",
    "#Simple Additive Model\n",
    "jester_biscaler = BiScaler(scale_rows=False, scale_columns=False, verbose=True)\n",
    "jester_train_mat_centered = jester_biscaler.fit_transform(jester_train_mat)"
   ]
  },
  {
   "cell_type": "code",
   "execution_count": 22,
   "metadata": {
    "scrolled": true
   },
   "outputs": [
    {
     "name": "stdout",
     "output_type": "stream",
     "text": [
      "[-4.0563674   1.85670453  5.79481109 ...  0.07215497  7.62543926\n",
      "  3.43792238]\n",
      "[ 0.88002184  0.20335836  0.13702263 -1.55889359  0.40186422  1.25823208\n",
      " -0.46380327 -0.83410596 -0.7333004   1.09197592  1.62627459  1.43219241\n",
      " -1.78558413  1.27365104 -1.94791109 -2.94668858 -1.12632167 -0.74718082\n",
      "  0.34680648 -1.04688869  2.15834856  0.8112097   0.19877532 -1.79468183\n",
      "  0.36921514  1.21080079  3.08651889  1.30637789  2.76311129 -0.6111657\n",
      "  2.10861963  2.99368551 -1.50666212  0.94009837  2.86634856  3.07307796\n",
      " -1.48786439  1.25753443  1.09564343  0.89781076 -0.50344346  1.85805695\n",
      " -0.87100265 -2.06095518  0.96145011  1.36589801  1.3208643   1.70460908\n",
      "  2.53752982  3.4649919  -0.83649919 -0.21429342  2.73778281  2.4751548\n",
      "  0.36123346  1.70920616 -2.03648926 -3.76712552 -0.6133534  -0.48995097\n",
      "  2.07663486  2.7087872   0.15222045 -0.81232519  2.19909255  2.43293151\n",
      " -0.93635409  2.43329616  2.39146292  0.53851135 -1.21412516  2.42435842\n",
      "  0.74915093 -1.78266829 -0.6912309   2.13422408  0.44519782  1.41953005\n",
      " -0.34789604  0.80017332  1.55949679  0.4243806   1.76344969  0.32199108\n",
      "  0.42272002  0.0533192   1.62369487  1.73771068  3.15244854  0.18399607\n",
      "  1.68959598  0.89676573  2.03797338  0.85949528  0.83500846  1.16116384\n",
      "  1.29406046  0.66307011 -0.2535177   0.79602276]\n"
     ]
    }
   ],
   "source": [
    "# Access the alpha (row_mean) and beta (column) values\n",
    "print(jester_biscaler.row_means)\n",
    "print(jester_biscaler.column_means)"
   ]
  },
  {
   "cell_type": "code",
   "execution_count": 23,
   "metadata": {},
   "outputs": [
    {
     "data": {
      "text/plain": [
       "array([[  nan,  8.79, -9.66, ...,   nan,   nan,   nan],\n",
       "       [ 4.08, -0.29,  6.36, ...,  0.34, -4.32,  1.07],\n",
       "       [  nan,   nan,   nan, ...,   nan,   nan,   nan],\n",
       "       ...,\n",
       "       [  nan,   nan,   nan, ...,   nan,   nan,   nan],\n",
       "       [  nan,   nan,   nan, ...,   nan,   nan,   nan],\n",
       "       [  nan,   nan,   nan, ...,   nan,   nan,   nan]])"
      ]
     },
     "execution_count": 23,
     "metadata": {},
     "output_type": "execute_result"
    }
   ],
   "source": [
    "jester_train_mat"
   ]
  },
  {
   "cell_type": "code",
   "execution_count": 24,
   "metadata": {
    "scrolled": true
   },
   "outputs": [
    {
     "data": {
      "text/plain": [
       "array([[        nan, 12.64300904, -5.74065522, ...,         nan,\n",
       "                nan,         nan],\n",
       "       [ 1.34327363, -2.35006289,  4.36627284, ..., -2.17977464,\n",
       "        -5.92318683, -1.58272729],\n",
       "       [        nan,         nan,         nan, ...,         nan,\n",
       "                nan,         nan],\n",
       "       ...,\n",
       "       [        nan,         nan,         nan, ...,         nan,\n",
       "                nan,         nan],\n",
       "       [        nan,         nan,         nan, ...,         nan,\n",
       "                nan,         nan],\n",
       "       [        nan,         nan,         nan, ...,         nan,\n",
       "                nan,         nan]])"
      ]
     },
     "execution_count": 24,
     "metadata": {},
     "output_type": "execute_result"
    }
   ],
   "source": [
    "jester_train_mat_centered"
   ]
  },
  {
   "cell_type": "markdown",
   "metadata": {},
   "source": [
    "#### 2.1.2 Estimation"
   ]
  },
  {
   "cell_type": "code",
   "execution_count": 25,
   "metadata": {
    "scrolled": true
   },
   "outputs": [
    {
     "data": {
      "text/plain": [
       "array([[ 0.        , 12.64300904, -5.74065522, ...,  0.        ,\n",
       "         0.        ,  0.        ],\n",
       "       [ 1.34327363, -2.35006289,  4.36627284, ..., -2.17977464,\n",
       "        -5.92318683, -1.58272729],\n",
       "       [ 0.        ,  0.        ,  0.        , ...,  0.        ,\n",
       "         0.        ,  0.        ],\n",
       "       ...,\n",
       "       [ 0.        ,  0.        ,  0.        , ...,  0.        ,\n",
       "         0.        ,  0.        ],\n",
       "       [ 0.        ,  0.        ,  0.        , ...,  0.        ,\n",
       "         0.        ,  0.        ],\n",
       "       [ 0.        ,  0.        ,  0.        , ...,  0.        ,\n",
       "         0.        ,  0.        ]])"
      ]
     },
     "execution_count": 25,
     "metadata": {},
     "output_type": "execute_result"
    }
   ],
   "source": [
    "import copy\n",
    "jester_centered_0 = copy.copy(jester_train_mat_centered)\n",
    "jester_centered_0[np.isnan(jester_centered_0)]=0\n",
    "jester_centered_0"
   ]
  },
  {
   "cell_type": "code",
   "execution_count": 26,
   "metadata": {},
   "outputs": [
    {
     "data": {
      "text/plain": [
       "array([[-3.17634556,  8.79      , -9.66      , ..., -3.3932973 ,\n",
       "        -4.30988511, -3.26034464],\n",
       "       [ 4.08      , -0.29      ,  6.36      , ...,  0.34      ,\n",
       "        -4.32      ,  1.07      ],\n",
       "       [ 6.67483293,  5.99816945,  5.93183372, ...,  6.4578812 ,\n",
       "         5.54129338,  6.59083385],\n",
       "       ...,\n",
       "       [ 0.95217681,  0.27551333,  0.2091776 , ...,  0.73522508,\n",
       "        -0.18136273,  0.86817773],\n",
       "       [ 8.5054611 ,  7.82879763,  7.76246189, ...,  8.28850937,\n",
       "         7.37192156,  8.42146202],\n",
       "       [ 4.31794422,  3.64128074,  3.57494501, ...,  4.10099249,\n",
       "         3.18440468,  4.23394514]])"
      ]
     },
     "execution_count": 26,
     "metadata": {},
     "output_type": "execute_result"
    }
   ],
   "source": [
    "jester_BiScaler_filled = jester_biscaler.inverse_transform(jester_centered_0)\n",
    "jester_BiScaler_filled"
   ]
  },
  {
   "cell_type": "markdown",
   "metadata": {},
   "source": [
    "### 2.2 Softimpute"
   ]
  },
  {
   "cell_type": "code",
   "execution_count": 27,
   "metadata": {},
   "outputs": [
    {
     "name": "stdout",
     "output_type": "stream",
     "text": [
      "[SoftImpute] Max Singular Value of X_init = 1908.373865\n",
      "[SoftImpute] Iter 1: observed MAE=2.999725 rank=5\n",
      "[SoftImpute] Iter 2: observed MAE=2.935306 rank=5\n",
      "[SoftImpute] Iter 3: observed MAE=2.912739 rank=5\n",
      "[SoftImpute] Iter 4: observed MAE=2.902617 rank=5\n",
      "[SoftImpute] Iter 5: observed MAE=2.904292 rank=5\n",
      "[SoftImpute] Iter 6: observed MAE=2.888633 rank=5\n",
      "[SoftImpute] Iter 7: observed MAE=2.880344 rank=5\n",
      "[SoftImpute] Iter 8: observed MAE=2.883376 rank=5\n",
      "[SoftImpute] Iter 9: observed MAE=2.878414 rank=5\n",
      "[SoftImpute] Iter 10: observed MAE=2.875578 rank=5\n",
      "[SoftImpute] Iter 11: observed MAE=2.869893 rank=5\n",
      "[SoftImpute] Iter 12: observed MAE=2.871302 rank=5\n",
      "[SoftImpute] Iter 13: observed MAE=2.866777 rank=5\n",
      "[SoftImpute] Iter 14: observed MAE=2.862835 rank=5\n",
      "[SoftImpute] Iter 15: observed MAE=2.871173 rank=5\n",
      "[SoftImpute] Iter 16: observed MAE=2.870348 rank=5\n",
      "[SoftImpute] Iter 17: observed MAE=2.865004 rank=5\n",
      "[SoftImpute] Iter 18: observed MAE=2.861324 rank=5\n",
      "[SoftImpute] Iter 19: observed MAE=2.859567 rank=5\n",
      "[SoftImpute] Iter 20: observed MAE=2.859627 rank=5\n",
      "[SoftImpute] Iter 21: observed MAE=2.861343 rank=5\n",
      "[SoftImpute] Iter 22: observed MAE=2.864271 rank=5\n",
      "[SoftImpute] Iter 23: observed MAE=2.863891 rank=5\n",
      "[SoftImpute] Iter 24: observed MAE=2.863890 rank=5\n",
      "[SoftImpute] Iter 25: observed MAE=2.861429 rank=5\n",
      "[SoftImpute] Iter 26: observed MAE=2.862281 rank=5\n",
      "[SoftImpute] Iter 27: observed MAE=2.859182 rank=5\n",
      "[SoftImpute] Iter 28: observed MAE=2.860953 rank=5\n",
      "[SoftImpute] Iter 29: observed MAE=2.857220 rank=5\n",
      "[SoftImpute] Iter 30: observed MAE=2.858264 rank=5\n",
      "[SoftImpute] Iter 31: observed MAE=2.860742 rank=5\n",
      "[SoftImpute] Iter 32: observed MAE=2.860984 rank=5\n",
      "[SoftImpute] Iter 33: observed MAE=2.855962 rank=5\n",
      "[SoftImpute] Iter 34: observed MAE=2.861322 rank=5\n",
      "[SoftImpute] Iter 35: observed MAE=2.856950 rank=5\n",
      "[SoftImpute] Iter 36: observed MAE=2.859333 rank=5\n",
      "[SoftImpute] Iter 37: observed MAE=2.859175 rank=5\n",
      "[SoftImpute] Iter 38: observed MAE=2.857592 rank=5\n",
      "[SoftImpute] Iter 39: observed MAE=2.858746 rank=5\n",
      "[SoftImpute] Iter 40: observed MAE=2.858547 rank=5\n",
      "[SoftImpute] Iter 41: observed MAE=2.859330 rank=5\n",
      "[SoftImpute] Iter 42: observed MAE=2.860410 rank=5\n",
      "[SoftImpute] Iter 43: observed MAE=2.859199 rank=5\n",
      "[SoftImpute] Iter 44: observed MAE=2.857381 rank=5\n",
      "[SoftImpute] Iter 45: observed MAE=2.857873 rank=5\n",
      "[SoftImpute] Iter 46: observed MAE=2.860999 rank=5\n",
      "[SoftImpute] Iter 47: observed MAE=2.863028 rank=5\n",
      "[SoftImpute] Iter 48: observed MAE=2.860843 rank=5\n",
      "[SoftImpute] Iter 49: observed MAE=2.860514 rank=5\n",
      "[SoftImpute] Iter 50: observed MAE=2.860391 rank=5\n",
      "[SoftImpute] Iter 51: observed MAE=2.857695 rank=5\n",
      "[SoftImpute] Iter 52: observed MAE=2.859296 rank=5\n",
      "[SoftImpute] Iter 53: observed MAE=2.860124 rank=5\n",
      "[SoftImpute] Iter 54: observed MAE=2.858128 rank=5\n",
      "[SoftImpute] Iter 55: observed MAE=2.856802 rank=5\n",
      "[SoftImpute] Iter 56: observed MAE=2.856597 rank=5\n",
      "[SoftImpute] Iter 57: observed MAE=2.856446 rank=5\n",
      "[SoftImpute] Iter 58: observed MAE=2.856381 rank=5\n",
      "[SoftImpute] Iter 59: observed MAE=2.857820 rank=5\n",
      "[SoftImpute] Iter 60: observed MAE=2.854384 rank=5\n",
      "[SoftImpute] Iter 61: observed MAE=2.861704 rank=5\n",
      "[SoftImpute] Iter 62: observed MAE=2.861950 rank=5\n",
      "[SoftImpute] Iter 63: observed MAE=2.860080 rank=5\n",
      "[SoftImpute] Iter 64: observed MAE=2.857252 rank=5\n",
      "[SoftImpute] Iter 65: observed MAE=2.859170 rank=5\n",
      "[SoftImpute] Iter 66: observed MAE=2.855077 rank=5\n",
      "[SoftImpute] Iter 67: observed MAE=2.857932 rank=5\n",
      "[SoftImpute] Iter 68: observed MAE=2.856439 rank=5\n",
      "[SoftImpute] Iter 69: observed MAE=2.855177 rank=5\n",
      "[SoftImpute] Iter 70: observed MAE=2.856689 rank=5\n",
      "[SoftImpute] Iter 71: observed MAE=2.857737 rank=5\n",
      "[SoftImpute] Iter 72: observed MAE=2.855707 rank=5\n",
      "[SoftImpute] Iter 73: observed MAE=2.856687 rank=5\n",
      "[SoftImpute] Iter 74: observed MAE=2.862291 rank=5\n",
      "[SoftImpute] Iter 75: observed MAE=2.861914 rank=5\n",
      "[SoftImpute] Iter 76: observed MAE=2.859629 rank=5\n",
      "[SoftImpute] Iter 77: observed MAE=2.855860 rank=5\n",
      "[SoftImpute] Iter 78: observed MAE=2.862145 rank=5\n",
      "[SoftImpute] Iter 79: observed MAE=2.857655 rank=5\n",
      "[SoftImpute] Iter 80: observed MAE=2.859309 rank=5\n",
      "[SoftImpute] Iter 81: observed MAE=2.856334 rank=5\n",
      "[SoftImpute] Iter 82: observed MAE=2.858375 rank=5\n",
      "[SoftImpute] Iter 83: observed MAE=2.856507 rank=5\n",
      "[SoftImpute] Iter 84: observed MAE=2.857288 rank=5\n",
      "[SoftImpute] Iter 85: observed MAE=2.860488 rank=5\n",
      "[SoftImpute] Iter 86: observed MAE=2.856333 rank=5\n",
      "[SoftImpute] Iter 87: observed MAE=2.855622 rank=5\n",
      "[SoftImpute] Iter 88: observed MAE=2.855043 rank=5\n",
      "[SoftImpute] Iter 89: observed MAE=2.855105 rank=5\n",
      "[SoftImpute] Iter 90: observed MAE=2.858056 rank=5\n",
      "[SoftImpute] Iter 91: observed MAE=2.859475 rank=5\n",
      "[SoftImpute] Iter 92: observed MAE=2.857816 rank=5\n",
      "[SoftImpute] Iter 93: observed MAE=2.856776 rank=5\n",
      "[SoftImpute] Iter 94: observed MAE=2.856787 rank=5\n",
      "[SoftImpute] Iter 95: observed MAE=2.857474 rank=5\n",
      "[SoftImpute] Iter 96: observed MAE=2.857917 rank=5\n",
      "[SoftImpute] Iter 97: observed MAE=2.858591 rank=5\n",
      "[SoftImpute] Iter 98: observed MAE=2.855698 rank=5\n",
      "[SoftImpute] Iter 99: observed MAE=2.855508 rank=5\n",
      "[SoftImpute] Iter 100: observed MAE=2.855419 rank=5\n",
      "[SoftImpute] Stopped after iteration 100 for lambda=38.167477\n"
     ]
    }
   ],
   "source": [
    "from fancyimpute import SoftImpute\n",
    "#Low rank Model\n",
    "jester_soft_imputer = SoftImpute(max_rank=5, verbose=True)\n",
    "jester_centered_filled = jester_soft_imputer.fit_transform(jester_train_mat_centered)"
   ]
  },
  {
   "cell_type": "code",
   "execution_count": 28,
   "metadata": {},
   "outputs": [
    {
     "data": {
      "text/plain": [
       "array([[-0.12521402, 12.64300904, -5.74065522, ..., -1.63920491,\n",
       "        -2.88134945, -3.8408655 ],\n",
       "       [ 1.34327363, -2.35006289,  4.36627284, ..., -2.17977464,\n",
       "        -5.92318683, -1.58272729],\n",
       "       [ 0.20723428, -0.48576219,  1.11913623, ..., -0.64978042,\n",
       "         1.14717554, -0.23374375],\n",
       "       ...,\n",
       "       [-0.44621976, -0.33289051, -1.8155387 , ..., -0.17996126,\n",
       "        -0.43084546, -1.21593148],\n",
       "       [ 0.22855003, -0.57376929,  1.11969765, ...,  0.10557427,\n",
       "         1.1095433 ,  0.62926806],\n",
       "       [ 2.01936331,  2.16723097,  2.27067796, ..., -1.44849029,\n",
       "        -0.26966165, -1.00607511]])"
      ]
     },
     "execution_count": 28,
     "metadata": {},
     "output_type": "execute_result"
    }
   ],
   "source": [
    "jester_centered_filled"
   ]
  },
  {
   "cell_type": "code",
   "execution_count": 29,
   "metadata": {
    "scrolled": false
   },
   "outputs": [
    {
     "data": {
      "text/plain": [
       "array([[-3.30155959,  8.79      , -9.66      , ..., -5.03250221,\n",
       "        -7.19123456, -7.10121014],\n",
       "       [ 4.08      , -0.29      ,  6.36      , ...,  0.34      ,\n",
       "        -4.32      ,  1.07      ],\n",
       "       [ 6.8820672 ,  5.51240726,  7.05096995, ...,  5.80810077,\n",
       "         6.68846893,  6.3570901 ],\n",
       "       ...,\n",
       "       [ 0.50595705, -0.05737718, -1.6063611 , ...,  0.55526382,\n",
       "        -0.61220819, -0.34775375],\n",
       "       [ 8.73401113,  7.25502834,  8.88215954, ...,  8.39408364,\n",
       "         8.48146486,  9.05073008],\n",
       "       [ 6.33730753,  5.80851171,  5.84562297, ...,  2.6525022 ,\n",
       "         2.91474303,  3.22787004]])"
      ]
     },
     "execution_count": 29,
     "metadata": {},
     "output_type": "execute_result"
    }
   ],
   "source": [
    "jester_SoftImpute_filled = jester_biscaler.inverse_transform(jester_centered_filled)\n",
    "jester_SoftImpute_filled = np.clip(jester_SoftImpute_filled, -10, 10)\n",
    "jester_SoftImpute_filled"
   ]
  },
  {
   "cell_type": "markdown",
   "metadata": {},
   "source": [
    "### 2.3 Get test set performance"
   ]
  },
  {
   "cell_type": "code",
   "execution_count": 30,
   "metadata": {},
   "outputs": [],
   "source": [
    "def masked_mae(X_true, X_pred, mask):\n",
    "    masked_diff = X_true[mask] - X_pred[mask]\n",
    "    return np.mean(np.abs(masked_diff))\n",
    "\n",
    "def masked_mse(X_true, X_pred, mask):\n",
    "    masked_diff = X_true[mask] - X_pred[mask]\n",
    "    return np.mean(masked_diff ** 2)\n",
    "\n",
    "def OSR2(mse_model, mse_baseline):\n",
    "    return 1 - mse_model/mse_baseline"
   ]
  },
  {
   "cell_type": "markdown",
   "metadata": {},
   "source": [
    "### 2.3.1 Performance with Biscale centering only"
   ]
  },
  {
   "cell_type": "code",
   "execution_count": 31,
   "metadata": {},
   "outputs": [
    {
     "name": "stdout",
     "output_type": "stream",
     "text": [
      "Biscale MAE 0.17353275658553807 \n",
      "Biscale RMSE 0.21883777452833306 \n",
      "Biscale R2 0.31809089580305727\n"
     ]
    }
   ],
   "source": [
    "jester_test_mae = masked_mae(jester_test_mat, jester_BiScaler_filled, jester_test_mask)\n",
    "print(\"Biscale MAE %s \" % (jester_test_mae/20)) #Note that we normalize MAE and RMSE by the scale of the ratings, which is 10-(-10)=20.\n",
    "\n",
    "jester_test_mse = masked_mse(jester_test_mat, jester_BiScaler_filled, jester_test_mask)\n",
    "print(\"Biscale RMSE %s \" % (np.sqrt(jester_test_mse)/20))\n",
    "\n",
    "baseline_pred = np.mean(jester_train)[2]\n",
    "baseline_model = baseline_pred*np.ones((73421, 100))\n",
    "baseline_mse = masked_mse(jester_test_mat, baseline_model, jester_test_mask)\n",
    "print(\"Biscale R2 %s\" % OSR2(jester_test_mse, baseline_mse))"
   ]
  },
  {
   "cell_type": "code",
   "execution_count": 32,
   "metadata": {},
   "outputs": [
    {
     "name": "stdout",
     "output_type": "stream",
     "text": [
      "SoftImpute MAE 0.16105887423913895 \n",
      "SoftImpute RMSE 0.21066496036101126 \n",
      "SoftImpute R2 0.3680735675887147\n"
     ]
    }
   ],
   "source": [
    "jester_test_mae = masked_mae(jester_test_mat, jester_SoftImpute_filled, jester_test_mask)\n",
    "print(\"SoftImpute MAE %s \" % (jester_test_mae/20)) #Note that we normalize MAE and RMSE by the scale of the ratings, which is 10-(-10)=20.\n",
    "\n",
    "jester_test_mse = masked_mse(jester_test_mat, jester_SoftImpute_filled, jester_test_mask)\n",
    "print(\"SoftImpute RMSE %s \" % (np.sqrt(jester_test_mse)/20))\n",
    "\n",
    "baseline_pred = np.mean(jester_train)[2]\n",
    "baseline_model = baseline_pred*np.ones((73421, 100))\n",
    "baseline_mse = masked_mse(jester_test_mat, baseline_model, jester_test_mask)\n",
    "print(\"SoftImpute R2 %s\" % OSR2(jester_test_mse, baseline_mse))"
   ]
  },
  {
   "cell_type": "markdown",
   "metadata": {},
   "source": [
    "### 2.4 Cross-validation to choose the best number of Archetypal Users"
   ]
  },
  {
   "cell_type": "code",
   "execution_count": 36,
   "metadata": {
    "scrolled": true
   },
   "outputs": [
    {
     "name": "stdout",
     "output_type": "stream",
     "text": [
      "iter 1 - Validation MAE 3.365639577413716\n",
      "iter 2 - Validation MAE 3.308209814993523\n",
      "iter 3 - Validation MAE 3.254391685286129\n",
      "iter 4 - Validation MAE 3.233043499675966\n",
      "iter 5 - Validation MAE 3.2262638564477073\n",
      "iter 6 - Validation MAE 3.2372330287760183\n",
      "iter 7 - Validation MAE 3.2493346400394136\n",
      "iter 8 - Validation MAE 3.2485968340636755\n",
      "iter 9 - Validation MAE 3.294785485820863\n",
      "iter 10 - Validation MAE 3.3040010237457884\n",
      "iter 11 - Validation MAE 3.31572511002251\n",
      "iter 12 - Validation MAE 3.3476887414457024\n",
      "iter 13 - Validation MAE 3.363088855317898\n",
      "iter 14 - Validation MAE 3.4058464823726737\n",
      "iter 15 - Validation MAE 3.4216771235904293\n",
      "iter 16 - Validation MAE 3.4512394834145335\n",
      "iter 17 - Validation MAE 3.48502889535236\n",
      "iter 18 - Validation MAE 3.5124620326616767\n",
      "iter 19 - Validation MAE 3.516989230889346\n",
      "iter 20 - Validation MAE 3.5434682909342863\n"
     ]
    }
   ],
   "source": [
    "jester_val_mae_lst = []\n",
    "for i in range(20):\n",
    "    param_cv = i+1\n",
    "    jester_soft_imputer_cv = SoftImpute(max_rank=param_cv, verbose=False)\n",
    "    jester_centered_filled_cv = jester_soft_imputer_cv.fit_transform(jester_train_mat_centered)\n",
    "    jester_filled_cv = jester_biscaler.inverse_transform(jester_centered_filled_cv)\n",
    "    jester_filled_cv = np.clip(jester_filled_cv, -10, 10)\n",
    "    jester_val_mae_cv = masked_mae(jester_val_mat, jester_filled_cv, jester_val_mask)\n",
    "    jester_val_mae_lst.append(jester_val_mae_cv)\n",
    "    print('iter %s - Validation MAE %s' % (param_cv, jester_val_mae_cv))"
   ]
  },
  {
   "cell_type": "code",
   "execution_count": 38,
   "metadata": {},
   "outputs": [
    {
     "data": {
      "image/png": "[encoded data removed]",
      "text/plain": [
       "<Figure size 288x288 with 1 Axes>"
      ]
     },
     "metadata": {
      "needs_background": "light"
     },
     "output_type": "display_data"
    }
   ],
   "source": [
    "import matplotlib.pyplot as plt\n",
    "x = range(1,21)\n",
    "y = jester_val_mae_lst\n",
    "plt.figure(figsize=(4, 4))\n",
    "plt.scatter(x, y, linewidth=2, color='black')\n",
    "plt.xlabel('Number of Archetypal Users', fontsize=16)\n",
    "plt.ylabel('Validation MAE', fontsize=16)\n",
    "plt.show()"
   ]
  },
  {
   "cell_type": "code",
   "execution_count": null,
   "metadata": {},
   "outputs": [],
   "source": []
  }
 ],
 "metadata": {
  "kernelspec": {
   "display_name": "Python 3",
   "language": "python",
   "name": "python3"
  },
  "language_info": {
   "codemirror_mode": {
    "name": "ipython",
    "version": 3
   },
   "file_extension": ".py",
   "mimetype": "text/x-python",
   "name": "python",
   "nbconvert_exporter": "python",
   "pygments_lexer": "ipython3",
   "version": "3.8.8"
  }
 },
 "nbformat": 4,
 "nbformat_minor": 4
}
