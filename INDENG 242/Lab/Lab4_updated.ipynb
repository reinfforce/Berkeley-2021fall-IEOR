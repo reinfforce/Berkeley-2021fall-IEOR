{
 "cells": [
  {
   "cell_type": "markdown",
   "metadata": {},
   "source": [
    "# LAB 4 - LOGISTIC REGRESSION / LDA\n",
    "\n",
    "This lab is comprised of two main sections:\n",
    "\n",
    "- 1. Logistic Regression with numerical + categorical variables\n",
    "\n",
    "- 2. Linear Discriminant Analysis\n",
    "\n",
    "In this lab we will use the help of statistical packages `statsmodels` and also `sklearn` for plotting and for splitting. These are two of the most complete libraries for statistical modeling in Python."
   ]
  },
  {
   "cell_type": "markdown",
   "metadata": {},
   "source": [
    "## 1. LOGISTIC REGRESSION (NUMERICAL + CATEGORICAL VARIABLES)"
   ]
  },
  {
   "cell_type": "markdown",
   "metadata": {},
   "source": [
    "#### 1.1 Data Loading"
   ]
  },
  {
   "cell_type": "code",
   "execution_count": 1,
   "metadata": {},
   "outputs": [],
   "source": [
    "import numpy as np\n",
    "import pandas as pd\n",
    "import os"
   ]
  },
  {
   "cell_type": "code",
   "execution_count": 2,
   "metadata": {},
   "outputs": [],
   "source": [
    "from sklearn.model_selection import train_test_split\n",
    "import statsmodels.formula.api as smf"
   ]
  },
  {
   "cell_type": "code",
   "execution_count": 3,
   "metadata": {
    "scrolled": true
   },
   "outputs": [
    {
     "name": "stdout",
     "output_type": "stream",
     "text": [
      "<class 'pandas.core.frame.DataFrame'>\n",
      "RangeIndex: 7032 entries, 0 to 7031\n",
      "Data columns (total 7 columns):\n",
      "Churn              7032 non-null int64\n",
      "MonthlyCharges     7032 non-null float64\n",
      "SeniorCitizen      7032 non-null int64\n",
      "PaymentMethod      7032 non-null object\n",
      "InternetService    7032 non-null object\n",
      "tenure             7032 non-null int64\n",
      "Contract           7032 non-null object\n",
      "dtypes: float64(1), int64(3), object(3)\n",
      "memory usage: 384.7+ KB\n"
     ]
    },
    {
     "data": {
      "text/html": [
       "<div>\n",
       "<style scoped>\n",
       "    .dataframe tbody tr th:only-of-type {\n",
       "        vertical-align: middle;\n",
       "    }\n",
       "\n",
       "    .dataframe tbody tr th {\n",
       "        vertical-align: top;\n",
       "    }\n",
       "\n",
       "    .dataframe thead th {\n",
       "        text-align: right;\n",
       "    }\n",
       "</style>\n",
       "<table border=\"1\" class=\"dataframe\">\n",
       "  <thead>\n",
       "    <tr style=\"text-align: right;\">\n",
       "      <th></th>\n",
       "      <th>Churn</th>\n",
       "      <th>MonthlyCharges</th>\n",
       "      <th>SeniorCitizen</th>\n",
       "      <th>PaymentMethod</th>\n",
       "      <th>InternetService</th>\n",
       "      <th>tenure</th>\n",
       "      <th>Contract</th>\n",
       "    </tr>\n",
       "  </thead>\n",
       "  <tbody>\n",
       "    <tr>\n",
       "      <td>0</td>\n",
       "      <td>0</td>\n",
       "      <td>29.85</td>\n",
       "      <td>0</td>\n",
       "      <td>Electronic check</td>\n",
       "      <td>DSL</td>\n",
       "      <td>1</td>\n",
       "      <td>Month-to-month</td>\n",
       "    </tr>\n",
       "    <tr>\n",
       "      <td>1</td>\n",
       "      <td>0</td>\n",
       "      <td>56.95</td>\n",
       "      <td>0</td>\n",
       "      <td>Mailed check</td>\n",
       "      <td>DSL</td>\n",
       "      <td>34</td>\n",
       "      <td>One year</td>\n",
       "    </tr>\n",
       "    <tr>\n",
       "      <td>2</td>\n",
       "      <td>1</td>\n",
       "      <td>53.85</td>\n",
       "      <td>0</td>\n",
       "      <td>Mailed check</td>\n",
       "      <td>DSL</td>\n",
       "      <td>2</td>\n",
       "      <td>Month-to-month</td>\n",
       "    </tr>\n",
       "    <tr>\n",
       "      <td>3</td>\n",
       "      <td>0</td>\n",
       "      <td>42.30</td>\n",
       "      <td>0</td>\n",
       "      <td>Bank transfer</td>\n",
       "      <td>DSL</td>\n",
       "      <td>45</td>\n",
       "      <td>One year</td>\n",
       "    </tr>\n",
       "    <tr>\n",
       "      <td>4</td>\n",
       "      <td>1</td>\n",
       "      <td>70.70</td>\n",
       "      <td>0</td>\n",
       "      <td>Electronic check</td>\n",
       "      <td>Fiber optic</td>\n",
       "      <td>2</td>\n",
       "      <td>Month-to-month</td>\n",
       "    </tr>\n",
       "  </tbody>\n",
       "</table>\n",
       "</div>"
      ],
      "text/plain": [
       "   Churn  MonthlyCharges  SeniorCitizen     PaymentMethod InternetService  \\\n",
       "0      0           29.85              0  Electronic check             DSL   \n",
       "1      0           56.95              0      Mailed check             DSL   \n",
       "2      1           53.85              0      Mailed check             DSL   \n",
       "3      0           42.30              0     Bank transfer             DSL   \n",
       "4      1           70.70              0  Electronic check     Fiber optic   \n",
       "\n",
       "   tenure        Contract  \n",
       "0       1  Month-to-month  \n",
       "1      34        One year  \n",
       "2       2  Month-to-month  \n",
       "3      45        One year  \n",
       "4       2  Month-to-month  "
      ]
     },
     "execution_count": 3,
     "metadata": {},
     "output_type": "execute_result"
    }
   ],
   "source": [
    "churn = pd.read_csv(\"customerchurn.csv\")\n",
    "churn.info()\n",
    "churn.head()"
   ]
  },
  {
   "cell_type": "markdown",
   "metadata": {},
   "source": [
    "#### 1.2 Train Test Split"
   ]
  },
  {
   "cell_type": "code",
   "execution_count": 4,
   "metadata": {},
   "outputs": [
    {
     "data": {
      "text/plain": [
       "((4922, 7), (2110, 7))"
      ]
     },
     "execution_count": 4,
     "metadata": {},
     "output_type": "execute_result"
    }
   ],
   "source": [
    "churn_train, churn_test = train_test_split(churn, test_size=0.3, random_state=88)\n",
    "churn_train.shape, churn_test.shape"
   ]
  },
  {
   "cell_type": "markdown",
   "metadata": {},
   "source": [
    "#### 1.3 Model Fitting and Variable Selection"
   ]
  },
  {
   "cell_type": "code",
   "execution_count": 5,
   "metadata": {},
   "outputs": [
    {
     "name": "stdout",
     "output_type": "stream",
     "text": [
      "Optimization terminated successfully.\n",
      "         Current function value: 0.421913\n",
      "         Iterations 8\n",
      "                           Logit Regression Results                           \n",
      "==============================================================================\n",
      "Dep. Variable:                  Churn   No. Observations:                 4922\n",
      "Model:                          Logit   Df Residuals:                     4911\n",
      "Method:                           MLE   Df Model:                           10\n",
      "Date:                Fri, 24 Sep 2021   Pseudo R-squ.:                  0.2695\n",
      "Time:                        12:18:48   Log-Likelihood:                -2076.7\n",
      "converged:                       True   LL-Null:                       -2842.6\n",
      "Covariance Type:            nonrobust   LLR p-value:                     0.000\n",
      "=====================================================================================================\n",
      "                                        coef    std err          z      P>|z|      [0.025      0.975]\n",
      "-----------------------------------------------------------------------------------------------------\n",
      "Intercept                            -0.8982      0.213     -4.217      0.000      -1.316      -0.481\n",
      "PaymentMethod[T.Credit card]         -0.1066      0.134     -0.795      0.427      -0.369       0.156\n",
      "PaymentMethod[T.Electronic check]     0.4394      0.110      3.984      0.000       0.223       0.656\n",
      "PaymentMethod[T.Mailed check]        -0.0373      0.135     -0.277      0.782      -0.302       0.227\n",
      "InternetService[T.Fiber optic]        0.8217      0.154      5.336      0.000       0.520       1.123\n",
      "InternetService[T.No]                -0.7265      0.185     -3.925      0.000      -1.089      -0.364\n",
      "Contract[T.One year]                 -0.8444      0.124     -6.815      0.000      -1.087      -0.602\n",
      "Contract[T.Two year]                 -1.9124      0.226     -8.466      0.000      -2.355      -1.470\n",
      "MonthlyCharges                        0.0067      0.004      1.857      0.063      -0.000       0.014\n",
      "SeniorCitizen                         0.3852      0.097      3.981      0.000       0.196       0.575\n",
      "tenure                               -0.0296      0.003    -11.559      0.000      -0.035      -0.025\n",
      "=====================================================================================================\n"
     ]
    }
   ],
   "source": [
    "logreg2 = smf.logit(formula = 'Churn ~ MonthlyCharges + SeniorCitizen + PaymentMethod + InternetService + tenure + Contract',\n",
    "                       data = churn_train).fit()\n",
    "print(logreg2.summary())"
   ]
  },
  {
   "cell_type": "code",
   "execution_count": 6,
   "metadata": {
    "scrolled": false
   },
   "outputs": [
    {
     "name": "stdout",
     "output_type": "stream",
     "text": [
      "Optimization terminated successfully.\n",
      "         Current function value: 0.422264\n",
      "         Iterations 8\n",
      "                           Logit Regression Results                           \n",
      "==============================================================================\n",
      "Dep. Variable:                  Churn   No. Observations:                 4922\n",
      "Model:                          Logit   Df Residuals:                     4912\n",
      "Method:                           MLE   Df Model:                            9\n",
      "Date:                Fri, 24 Sep 2021   Pseudo R-squ.:                  0.2688\n",
      "Time:                        12:19:37   Log-Likelihood:                -2078.4\n",
      "converged:                       True   LL-Null:                       -2842.6\n",
      "Covariance Type:            nonrobust   LLR p-value:                     0.000\n",
      "=====================================================================================================\n",
      "                                        coef    std err          z      P>|z|      [0.025      0.975]\n",
      "-----------------------------------------------------------------------------------------------------\n",
      "Intercept                            -0.5748      0.122     -4.724      0.000      -0.813      -0.336\n",
      "PaymentMethod[T.Credit card]         -0.1121      0.134     -0.836      0.403      -0.375       0.151\n",
      "PaymentMethod[T.Electronic check]     0.4389      0.110      3.982      0.000       0.223       0.655\n",
      "PaymentMethod[T.Mailed check]        -0.0463      0.135     -0.344      0.731      -0.311       0.218\n",
      "InternetService[T.Fiber optic]        1.0555      0.090     11.744      0.000       0.879       1.232\n",
      "InternetService[T.No]                -0.9328      0.147     -6.331      0.000      -1.222      -0.644\n",
      "Contract[T.One year]                 -0.8110      0.122     -6.622      0.000      -1.051      -0.571\n",
      "Contract[T.Two year]                 -1.8682      0.225     -8.321      0.000      -2.308      -1.428\n",
      "SeniorCitizen                         0.3818      0.097      3.948      0.000       0.192       0.571\n",
      "tenure                               -0.0280      0.002    -11.650      0.000      -0.033      -0.023\n",
      "=====================================================================================================\n"
     ]
    }
   ],
   "source": [
    "# Let's remove MonthlyCharges\n",
    "logreg3 = smf.logit(formula = 'Churn ~ SeniorCitizen + PaymentMethod + InternetService + tenure + Contract',\n",
    "                       data = churn_train).fit()\n",
    "print(logreg3.summary())"
   ]
  },
  {
   "cell_type": "code",
   "execution_count": 7,
   "metadata": {},
   "outputs": [
    {
     "data": {
      "text/html": [
       "<div>\n",
       "<style scoped>\n",
       "    .dataframe tbody tr th:only-of-type {\n",
       "        vertical-align: middle;\n",
       "    }\n",
       "\n",
       "    .dataframe tbody tr th {\n",
       "        vertical-align: top;\n",
       "    }\n",
       "\n",
       "    .dataframe thead th {\n",
       "        text-align: right;\n",
       "    }\n",
       "</style>\n",
       "<table border=\"1\" class=\"dataframe\">\n",
       "  <thead>\n",
       "    <tr style=\"text-align: right;\">\n",
       "      <th></th>\n",
       "      <th>Churn</th>\n",
       "      <th>MonthlyCharges</th>\n",
       "      <th>SeniorCitizen</th>\n",
       "      <th>InternetService</th>\n",
       "      <th>tenure</th>\n",
       "      <th>Contract</th>\n",
       "      <th>ElectronicCheck</th>\n",
       "    </tr>\n",
       "  </thead>\n",
       "  <tbody>\n",
       "    <tr>\n",
       "      <td>2839</td>\n",
       "      <td>1</td>\n",
       "      <td>99.60</td>\n",
       "      <td>1</td>\n",
       "      <td>Fiber optic</td>\n",
       "      <td>4</td>\n",
       "      <td>Month-to-month</td>\n",
       "      <td>1</td>\n",
       "    </tr>\n",
       "    <tr>\n",
       "      <td>4965</td>\n",
       "      <td>0</td>\n",
       "      <td>93.80</td>\n",
       "      <td>1</td>\n",
       "      <td>Fiber optic</td>\n",
       "      <td>13</td>\n",
       "      <td>Month-to-month</td>\n",
       "      <td>0</td>\n",
       "    </tr>\n",
       "    <tr>\n",
       "      <td>6686</td>\n",
       "      <td>0</td>\n",
       "      <td>96.55</td>\n",
       "      <td>0</td>\n",
       "      <td>Fiber optic</td>\n",
       "      <td>5</td>\n",
       "      <td>Month-to-month</td>\n",
       "      <td>1</td>\n",
       "    </tr>\n",
       "    <tr>\n",
       "      <td>4151</td>\n",
       "      <td>0</td>\n",
       "      <td>25.20</td>\n",
       "      <td>0</td>\n",
       "      <td>No</td>\n",
       "      <td>39</td>\n",
       "      <td>Two year</td>\n",
       "      <td>0</td>\n",
       "    </tr>\n",
       "    <tr>\n",
       "      <td>241</td>\n",
       "      <td>0</td>\n",
       "      <td>109.20</td>\n",
       "      <td>0</td>\n",
       "      <td>Fiber optic</td>\n",
       "      <td>72</td>\n",
       "      <td>Two year</td>\n",
       "      <td>0</td>\n",
       "    </tr>\n",
       "  </tbody>\n",
       "</table>\n",
       "</div>"
      ],
      "text/plain": [
       "      Churn  MonthlyCharges  SeniorCitizen InternetService  tenure  \\\n",
       "2839      1           99.60              1     Fiber optic       4   \n",
       "4965      0           93.80              1     Fiber optic      13   \n",
       "6686      0           96.55              0     Fiber optic       5   \n",
       "4151      0           25.20              0              No      39   \n",
       "241       0          109.20              0     Fiber optic      72   \n",
       "\n",
       "            Contract  ElectronicCheck  \n",
       "2839  Month-to-month                1  \n",
       "4965  Month-to-month                0  \n",
       "6686  Month-to-month                1  \n",
       "4151        Two year                0  \n",
       "241         Two year                0  "
      ]
     },
     "execution_count": 7,
     "metadata": {},
     "output_type": "execute_result"
    }
   ],
   "source": [
    "# Let's remove PaymentMethod Credit Card and PaymentMethodMailed check. \n",
    "# How do we do this? Create a new feature. \n",
    "\n",
    "churn_train2 = churn_train.copy() \n",
    "churn_train2['ElectronicCheck'] = (churn_train2['PaymentMethod'] == 'Electronic check').astype('int64')\n",
    "churn_train2.drop(columns=['PaymentMethod'], inplace=True)\n",
    "\n",
    "# Let's do the same for test set as well\n",
    "\n",
    "churn_test2 = churn_test.copy() \n",
    "churn_test2['ElectronicCheck'] = (churn_test2['PaymentMethod'] == 'Electronic check').astype('int64')\n",
    "churn_test2.drop(columns=['PaymentMethod'], inplace=True)\n",
    "\n",
    "churn_test2.head()"
   ]
  },
  {
   "cell_type": "code",
   "execution_count": 8,
   "metadata": {
    "scrolled": true
   },
   "outputs": [
    {
     "name": "stdout",
     "output_type": "stream",
     "text": [
      "Optimization terminated successfully.\n",
      "         Current function value: 0.422336\n",
      "         Iterations 8\n",
      "                           Logit Regression Results                           \n",
      "==============================================================================\n",
      "Dep. Variable:                  Churn   No. Observations:                 4922\n",
      "Model:                          Logit   Df Residuals:                     4914\n",
      "Method:                           MLE   Df Model:                            7\n",
      "Date:                Fri, 24 Sep 2021   Pseudo R-squ.:                  0.2687\n",
      "Time:                        12:23:34   Log-Likelihood:                -2078.7\n",
      "converged:                       True   LL-Null:                       -2842.6\n",
      "Covariance Type:            nonrobust   LLR p-value:                     0.000\n",
      "==================================================================================================\n",
      "                                     coef    std err          z      P>|z|      [0.025      0.975]\n",
      "--------------------------------------------------------------------------------------------------\n",
      "Intercept                         -0.6254      0.085     -7.363      0.000      -0.792      -0.459\n",
      "InternetService[T.Fiber optic]     1.0549      0.089     11.817      0.000       0.880       1.230\n",
      "InternetService[T.No]             -0.9313      0.146     -6.384      0.000      -1.217      -0.645\n",
      "Contract[T.One year]              -0.8125      0.122     -6.635      0.000      -1.053      -0.573\n",
      "Contract[T.Two year]              -1.8704      0.224     -8.332      0.000      -2.310      -1.430\n",
      "SeniorCitizen                      0.3813      0.097      3.945      0.000       0.192       0.571\n",
      "ElectronicCheck                    0.4901      0.080      6.098      0.000       0.333       0.648\n",
      "tenure                            -0.0280      0.002    -11.928      0.000      -0.033      -0.023\n",
      "==================================================================================================\n"
     ]
    }
   ],
   "source": [
    "logreg4 = smf.logit(formula = 'Churn ~ SeniorCitizen + ElectronicCheck + InternetService + tenure + Contract',\n",
    "                       data = churn_train2).fit()\n",
    "print(logreg4.summary())"
   ]
  },
  {
   "cell_type": "markdown",
   "metadata": {},
   "source": [
    "#### 1.4 Predicting the Probabilty and Deciding the Threshold & Confusion Matrix"
   ]
  },
  {
   "cell_type": "markdown",
   "metadata": {},
   "source": [
    "\n",
    "Now we have our probabiltiy of default, we can construct a confusion matrix based on decision tree threshold we have computed price reduction = 800 and no price reduction = 1000 \n",
    "$$\n",
    "800 (1 - p/2) = 1000 (1 - p) \\implies p = 0.333 \n",
    "$$\n",
    "- High churn risk > 0.333.\n",
    "- low churn risk < 0.333 \n",
    "\n",
    "The expected return of discount is higher than no discount, b/c the prob of retention is lower for no discount \n",
    "\n",
    "\n",
    "Recall: Confusion matrix\n",
    "$$\\begin{bmatrix} TN & FP \\\\ FN & TP \\end{bmatrix}$$"
   ]
  },
  {
   "cell_type": "code",
   "execution_count": 9,
   "metadata": {
    "scrolled": false
   },
   "outputs": [
    {
     "name": "stdout",
     "output_type": "stream",
     "text": [
      "Confusion Matrix : \n",
      " [[1213  329]\n",
      " [ 154  414]]\n"
     ]
    }
   ],
   "source": [
    "# Confusion matrices based on decision tree threshold \n",
    "# Target scores, can either be probability estimates of the positive class, confidence values, or non-thresholded measure of decisions (as returned by “decision_function” on some classifiers).\n",
    "\n",
    "from sklearn.metrics import confusion_matrix\n",
    "\n",
    "y_test = churn_test2['Churn']\n",
    "y_prob = logreg4.predict(churn_test2)\n",
    "y_pred = pd.Series([1 if x > 1/3 else 0 for x in y_prob], index=y_prob.index)\n",
    "\n",
    "cm = confusion_matrix(y_test, y_pred)\n",
    "print (\"Confusion Matrix : \\n\", cm) "
   ]
  },
  {
   "cell_type": "markdown",
   "metadata": {},
   "source": [
    "### ROC Curves"
   ]
  },
  {
   "cell_type": "markdown",
   "metadata": {},
   "source": [
    "The ROC curve plots the TPR and FPR for every break-even threshold p between 0.0 and 1.0"
   ]
  },
  {
   "cell_type": "code",
   "execution_count": 10,
   "metadata": {},
   "outputs": [],
   "source": [
    "y_train = churn_train2['Churn']\n",
    "X_train = churn_train2.drop(['Churn'], axis=1)\n",
    "\n",
    "y_test = churn_test2['Churn']\n",
    "X_test = churn_test2.drop(['Churn'], axis=1)"
   ]
  },
  {
   "cell_type": "code",
   "execution_count": 12,
   "metadata": {
    "scrolled": false
   },
   "outputs": [
    {
     "data": {
      "image/png": "[encoded data removed]",
      "text/plain": [
       "<Figure size 576x432 with 1 Axes>"
      ]
     },
     "metadata": {
      "needs_background": "light"
     },
     "output_type": "display_data"
    }
   ],
   "source": [
    "import matplotlib.pyplot as plt\n",
    "from sklearn.metrics import roc_curve, auc\n",
    "\n",
    "fpr, tpr, _ = roc_curve(y_test, y_prob)\n",
    "roc_auc = auc(fpr, tpr)\n",
    "\n",
    "plt.figure(figsize=(8, 6))\n",
    "plt.title('ROC Curve', fontsize=18)\n",
    "plt.xlabel('FPR', fontsize=16)\n",
    "plt.ylabel('TPR', fontsize=16)\n",
    "plt.xlim([-0.01, 1.00])\n",
    "plt.ylim([-0.01, 1.01])\n",
    "plt.plot(fpr, tpr, lw=3, label='Logistic Regression (area = {:0.2f})'.format(roc_auc))\n",
    "plt.plot([0, 1], [0, 1], color='navy', lw=3, linestyle='--')\n",
    "plt.legend(loc='lower right', fontsize=14)\n",
    "plt.show()"
   ]
  },
  {
   "cell_type": "markdown",
   "metadata": {},
   "source": [
    "# ------------------------------------------------------------------------------------------"
   ]
  },
  {
   "cell_type": "markdown",
   "metadata": {},
   "source": [
    "## 2. Linear Discriminant Analysis"
   ]
  },
  {
   "cell_type": "markdown",
   "metadata": {},
   "source": [
    "#### 2.1 Preliminary: one-hot encoding"
   ]
  },
  {
   "cell_type": "code",
   "execution_count": 13,
   "metadata": {},
   "outputs": [
    {
     "name": "stdout",
     "output_type": "stream",
     "text": [
      "[array(['DSL', 'Fiber optic', 'No'], dtype=object), array(['Month-to-month', 'One year', 'Two year'], dtype=object)]\n"
     ]
    }
   ],
   "source": [
    "from sklearn.preprocessing import OneHotEncoder\n",
    "# initialize the OneHotEncoder\n",
    "drop_enc = OneHotEncoder(drop='first').fit(X_train[['InternetService','Contract']])\n",
    "print(drop_enc.categories_)"
   ]
  },
  {
   "cell_type": "code",
   "execution_count": 14,
   "metadata": {},
   "outputs": [
    {
     "data": {
      "text/html": [
       "<div>\n",
       "<style scoped>\n",
       "    .dataframe tbody tr th:only-of-type {\n",
       "        vertical-align: middle;\n",
       "    }\n",
       "\n",
       "    .dataframe tbody tr th {\n",
       "        vertical-align: top;\n",
       "    }\n",
       "\n",
       "    .dataframe thead th {\n",
       "        text-align: right;\n",
       "    }\n",
       "</style>\n",
       "<table border=\"1\" class=\"dataframe\">\n",
       "  <thead>\n",
       "    <tr style=\"text-align: right;\">\n",
       "      <th></th>\n",
       "      <th>MonthlyCharges</th>\n",
       "      <th>SeniorCitizen</th>\n",
       "      <th>InternetService</th>\n",
       "      <th>tenure</th>\n",
       "      <th>Contract</th>\n",
       "      <th>ElectronicCheck</th>\n",
       "    </tr>\n",
       "  </thead>\n",
       "  <tbody>\n",
       "    <tr>\n",
       "      <td>5224</td>\n",
       "      <td>101.15</td>\n",
       "      <td>0</td>\n",
       "      <td>Fiber optic</td>\n",
       "      <td>8</td>\n",
       "      <td>Month-to-month</td>\n",
       "      <td>1</td>\n",
       "    </tr>\n",
       "    <tr>\n",
       "      <td>3321</td>\n",
       "      <td>70.15</td>\n",
       "      <td>1</td>\n",
       "      <td>DSL</td>\n",
       "      <td>38</td>\n",
       "      <td>One year</td>\n",
       "      <td>0</td>\n",
       "    </tr>\n",
       "    <tr>\n",
       "      <td>6427</td>\n",
       "      <td>79.60</td>\n",
       "      <td>0</td>\n",
       "      <td>DSL</td>\n",
       "      <td>70</td>\n",
       "      <td>Two year</td>\n",
       "      <td>0</td>\n",
       "    </tr>\n",
       "    <tr>\n",
       "      <td>4061</td>\n",
       "      <td>19.50</td>\n",
       "      <td>0</td>\n",
       "      <td>No</td>\n",
       "      <td>14</td>\n",
       "      <td>One year</td>\n",
       "      <td>0</td>\n",
       "    </tr>\n",
       "    <tr>\n",
       "      <td>473</td>\n",
       "      <td>53.60</td>\n",
       "      <td>0</td>\n",
       "      <td>DSL</td>\n",
       "      <td>24</td>\n",
       "      <td>Month-to-month</td>\n",
       "      <td>0</td>\n",
       "    </tr>\n",
       "    <tr>\n",
       "      <td>...</td>\n",
       "      <td>...</td>\n",
       "      <td>...</td>\n",
       "      <td>...</td>\n",
       "      <td>...</td>\n",
       "      <td>...</td>\n",
       "      <td>...</td>\n",
       "    </tr>\n",
       "    <tr>\n",
       "      <td>362</td>\n",
       "      <td>50.30</td>\n",
       "      <td>0</td>\n",
       "      <td>DSL</td>\n",
       "      <td>58</td>\n",
       "      <td>One year</td>\n",
       "      <td>0</td>\n",
       "    </tr>\n",
       "    <tr>\n",
       "      <td>2481</td>\n",
       "      <td>90.45</td>\n",
       "      <td>0</td>\n",
       "      <td>Fiber optic</td>\n",
       "      <td>28</td>\n",
       "      <td>One year</td>\n",
       "      <td>1</td>\n",
       "    </tr>\n",
       "    <tr>\n",
       "      <td>4047</td>\n",
       "      <td>56.25</td>\n",
       "      <td>1</td>\n",
       "      <td>DSL</td>\n",
       "      <td>34</td>\n",
       "      <td>Month-to-month</td>\n",
       "      <td>1</td>\n",
       "    </tr>\n",
       "    <tr>\n",
       "      <td>6432</td>\n",
       "      <td>55.35</td>\n",
       "      <td>0</td>\n",
       "      <td>DSL</td>\n",
       "      <td>17</td>\n",
       "      <td>Month-to-month</td>\n",
       "      <td>0</td>\n",
       "    </tr>\n",
       "    <tr>\n",
       "      <td>2008</td>\n",
       "      <td>20.10</td>\n",
       "      <td>0</td>\n",
       "      <td>No</td>\n",
       "      <td>31</td>\n",
       "      <td>One year</td>\n",
       "      <td>0</td>\n",
       "    </tr>\n",
       "  </tbody>\n",
       "</table>\n",
       "<p>4922 rows × 6 columns</p>\n",
       "</div>"
      ],
      "text/plain": [
       "      MonthlyCharges  SeniorCitizen InternetService  tenure        Contract  \\\n",
       "5224          101.15              0     Fiber optic       8  Month-to-month   \n",
       "3321           70.15              1             DSL      38        One year   \n",
       "6427           79.60              0             DSL      70        Two year   \n",
       "4061           19.50              0              No      14        One year   \n",
       "473            53.60              0             DSL      24  Month-to-month   \n",
       "...              ...            ...             ...     ...             ...   \n",
       "362            50.30              0             DSL      58        One year   \n",
       "2481           90.45              0     Fiber optic      28        One year   \n",
       "4047           56.25              1             DSL      34  Month-to-month   \n",
       "6432           55.35              0             DSL      17  Month-to-month   \n",
       "2008           20.10              0              No      31        One year   \n",
       "\n",
       "      ElectronicCheck  \n",
       "5224                1  \n",
       "3321                0  \n",
       "6427                0  \n",
       "4061                0  \n",
       "473                 0  \n",
       "...               ...  \n",
       "362                 0  \n",
       "2481                1  \n",
       "4047                1  \n",
       "6432                0  \n",
       "2008                0  \n",
       "\n",
       "[4922 rows x 6 columns]"
      ]
     },
     "execution_count": 14,
     "metadata": {},
     "output_type": "execute_result"
    }
   ],
   "source": [
    "X_train"
   ]
  },
  {
   "cell_type": "code",
   "execution_count": 15,
   "metadata": {},
   "outputs": [
    {
     "data": {
      "text/plain": [
       "array([[101.15,   0.  ,   8.  , ...,   0.  ,   0.  ,   0.  ],\n",
       "       [ 70.15,   1.  ,  38.  , ...,   0.  ,   1.  ,   0.  ],\n",
       "       [ 79.6 ,   0.  ,  70.  , ...,   0.  ,   0.  ,   1.  ],\n",
       "       ...,\n",
       "       [ 56.25,   1.  ,  34.  , ...,   0.  ,   0.  ,   0.  ],\n",
       "       [ 55.35,   0.  ,  17.  , ...,   0.  ,   0.  ,   0.  ],\n",
       "       [ 20.1 ,   0.  ,  31.  , ...,   1.  ,   1.  ,   0.  ]])"
      ]
     },
     "execution_count": 15,
     "metadata": {},
     "output_type": "execute_result"
    }
   ],
   "source": [
    "# Perform the transformation for both the training and the test set.\n",
    "\n",
    "X_train_categorical = drop_enc.transform(X_train[['InternetService','Contract']]).toarray()\n",
    "X_train_numerical = X_train[['MonthlyCharges','SeniorCitizen','tenure']].values\n",
    "\n",
    "# combine the numerical variables and the one-hot encoded categorical variables\n",
    "X_train_transformed = np.concatenate((X_train_numerical,X_train_categorical), axis = 1)\n",
    "\n",
    "X_test_categorical = drop_enc.transform(X_test[['InternetService','Contract']]).toarray()\n",
    "X_test_numerical = X_test[['MonthlyCharges','SeniorCitizen','tenure']].values\n",
    "X_test_transformed = np.concatenate((X_test_numerical,X_test_categorical), axis = 1)\n",
    "\n",
    "X_train_transformed"
   ]
  },
  {
   "cell_type": "markdown",
   "metadata": {},
   "source": [
    "#### 2.2 Model Fitting and Prediction Making"
   ]
  },
  {
   "cell_type": "code",
   "execution_count": 16,
   "metadata": {},
   "outputs": [
    {
     "name": "stdout",
     "output_type": "stream",
     "text": [
      "Confusion Matrix: \n",
      " [[1206  336]\n",
      " [ 163  405]]\n",
      "\n",
      "Accuracy: 0.7635071090047393\n"
     ]
    }
   ],
   "source": [
    "from sklearn.discriminant_analysis import LinearDiscriminantAnalysis\n",
    "from sklearn.metrics import accuracy_score\n",
    "\n",
    "lda = LinearDiscriminantAnalysis()\n",
    "lda.fit(X_train_transformed, y_train)\n",
    "\n",
    "y_prob_lda = lda.predict_proba(X_test_transformed)\n",
    "y_pred_lda = pd.Series([1 if x > 1/3 else 0 for x in y_prob_lda[:,1]], index=y_prob.index)\n",
    "\n",
    "cm = confusion_matrix(y_test, y_pred_lda)\n",
    "print (\"Confusion Matrix: \\n\", cm)\n",
    "print (\"\\nAccuracy:\", accuracy_score(y_test, y_pred_lda))"
   ]
  },
  {
   "cell_type": "markdown",
   "metadata": {},
   "source": [
    "#### 2.3 Plot the ROC Curve"
   ]
  },
  {
   "cell_type": "code",
   "execution_count": 17,
   "metadata": {},
   "outputs": [
    {
     "data": {
      "image/png": "[encoded data removed]",
      "text/plain": [
       "<Figure size 576x432 with 1 Axes>"
      ]
     },
     "metadata": {
      "needs_background": "light"
     },
     "output_type": "display_data"
    }
   ],
   "source": [
    "fpr_lda, tpr_lda, _ = roc_curve(y_test, y_prob_lda[:,1])\n",
    "roc_auc_lda = auc(fpr_lda, tpr_lda)\n",
    "\n",
    "plt.figure(figsize=(8, 6))\n",
    "plt.title('ROC Curve', fontsize=18)\n",
    "plt.xlabel('FPR', fontsize=16)\n",
    "plt.ylabel('TPR', fontsize=16)\n",
    "plt.xlim([-0.01, 1.00])\n",
    "plt.ylim([-0.01, 1.01])\n",
    "plt.plot(fpr, tpr, lw=3, label='Logistic Regression (area = {:0.2f})'.format(roc_auc))\n",
    "plt.plot(fpr_lda, tpr_lda, lw=3, label='LDA (area = {:0.2f})'.format(roc_auc_lda))\n",
    "plt.plot([0, 1], [0, 1], color='navy', lw=3, linestyle='--', label='Naive Baseline (area = 0.50)')\n",
    "plt.legend(loc='lower right', fontsize=14)\n",
    "plt.show()"
   ]
  },
  {
   "cell_type": "code",
   "execution_count": null,
   "metadata": {},
   "outputs": [],
   "source": []
  }
 ],
 "metadata": {
  "kernelspec": {
   "display_name": "Python 3",
   "language": "python",
   "name": "python3"
  },
  "language_info": {
   "codemirror_mode": {
    "name": "ipython",
    "version": 3
   },
   "file_extension": ".py",
   "mimetype": "text/x-python",
   "name": "python",
   "nbconvert_exporter": "python",
   "pygments_lexer": "ipython3",
   "version": "3.7.4"
  }
 },
 "nbformat": 4,
 "nbformat_minor": 4
}
