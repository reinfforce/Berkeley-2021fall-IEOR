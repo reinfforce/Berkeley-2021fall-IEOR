{
 "cells": [
  {
   "cell_type": "markdown",
   "metadata": {},
   "source": [
    "# a)"
   ]
  },
  {
   "cell_type": "code",
   "execution_count": 2,
   "metadata": {},
   "outputs": [],
   "source": [
    "import pandas as pd\n",
    "import numpy as np\n",
    "from bs4 import BeautifulSoup\n",
    "\n",
    "train = pd.read_csv('stack_stats_2020_train.csv')\n",
    "test = pd.read_csv('stack_stats_2020_test.csv')"
   ]
  },
  {
   "cell_type": "code",
   "execution_count": 3,
   "metadata": {},
   "outputs": [
    {
     "name": "stderr",
     "output_type": "stream",
     "text": [
      "[nltk_data] Downloading package punkt to /Users/zhouyi/nltk_data...\n",
      "[nltk_data]   Package punkt is already up-to-date!\n",
      "[nltk_data] Downloading package stopwords to\n",
      "[nltk_data]     /Users/zhouyi/nltk_data...\n",
      "[nltk_data]   Package stopwords is already up-to-date!\n"
     ]
    }
   ],
   "source": [
    "# Stop words\n",
    "import nltk\n",
    "nltk.download('punkt')\n",
    "nltk.download('stopwords')\n",
    "from nltk.corpus import stopwords\n",
    "stop_words = set(stopwords.words('english'))\n",
    "def remove_stopwords(document):   \n",
    "    words = [word for word in document if not word in stop_words]   \n",
    "    return words\n",
    "\n",
    "# Stem words\n",
    "from nltk.stem import PorterStemmer\n",
    "porter = PorterStemmer()\n",
    "def stemmer(document):    \n",
    "    stemmed_document = [porter.stem(word) for word in document]    \n",
    "    return stemmed_document\n",
    "\n",
    "# Punctuation\n",
    "from string import punctuation\n",
    "def remove_punctuation(document):\n",
    "    no_punct = ''.join([character for character in document if character not in punctuation])    \n",
    "    return no_punct\n",
    "\n",
    "# Remove digits\n",
    "def remove_digit(document): \n",
    "    no_digit = ''.join([character for character in document if not character.isdigit()])         \n",
    "    return no_digit"
   ]
  },
  {
   "cell_type": "code",
   "execution_count": 4,
   "metadata": {},
   "outputs": [],
   "source": [
    "from nltk.tokenize import word_tokenize\n",
    "from nltk.tokenize.treebank import TreebankWordDetokenizer\n",
    "from sklearn.feature_extraction.text import CountVectorizer\n",
    "\n",
    "def data_process(df,series,min_df):\n",
    "    # Remove html\n",
    "    text = df[series]\n",
    "    text = text.apply(BeautifulSoup,args=[\"html.parser\"])\n",
    "    text = text.apply(lambda x: x.get_text())\n",
    "    text = text.str.replace(r\"\\n\",\"\")\n",
    "    text = text.str.replace(r\"<br/>\", \"\")\n",
    "    text = text.str.replace(r\"\\t\",\"\")\n",
    "    \n",
    "    # Turn to lower case\n",
    "    text = text.str.lower()\n",
    "    \n",
    "    # Remove punctuation\n",
    "    text = text.apply(remove_punctuation)\n",
    "    \n",
    "    # Remove digits\n",
    "    text = text.apply(remove_digit)\n",
    "    \n",
    "    # Tokenization\n",
    "    text_tokenized = text.apply(word_tokenize)\n",
    "    \n",
    "    # Remove stop words\n",
    "    text_tokenized = text_tokenized.apply(remove_stopwords)\n",
    "    \n",
    "    # Stem words\n",
    "    text_tokenized = text_tokenized.apply(stemmer)\n",
    "\n",
    "    # Detokenize\n",
    "    text_detokenized = text_tokenized.apply(TreebankWordDetokenizer().detokenize)\n",
    "    \n",
    "    # Document-term Matrix¶\n",
    "    countvec = CountVectorizer(min_df = min_df) \n",
    "    sparse_dtm = countvec.fit_transform(text_detokenized)\n",
    "    dtm = pd.DataFrame(sparse_dtm.toarray(), columns=countvec.get_feature_names(), index=df.index)\n",
    "    \n",
    "    return dtm"
   ]
  },
  {
   "cell_type": "code",
   "execution_count": 5,
   "metadata": {},
   "outputs": [],
   "source": [
    "train[\"type\"] = \"Train\"\n",
    "test[\"type\"] = \"Test\"\n",
    "data = pd.concat([train, test])\n",
    "data = data.reset_index()\n",
    "data['Useful'] = (data['Score'] >= 1).astype('int32').astype('object')"
   ]
  },
  {
   "cell_type": "code",
   "execution_count": 6,
   "metadata": {},
   "outputs": [
    {
     "data": {
      "text/html": [
       "<div>\n",
       "<style scoped>\n",
       "    .dataframe tbody tr th:only-of-type {\n",
       "        vertical-align: middle;\n",
       "    }\n",
       "\n",
       "    .dataframe tbody tr th {\n",
       "        vertical-align: top;\n",
       "    }\n",
       "\n",
       "    .dataframe thead th {\n",
       "        text-align: right;\n",
       "    }\n",
       "</style>\n",
       "<table border=\"1\" class=\"dataframe\">\n",
       "  <thead>\n",
       "    <tr style=\"text-align: right;\">\n",
       "      <th></th>\n",
       "      <th>index</th>\n",
       "      <th>Id</th>\n",
       "      <th>Score</th>\n",
       "      <th>Body</th>\n",
       "      <th>Title</th>\n",
       "      <th>Tags</th>\n",
       "      <th>type</th>\n",
       "      <th>Useful</th>\n",
       "    </tr>\n",
       "  </thead>\n",
       "  <tbody>\n",
       "    <tr>\n",
       "      <td>0</td>\n",
       "      <td>0</td>\n",
       "      <td>495560</td>\n",
       "      <td>1</td>\n",
       "      <td>&lt;p&gt;I have a set of data that I am transforming...</td>\n",
       "      <td>R: emmeans back tranform clr data using clrInv</td>\n",
       "      <td>&lt;r&gt;&lt;mixed-model&gt;&lt;linear&gt;&lt;lsmeans&gt;</td>\n",
       "      <td>Train</td>\n",
       "      <td>1</td>\n",
       "    </tr>\n",
       "    <tr>\n",
       "      <td>1</td>\n",
       "      <td>1</td>\n",
       "      <td>489896</td>\n",
       "      <td>0</td>\n",
       "      <td>&lt;p&gt;We are sending a one bit message to someone...</td>\n",
       "      <td>Trying to determine the failure rate of redund...</td>\n",
       "      <td>&lt;probability&gt;&lt;python&gt;</td>\n",
       "      <td>Train</td>\n",
       "      <td>0</td>\n",
       "    </tr>\n",
       "    <tr>\n",
       "      <td>2</td>\n",
       "      <td>2</td>\n",
       "      <td>497951</td>\n",
       "      <td>2</td>\n",
       "      <td>&lt;p&gt;I am aware that there is a similar post: &lt;a...</td>\n",
       "      <td>How to derive categorical cross entropy update...</td>\n",
       "      <td>&lt;logistic&gt;&lt;cross-entropy&gt;</td>\n",
       "      <td>Train</td>\n",
       "      <td>1</td>\n",
       "    </tr>\n",
       "    <tr>\n",
       "      <td>3</td>\n",
       "      <td>3</td>\n",
       "      <td>478542</td>\n",
       "      <td>2</td>\n",
       "      <td>&lt;p&gt;I have a Poisson distributed glm where I ha...</td>\n",
       "      <td>Learning more about glm parameters, how to dig...</td>\n",
       "      <td>&lt;generalized-linear-model&gt;&lt;interpretation&gt;</td>\n",
       "      <td>Train</td>\n",
       "      <td>1</td>\n",
       "    </tr>\n",
       "    <tr>\n",
       "      <td>4</td>\n",
       "      <td>4</td>\n",
       "      <td>458388</td>\n",
       "      <td>0</td>\n",
       "      <td>&lt;p&gt;1) how do i decide which transformation or ...</td>\n",
       "      <td>Is there I guide to decide which transformatio...</td>\n",
       "      <td>&lt;python&gt;&lt;data-transformation&gt;&lt;dataset&gt;&lt;feature...</td>\n",
       "      <td>Train</td>\n",
       "      <td>0</td>\n",
       "    </tr>\n",
       "  </tbody>\n",
       "</table>\n",
       "</div>"
      ],
      "text/plain": [
       "   index      Id  Score                                               Body  \\\n",
       "0      0  495560      1  <p>I have a set of data that I am transforming...   \n",
       "1      1  489896      0  <p>We are sending a one bit message to someone...   \n",
       "2      2  497951      2  <p>I am aware that there is a similar post: <a...   \n",
       "3      3  478542      2  <p>I have a Poisson distributed glm where I ha...   \n",
       "4      4  458388      0  <p>1) how do i decide which transformation or ...   \n",
       "\n",
       "                                               Title  \\\n",
       "0     R: emmeans back tranform clr data using clrInv   \n",
       "1  Trying to determine the failure rate of redund...   \n",
       "2  How to derive categorical cross entropy update...   \n",
       "3  Learning more about glm parameters, how to dig...   \n",
       "4  Is there I guide to decide which transformatio...   \n",
       "\n",
       "                                                Tags   type Useful  \n",
       "0                  <r><mixed-model><linear><lsmeans>  Train      1  \n",
       "1                              <probability><python>  Train      0  \n",
       "2                          <logistic><cross-entropy>  Train      1  \n",
       "3         <generalized-linear-model><interpretation>  Train      1  \n",
       "4  <python><data-transformation><dataset><feature...  Train      0  "
      ]
     },
     "execution_count": 6,
     "metadata": {},
     "output_type": "execute_result"
    }
   ],
   "source": [
    "data.head()"
   ]
  },
  {
   "cell_type": "code",
   "execution_count": 7,
   "metadata": {},
   "outputs": [
    {
     "data": {
      "text/html": [
       "<div>\n",
       "<style scoped>\n",
       "    .dataframe tbody tr th:only-of-type {\n",
       "        vertical-align: middle;\n",
       "    }\n",
       "\n",
       "    .dataframe tbody tr th {\n",
       "        vertical-align: top;\n",
       "    }\n",
       "\n",
       "    .dataframe thead th {\n",
       "        text-align: right;\n",
       "    }\n",
       "</style>\n",
       "<table border=\"1\" class=\"dataframe\">\n",
       "  <thead>\n",
       "    <tr style=\"text-align: right;\">\n",
       "      <th></th>\n",
       "      <th>Id</th>\n",
       "      <th>Score</th>\n",
       "      <th>Title</th>\n",
       "      <th>Tags</th>\n",
       "      <th>type</th>\n",
       "      <th>Useful</th>\n",
       "      <th>abl_body</th>\n",
       "      <th>actual_body</th>\n",
       "      <th>algorithm_body</th>\n",
       "      <th>also_body</th>\n",
       "      <th>...</th>\n",
       "      <th>vector_body</th>\n",
       "      <th>want_body</th>\n",
       "      <th>way_body</th>\n",
       "      <th>weight_body</th>\n",
       "      <th>well_body</th>\n",
       "      <th>whether_body</th>\n",
       "      <th>without_body</th>\n",
       "      <th>wonder_body</th>\n",
       "      <th>work_body</th>\n",
       "      <th>would_body</th>\n",
       "    </tr>\n",
       "  </thead>\n",
       "  <tbody>\n",
       "    <tr>\n",
       "      <td>0</td>\n",
       "      <td>495560</td>\n",
       "      <td>1</td>\n",
       "      <td>R: emmeans back tranform clr data using clrInv</td>\n",
       "      <td>&lt;r&gt;&lt;mixed-model&gt;&lt;linear&gt;&lt;lsmeans&gt;</td>\n",
       "      <td>Train</td>\n",
       "      <td>1</td>\n",
       "      <td>0</td>\n",
       "      <td>0</td>\n",
       "      <td>0</td>\n",
       "      <td>0</td>\n",
       "      <td>...</td>\n",
       "      <td>0</td>\n",
       "      <td>0</td>\n",
       "      <td>0</td>\n",
       "      <td>0</td>\n",
       "      <td>0</td>\n",
       "      <td>0</td>\n",
       "      <td>0</td>\n",
       "      <td>0</td>\n",
       "      <td>0</td>\n",
       "      <td>0</td>\n",
       "    </tr>\n",
       "    <tr>\n",
       "      <td>1</td>\n",
       "      <td>489896</td>\n",
       "      <td>0</td>\n",
       "      <td>Trying to determine the failure rate of redund...</td>\n",
       "      <td>&lt;probability&gt;&lt;python&gt;</td>\n",
       "      <td>Train</td>\n",
       "      <td>0</td>\n",
       "      <td>0</td>\n",
       "      <td>0</td>\n",
       "      <td>0</td>\n",
       "      <td>0</td>\n",
       "      <td>...</td>\n",
       "      <td>0</td>\n",
       "      <td>0</td>\n",
       "      <td>0</td>\n",
       "      <td>0</td>\n",
       "      <td>0</td>\n",
       "      <td>0</td>\n",
       "      <td>0</td>\n",
       "      <td>0</td>\n",
       "      <td>0</td>\n",
       "      <td>0</td>\n",
       "    </tr>\n",
       "    <tr>\n",
       "      <td>2</td>\n",
       "      <td>497951</td>\n",
       "      <td>2</td>\n",
       "      <td>How to derive categorical cross entropy update...</td>\n",
       "      <td>&lt;logistic&gt;&lt;cross-entropy&gt;</td>\n",
       "      <td>Train</td>\n",
       "      <td>1</td>\n",
       "      <td>0</td>\n",
       "      <td>0</td>\n",
       "      <td>0</td>\n",
       "      <td>0</td>\n",
       "      <td>...</td>\n",
       "      <td>3</td>\n",
       "      <td>0</td>\n",
       "      <td>0</td>\n",
       "      <td>0</td>\n",
       "      <td>0</td>\n",
       "      <td>0</td>\n",
       "      <td>0</td>\n",
       "      <td>0</td>\n",
       "      <td>0</td>\n",
       "      <td>1</td>\n",
       "    </tr>\n",
       "    <tr>\n",
       "      <td>3</td>\n",
       "      <td>478542</td>\n",
       "      <td>2</td>\n",
       "      <td>Learning more about glm parameters, how to dig...</td>\n",
       "      <td>&lt;generalized-linear-model&gt;&lt;interpretation&gt;</td>\n",
       "      <td>Train</td>\n",
       "      <td>1</td>\n",
       "      <td>0</td>\n",
       "      <td>0</td>\n",
       "      <td>0</td>\n",
       "      <td>0</td>\n",
       "      <td>...</td>\n",
       "      <td>0</td>\n",
       "      <td>0</td>\n",
       "      <td>1</td>\n",
       "      <td>0</td>\n",
       "      <td>1</td>\n",
       "      <td>0</td>\n",
       "      <td>0</td>\n",
       "      <td>0</td>\n",
       "      <td>0</td>\n",
       "      <td>0</td>\n",
       "    </tr>\n",
       "    <tr>\n",
       "      <td>4</td>\n",
       "      <td>458388</td>\n",
       "      <td>0</td>\n",
       "      <td>Is there I guide to decide which transformatio...</td>\n",
       "      <td>&lt;python&gt;&lt;data-transformation&gt;&lt;dataset&gt;&lt;feature...</td>\n",
       "      <td>Train</td>\n",
       "      <td>0</td>\n",
       "      <td>0</td>\n",
       "      <td>0</td>\n",
       "      <td>0</td>\n",
       "      <td>0</td>\n",
       "      <td>...</td>\n",
       "      <td>0</td>\n",
       "      <td>0</td>\n",
       "      <td>0</td>\n",
       "      <td>0</td>\n",
       "      <td>0</td>\n",
       "      <td>0</td>\n",
       "      <td>0</td>\n",
       "      <td>0</td>\n",
       "      <td>0</td>\n",
       "      <td>2</td>\n",
       "    </tr>\n",
       "  </tbody>\n",
       "</table>\n",
       "<p>5 rows × 197 columns</p>\n",
       "</div>"
      ],
      "text/plain": [
       "       Id  Score                                              Title  \\\n",
       "0  495560      1     R: emmeans back tranform clr data using clrInv   \n",
       "1  489896      0  Trying to determine the failure rate of redund...   \n",
       "2  497951      2  How to derive categorical cross entropy update...   \n",
       "3  478542      2  Learning more about glm parameters, how to dig...   \n",
       "4  458388      0  Is there I guide to decide which transformatio...   \n",
       "\n",
       "                                                Tags   type Useful  abl_body  \\\n",
       "0                  <r><mixed-model><linear><lsmeans>  Train      1         0   \n",
       "1                              <probability><python>  Train      0         0   \n",
       "2                          <logistic><cross-entropy>  Train      1         0   \n",
       "3         <generalized-linear-model><interpretation>  Train      1         0   \n",
       "4  <python><data-transformation><dataset><feature...  Train      0         0   \n",
       "\n",
       "   actual_body  algorithm_body  also_body  ...  vector_body  want_body  \\\n",
       "0            0               0          0  ...            0          0   \n",
       "1            0               0          0  ...            0          0   \n",
       "2            0               0          0  ...            3          0   \n",
       "3            0               0          0  ...            0          0   \n",
       "4            0               0          0  ...            0          0   \n",
       "\n",
       "   way_body  weight_body  well_body  whether_body  without_body  wonder_body  \\\n",
       "0         0            0          0             0             0            0   \n",
       "1         0            0          0             0             0            0   \n",
       "2         0            0          0             0             0            0   \n",
       "3         1            0          1             0             0            0   \n",
       "4         0            0          0             0             0            0   \n",
       "\n",
       "   work_body  would_body  \n",
       "0          0           0  \n",
       "1          0           0  \n",
       "2          0           1  \n",
       "3          0           0  \n",
       "4          0           2  \n",
       "\n",
       "[5 rows x 197 columns]"
      ]
     },
     "execution_count": 7,
     "metadata": {},
     "output_type": "execute_result"
    }
   ],
   "source": [
    "# Body part\n",
    "dtm1 = data_process(data, \"Body\", 0.05)\n",
    "for label in dtm1.columns:\n",
    "    dtm1 = dtm1.rename(columns = {label:label+'_body'})\n",
    "data2 = data.merge(dtm1,left_index=True,right_index=True)\n",
    "data2 = data2.drop(['index','Body'],axis=1)\n",
    "data2.head()"
   ]
  },
  {
   "cell_type": "code",
   "execution_count": 8,
   "metadata": {},
   "outputs": [
    {
     "data": {
      "text/html": [
       "<div>\n",
       "<style scoped>\n",
       "    .dataframe tbody tr th:only-of-type {\n",
       "        vertical-align: middle;\n",
       "    }\n",
       "\n",
       "    .dataframe tbody tr th {\n",
       "        vertical-align: top;\n",
       "    }\n",
       "\n",
       "    .dataframe thead th {\n",
       "        text-align: right;\n",
       "    }\n",
       "</style>\n",
       "<table border=\"1\" class=\"dataframe\">\n",
       "  <thead>\n",
       "    <tr style=\"text-align: right;\">\n",
       "      <th></th>\n",
       "      <th>Id</th>\n",
       "      <th>Score</th>\n",
       "      <th>Tags</th>\n",
       "      <th>type</th>\n",
       "      <th>Useful</th>\n",
       "      <th>abl_body</th>\n",
       "      <th>actual_body</th>\n",
       "      <th>algorithm_body</th>\n",
       "      <th>also_body</th>\n",
       "      <th>analysi_body</th>\n",
       "      <th>...</th>\n",
       "      <th>two_title</th>\n",
       "      <th>understand_title</th>\n",
       "      <th>use_title</th>\n",
       "      <th>valid_title</th>\n",
       "      <th>valu_title</th>\n",
       "      <th>variabl_title</th>\n",
       "      <th>varianc_title</th>\n",
       "      <th>vs_title</th>\n",
       "      <th>way_title</th>\n",
       "      <th>weight_title</th>\n",
       "    </tr>\n",
       "  </thead>\n",
       "  <tbody>\n",
       "    <tr>\n",
       "      <td>0</td>\n",
       "      <td>495560</td>\n",
       "      <td>1</td>\n",
       "      <td>&lt;r&gt;&lt;mixed-model&gt;&lt;linear&gt;&lt;lsmeans&gt;</td>\n",
       "      <td>Train</td>\n",
       "      <td>1</td>\n",
       "      <td>0</td>\n",
       "      <td>0</td>\n",
       "      <td>0</td>\n",
       "      <td>0</td>\n",
       "      <td>0</td>\n",
       "      <td>...</td>\n",
       "      <td>0</td>\n",
       "      <td>0</td>\n",
       "      <td>1</td>\n",
       "      <td>0</td>\n",
       "      <td>0</td>\n",
       "      <td>0</td>\n",
       "      <td>0</td>\n",
       "      <td>0</td>\n",
       "      <td>0</td>\n",
       "      <td>0</td>\n",
       "    </tr>\n",
       "    <tr>\n",
       "      <td>1</td>\n",
       "      <td>489896</td>\n",
       "      <td>0</td>\n",
       "      <td>&lt;probability&gt;&lt;python&gt;</td>\n",
       "      <td>Train</td>\n",
       "      <td>0</td>\n",
       "      <td>0</td>\n",
       "      <td>0</td>\n",
       "      <td>0</td>\n",
       "      <td>0</td>\n",
       "      <td>0</td>\n",
       "      <td>...</td>\n",
       "      <td>0</td>\n",
       "      <td>0</td>\n",
       "      <td>0</td>\n",
       "      <td>0</td>\n",
       "      <td>0</td>\n",
       "      <td>0</td>\n",
       "      <td>0</td>\n",
       "      <td>0</td>\n",
       "      <td>0</td>\n",
       "      <td>0</td>\n",
       "    </tr>\n",
       "    <tr>\n",
       "      <td>2</td>\n",
       "      <td>497951</td>\n",
       "      <td>2</td>\n",
       "      <td>&lt;logistic&gt;&lt;cross-entropy&gt;</td>\n",
       "      <td>Train</td>\n",
       "      <td>1</td>\n",
       "      <td>0</td>\n",
       "      <td>0</td>\n",
       "      <td>0</td>\n",
       "      <td>0</td>\n",
       "      <td>0</td>\n",
       "      <td>...</td>\n",
       "      <td>0</td>\n",
       "      <td>0</td>\n",
       "      <td>0</td>\n",
       "      <td>0</td>\n",
       "      <td>0</td>\n",
       "      <td>0</td>\n",
       "      <td>0</td>\n",
       "      <td>0</td>\n",
       "      <td>0</td>\n",
       "      <td>0</td>\n",
       "    </tr>\n",
       "    <tr>\n",
       "      <td>3</td>\n",
       "      <td>478542</td>\n",
       "      <td>2</td>\n",
       "      <td>&lt;generalized-linear-model&gt;&lt;interpretation&gt;</td>\n",
       "      <td>Train</td>\n",
       "      <td>1</td>\n",
       "      <td>0</td>\n",
       "      <td>0</td>\n",
       "      <td>0</td>\n",
       "      <td>0</td>\n",
       "      <td>0</td>\n",
       "      <td>...</td>\n",
       "      <td>0</td>\n",
       "      <td>0</td>\n",
       "      <td>0</td>\n",
       "      <td>0</td>\n",
       "      <td>0</td>\n",
       "      <td>0</td>\n",
       "      <td>0</td>\n",
       "      <td>0</td>\n",
       "      <td>0</td>\n",
       "      <td>0</td>\n",
       "    </tr>\n",
       "    <tr>\n",
       "      <td>4</td>\n",
       "      <td>458388</td>\n",
       "      <td>0</td>\n",
       "      <td>&lt;python&gt;&lt;data-transformation&gt;&lt;dataset&gt;&lt;feature...</td>\n",
       "      <td>Train</td>\n",
       "      <td>0</td>\n",
       "      <td>0</td>\n",
       "      <td>0</td>\n",
       "      <td>0</td>\n",
       "      <td>0</td>\n",
       "      <td>0</td>\n",
       "      <td>...</td>\n",
       "      <td>0</td>\n",
       "      <td>0</td>\n",
       "      <td>0</td>\n",
       "      <td>0</td>\n",
       "      <td>0</td>\n",
       "      <td>0</td>\n",
       "      <td>0</td>\n",
       "      <td>0</td>\n",
       "      <td>0</td>\n",
       "      <td>0</td>\n",
       "    </tr>\n",
       "  </tbody>\n",
       "</table>\n",
       "<p>5 rows × 305 columns</p>\n",
       "</div>"
      ],
      "text/plain": [
       "       Id  Score                                               Tags   type  \\\n",
       "0  495560      1                  <r><mixed-model><linear><lsmeans>  Train   \n",
       "1  489896      0                              <probability><python>  Train   \n",
       "2  497951      2                          <logistic><cross-entropy>  Train   \n",
       "3  478542      2         <generalized-linear-model><interpretation>  Train   \n",
       "4  458388      0  <python><data-transformation><dataset><feature...  Train   \n",
       "\n",
       "  Useful  abl_body  actual_body  algorithm_body  also_body  analysi_body  ...  \\\n",
       "0      1         0            0               0          0             0  ...   \n",
       "1      0         0            0               0          0             0  ...   \n",
       "2      1         0            0               0          0             0  ...   \n",
       "3      1         0            0               0          0             0  ...   \n",
       "4      0         0            0               0          0             0  ...   \n",
       "\n",
       "   two_title  understand_title  use_title  valid_title  valu_title  \\\n",
       "0          0                 0          1            0           0   \n",
       "1          0                 0          0            0           0   \n",
       "2          0                 0          0            0           0   \n",
       "3          0                 0          0            0           0   \n",
       "4          0                 0          0            0           0   \n",
       "\n",
       "   variabl_title  varianc_title  vs_title  way_title  weight_title  \n",
       "0              0              0         0          0             0  \n",
       "1              0              0         0          0             0  \n",
       "2              0              0         0          0             0  \n",
       "3              0              0         0          0             0  \n",
       "4              0              0         0          0             0  \n",
       "\n",
       "[5 rows x 305 columns]"
      ]
     },
     "execution_count": 8,
     "metadata": {},
     "output_type": "execute_result"
    }
   ],
   "source": [
    "# Title part\n",
    "dtm2 = data_process(data,'Title',0.01)\n",
    "for label in dtm2.columns:\n",
    "    dtm2 = dtm2.rename(columns = {label:label + '_title'})\n",
    "data3 = data2.merge(dtm2,left_index=True,right_index=True)\n",
    "data3 = data3.drop(['Title'],axis=1)\n",
    "data3.head()"
   ]
  },
  {
   "cell_type": "code",
   "execution_count": 9,
   "metadata": {},
   "outputs": [
    {
     "data": {
      "text/html": [
       "<div>\n",
       "<style scoped>\n",
       "    .dataframe tbody tr th:only-of-type {\n",
       "        vertical-align: middle;\n",
       "    }\n",
       "\n",
       "    .dataframe tbody tr th {\n",
       "        vertical-align: top;\n",
       "    }\n",
       "\n",
       "    .dataframe thead th {\n",
       "        text-align: right;\n",
       "    }\n",
       "</style>\n",
       "<table border=\"1\" class=\"dataframe\">\n",
       "  <thead>\n",
       "    <tr style=\"text-align: right;\">\n",
       "      <th></th>\n",
       "      <th>type</th>\n",
       "      <th>Useful</th>\n",
       "      <th>abl_body</th>\n",
       "      <th>actual_body</th>\n",
       "      <th>algorithm_body</th>\n",
       "      <th>also_body</th>\n",
       "      <th>analysi_body</th>\n",
       "      <th>anoth_body</th>\n",
       "      <th>answer_body</th>\n",
       "      <th>anyon_body</th>\n",
       "      <th>...</th>\n",
       "      <th>studi_tags</th>\n",
       "      <th>surviv_tags</th>\n",
       "      <th>test_tags</th>\n",
       "      <th>theori_tags</th>\n",
       "      <th>time_tags</th>\n",
       "      <th>transform_tags</th>\n",
       "      <th>valid_tags</th>\n",
       "      <th>valu_tags</th>\n",
       "      <th>variabl_tags</th>\n",
       "      <th>varianc_tags</th>\n",
       "    </tr>\n",
       "  </thead>\n",
       "  <tbody>\n",
       "    <tr>\n",
       "      <td>0</td>\n",
       "      <td>Train</td>\n",
       "      <td>1</td>\n",
       "      <td>0</td>\n",
       "      <td>0</td>\n",
       "      <td>0</td>\n",
       "      <td>0</td>\n",
       "      <td>0</td>\n",
       "      <td>0</td>\n",
       "      <td>0</td>\n",
       "      <td>0</td>\n",
       "      <td>...</td>\n",
       "      <td>0</td>\n",
       "      <td>0</td>\n",
       "      <td>0</td>\n",
       "      <td>0</td>\n",
       "      <td>0</td>\n",
       "      <td>0</td>\n",
       "      <td>0</td>\n",
       "      <td>0</td>\n",
       "      <td>0</td>\n",
       "      <td>0</td>\n",
       "    </tr>\n",
       "    <tr>\n",
       "      <td>1</td>\n",
       "      <td>Train</td>\n",
       "      <td>0</td>\n",
       "      <td>0</td>\n",
       "      <td>0</td>\n",
       "      <td>0</td>\n",
       "      <td>0</td>\n",
       "      <td>0</td>\n",
       "      <td>0</td>\n",
       "      <td>2</td>\n",
       "      <td>0</td>\n",
       "      <td>...</td>\n",
       "      <td>0</td>\n",
       "      <td>0</td>\n",
       "      <td>0</td>\n",
       "      <td>0</td>\n",
       "      <td>0</td>\n",
       "      <td>0</td>\n",
       "      <td>0</td>\n",
       "      <td>0</td>\n",
       "      <td>0</td>\n",
       "      <td>0</td>\n",
       "    </tr>\n",
       "    <tr>\n",
       "      <td>2</td>\n",
       "      <td>Train</td>\n",
       "      <td>1</td>\n",
       "      <td>0</td>\n",
       "      <td>0</td>\n",
       "      <td>0</td>\n",
       "      <td>0</td>\n",
       "      <td>0</td>\n",
       "      <td>0</td>\n",
       "      <td>1</td>\n",
       "      <td>0</td>\n",
       "      <td>...</td>\n",
       "      <td>0</td>\n",
       "      <td>0</td>\n",
       "      <td>0</td>\n",
       "      <td>0</td>\n",
       "      <td>0</td>\n",
       "      <td>0</td>\n",
       "      <td>0</td>\n",
       "      <td>0</td>\n",
       "      <td>0</td>\n",
       "      <td>0</td>\n",
       "    </tr>\n",
       "    <tr>\n",
       "      <td>3</td>\n",
       "      <td>Train</td>\n",
       "      <td>1</td>\n",
       "      <td>0</td>\n",
       "      <td>0</td>\n",
       "      <td>0</td>\n",
       "      <td>0</td>\n",
       "      <td>0</td>\n",
       "      <td>0</td>\n",
       "      <td>0</td>\n",
       "      <td>0</td>\n",
       "      <td>...</td>\n",
       "      <td>0</td>\n",
       "      <td>0</td>\n",
       "      <td>0</td>\n",
       "      <td>0</td>\n",
       "      <td>0</td>\n",
       "      <td>0</td>\n",
       "      <td>0</td>\n",
       "      <td>0</td>\n",
       "      <td>0</td>\n",
       "      <td>0</td>\n",
       "    </tr>\n",
       "    <tr>\n",
       "      <td>4</td>\n",
       "      <td>Train</td>\n",
       "      <td>0</td>\n",
       "      <td>0</td>\n",
       "      <td>0</td>\n",
       "      <td>0</td>\n",
       "      <td>0</td>\n",
       "      <td>0</td>\n",
       "      <td>0</td>\n",
       "      <td>0</td>\n",
       "      <td>0</td>\n",
       "      <td>...</td>\n",
       "      <td>0</td>\n",
       "      <td>0</td>\n",
       "      <td>0</td>\n",
       "      <td>0</td>\n",
       "      <td>0</td>\n",
       "      <td>1</td>\n",
       "      <td>0</td>\n",
       "      <td>0</td>\n",
       "      <td>0</td>\n",
       "      <td>0</td>\n",
       "    </tr>\n",
       "  </tbody>\n",
       "</table>\n",
       "<p>5 rows × 391 columns</p>\n",
       "</div>"
      ],
      "text/plain": [
       "    type Useful  abl_body  actual_body  algorithm_body  also_body  \\\n",
       "0  Train      1         0            0               0          0   \n",
       "1  Train      0         0            0               0          0   \n",
       "2  Train      1         0            0               0          0   \n",
       "3  Train      1         0            0               0          0   \n",
       "4  Train      0         0            0               0          0   \n",
       "\n",
       "   analysi_body  anoth_body  answer_body  anyon_body  ...  studi_tags  \\\n",
       "0             0           0            0           0  ...           0   \n",
       "1             0           0            2           0  ...           0   \n",
       "2             0           0            1           0  ...           0   \n",
       "3             0           0            0           0  ...           0   \n",
       "4             0           0            0           0  ...           0   \n",
       "\n",
       "   surviv_tags  test_tags  theori_tags  time_tags  transform_tags  valid_tags  \\\n",
       "0            0          0            0          0               0           0   \n",
       "1            0          0            0          0               0           0   \n",
       "2            0          0            0          0               0           0   \n",
       "3            0          0            0          0               0           0   \n",
       "4            0          0            0          0               1           0   \n",
       "\n",
       "   valu_tags  variabl_tags  varianc_tags  \n",
       "0          0             0             0  \n",
       "1          0             0             0  \n",
       "2          0             0             0  \n",
       "3          0             0             0  \n",
       "4          0             0             0  \n",
       "\n",
       "[5 rows x 391 columns]"
      ]
     },
     "execution_count": 9,
     "metadata": {},
     "output_type": "execute_result"
    }
   ],
   "source": [
    "# Tag part\n",
    "data3['Tags'] = data3['Tags'].str.replace(r\"<|>|-\", \" \")\n",
    "dtm3 = data_process(data3,'Tags',0.01)\n",
    "for label in dtm3.columns:\n",
    "    dtm3 = dtm3.rename(columns = {label:label+'_tags'})\n",
    "data4 = data3.merge(dtm3,left_index=True,right_index=True)\n",
    "data4 = data4.drop(['Tags'],axis=1)\n",
    "data4 = data4.drop(['Score','Id'],axis=1)\n",
    "data4.head()"
   ]
  },
  {
   "cell_type": "code",
   "execution_count": 10,
   "metadata": {},
   "outputs": [],
   "source": [
    "# Training set and test test\n",
    "train = data4[data4[\"type\"] == \"Train\"].drop(\"type\",axis=1)\n",
    "test = data4[data4[\"type\"] == \"Test\"].reset_index().drop([\"index\",\"type\"], axis=1)\n",
    "\n",
    "train_x = train.drop(['Useful'],axis=1)\n",
    "train_y = train['Useful'].astype('int')\n",
    "\n",
    "test_x = test.drop(['Useful'],axis=1)\n",
    "test_y = test['Useful'].astype('int')"
   ]
  },
  {
   "cell_type": "markdown",
   "metadata": {},
   "source": [
    "# b)"
   ]
  },
  {
   "cell_type": "markdown",
   "metadata": {},
   "source": [
    "## Baseline Model"
   ]
  },
  {
   "cell_type": "code",
   "execution_count": 11,
   "metadata": {},
   "outputs": [
    {
     "name": "stdout",
     "output_type": "stream",
     "text": [
      "0    9684\n",
      "1    9563\n",
      "Name: Useful, dtype: int64\n",
      "0    4226\n",
      "1    4023\n",
      "Name: Useful, dtype: int64\n"
     ]
    }
   ],
   "source": [
    "print(train_y.value_counts())\n",
    "print(test_y.value_counts())"
   ]
  },
  {
   "cell_type": "code",
   "execution_count": 12,
   "metadata": {},
   "outputs": [
    {
     "name": "stdout",
     "output_type": "stream",
     "text": [
      "ACC of Baseline Model is: 0.5123045217602133\n"
     ]
    }
   ],
   "source": [
    "print('ACC of Baseline Model is:', 4226/(4226 + 4023))"
   ]
  },
  {
   "cell_type": "markdown",
   "metadata": {},
   "source": [
    "## Decision Tree Classifier with CV"
   ]
  },
  {
   "cell_type": "code",
   "execution_count": 13,
   "metadata": {},
   "outputs": [
    {
     "name": "stdout",
     "output_type": "stream",
     "text": [
      "Confusion Matrix: \n",
      " [[2225 2001]\n",
      " [1984 2039]]\n",
      "\n",
      "Accuracy: 0.5169111407443326\n"
     ]
    }
   ],
   "source": [
    "from sklearn.tree import DecisionTreeClassifier\n",
    "\n",
    "dtc = DecisionTreeClassifier()\n",
    "dtc.fit(train_x,train_y)\n",
    "\n",
    "from sklearn.metrics import confusion_matrix\n",
    "from sklearn.metrics import accuracy_score\n",
    "\n",
    "y_pred_cart = dtc.predict(test_x)\n",
    "cm = confusion_matrix(test_y, y_pred_cart)\n",
    "print (\"Confusion Matrix: \\n\", cm)\n",
    "print (\"\\nAccuracy:\", accuracy_score(test_y, y_pred_cart))"
   ]
  },
  {
   "cell_type": "markdown",
   "metadata": {},
   "source": [
    "## Random Forest"
   ]
  },
  {
   "cell_type": "code",
   "execution_count": 14,
   "metadata": {},
   "outputs": [
    {
     "name": "stdout",
     "output_type": "stream",
     "text": [
      "Confusion Matrix: \n",
      " [[2497 1729]\n",
      " [1886 2137]]\n",
      "\n",
      "Accuracy: 0.5617650624318099\n"
     ]
    }
   ],
   "source": [
    "from sklearn.ensemble import RandomForestClassifier\n",
    "\n",
    "rf = RandomForestClassifier()\n",
    "rf.fit(train_x, train_y)\n",
    "\n",
    "y_pred_rf = rf.predict(test_x)\n",
    "cm = confusion_matrix(test_y, y_pred_rf)\n",
    "print (\"Confusion Matrix: \\n\", cm)\n",
    "print (\"\\nAccuracy:\", accuracy_score(test_y, y_pred_rf))"
   ]
  },
  {
   "cell_type": "markdown",
   "metadata": {},
   "source": [
    "## Logistic Regression"
   ]
  },
  {
   "cell_type": "code",
   "execution_count": 15,
   "metadata": {},
   "outputs": [
    {
     "name": "stdout",
     "output_type": "stream",
     "text": [
      "Confusion Matrix: \n",
      " [[2590 1636]\n",
      " [1956 2067]]\n",
      "\n",
      "Accuracy: 0.5645532791853558\n"
     ]
    },
    {
     "name": "stderr",
     "output_type": "stream",
     "text": [
      "/Users/zhouyi/opt/anaconda3/lib/python3.8/site-packages/sklearn/linear_model/_logistic.py:763: ConvergenceWarning: lbfgs failed to converge (status=1):\n",
      "STOP: TOTAL NO. of ITERATIONS REACHED LIMIT.\n",
      "\n",
      "Increase the number of iterations (max_iter) or scale the data as shown in:\n",
      "    https://scikit-learn.org/stable/modules/preprocessing.html\n",
      "Please also refer to the documentation for alternative solver options:\n",
      "    https://scikit-learn.org/stable/modules/linear_model.html#logistic-regression\n",
      "  n_iter_i = _check_optimize_result(\n"
     ]
    }
   ],
   "source": [
    "from sklearn.linear_model import LogisticRegression\n",
    "\n",
    "logreg = LogisticRegression()\n",
    "logreg.fit(train_x, train_y)\n",
    "\n",
    "y_prob = logreg.predict_proba(test_x)\n",
    "y_pred_lr = pd.Series([1 if x > 0.5 else 0 for x in y_prob[:,1]], index=test_y.index)\n",
    "\n",
    "cm = confusion_matrix(test_y, y_pred_lr)\n",
    "print (\"Confusion Matrix: \\n\", cm)\n",
    "print (\"\\nAccuracy:\", accuracy_score(test_y, y_pred_lr))"
   ]
  },
  {
   "cell_type": "markdown",
   "metadata": {},
   "source": [
    "## LDA"
   ]
  },
  {
   "cell_type": "code",
   "execution_count": 16,
   "metadata": {},
   "outputs": [
    {
     "name": "stdout",
     "output_type": "stream",
     "text": [
      "Confusion Matrix: \n",
      " [[2597 1629]\n",
      " [1978 2045]]\n",
      "\n",
      "Accuracy: 0.5627348769547824\n"
     ]
    }
   ],
   "source": [
    "from sklearn.discriminant_analysis import LinearDiscriminantAnalysis\n",
    "\n",
    "lda = LinearDiscriminantAnalysis()\n",
    "lda.fit(train_x, train_y)\n",
    "\n",
    "y_pred_lda = lda.predict(test_x)\n",
    "cm = confusion_matrix(test_y, y_pred_lda)\n",
    "print (\"Confusion Matrix: \\n\", cm)\n",
    "print (\"\\nAccuracy:\", accuracy_score(test_y, y_pred_lda))"
   ]
  },
  {
   "cell_type": "markdown",
   "metadata": {},
   "source": [
    "## Boosting"
   ]
  },
  {
   "cell_type": "code",
   "execution_count": 17,
   "metadata": {},
   "outputs": [
    {
     "name": "stdout",
     "output_type": "stream",
     "text": [
      "Confusion Matrix: \n",
      " [[2834 1392]\n",
      " [2143 1880]]\n",
      "\n",
      "Accuracy: 0.5714632076615347\n"
     ]
    }
   ],
   "source": [
    "from sklearn.ensemble import GradientBoostingClassifier\n",
    "\n",
    "gbc = GradientBoostingClassifier()\n",
    "gbc.fit(train_x, train_y)\n",
    "\n",
    "y_pred_gbc = gbc.predict(test_x)\n",
    "cm = confusion_matrix(test_y, y_pred_gbc)\n",
    "print (\"Confusion Matrix: \\n\", cm)\n",
    "print (\"\\nAccuracy:\", accuracy_score(test_y, y_pred_gbc))"
   ]
  },
  {
   "cell_type": "markdown",
   "metadata": {},
   "source": [
    "Based on the accuracy of the above models, I will choose the boosting model because it has the highest accuracy."
   ]
  },
  {
   "cell_type": "code",
   "execution_count": 18,
   "metadata": {},
   "outputs": [],
   "source": [
    "def fpr(predictions,test_y,train_y):\n",
    "    tn, fp, fn, tp = confusion_matrix(test_y, predictions).ravel()\n",
    "    return fp / (fp + tn)\n",
    "\n",
    "def tpr(predictions,test_y,train_y):\n",
    "    tn, fp, fn, tp = confusion_matrix(test_y, predictions).ravel()\n",
    "    return tp / (tp + fn)\n",
    "\n",
    "def accuracy(predictions,test_y,train_y):\n",
    "    acc = accuracy_score(test_y, predictions)\n",
    "    return acc\n",
    "\n",
    "def bootstrap_validation(test_data, test_label, train_label, model, metrics_list, sample=500, random_state=66):\n",
    "    n_sample = sample\n",
    "    n_metrics = len(metrics_list)\n",
    "    output_array=np.zeros([n_sample, n_metrics])\n",
    "    output_array[:]=np.nan\n",
    "    print(output_array.shape)\n",
    "    for bs_iter in range(n_sample):\n",
    "        bs_index = np.random.choice(test_data.index, len(test_data.index), replace=True)\n",
    "        bs_data = test_data.loc[bs_index]\n",
    "        bs_label = test_label.loc[bs_index]\n",
    "        bs_predicted = model.predict(bs_data)\n",
    "        for metrics_iter in range(n_metrics):\n",
    "            metrics = metrics_list[metrics_iter]\n",
    "            output_array[bs_iter, metrics_iter]=metrics(bs_predicted,bs_label,train_label)\n",
    "    output_df = pd.DataFrame(output_array)\n",
    "    return output_df"
   ]
  },
  {
   "cell_type": "code",
   "execution_count": 19,
   "metadata": {},
   "outputs": [
    {
     "name": "stdout",
     "output_type": "stream",
     "text": [
      "(1000, 3)\n",
      "The bootstrapped accuracy of boosting model is 0.5714506000727364\n",
      "The bootstrapped TPR of boosting model is 0.4670228200611071\n",
      "The bootstrapped FPR of boosting model is 0.3290481638365954\n"
     ]
    }
   ],
   "source": [
    "bs_output_gbc = bootstrap_validation(test_x,test_y,train_y,gbc,\n",
    "                                 metrics_list=[accuracy,tpr,fpr],\n",
    "                                 sample = 1000)\n",
    "\n",
    "bs_gbc_acc_mean = bs_output_gbc.mean()\n",
    "\n",
    "print('The bootstrapped accuracy of boosting model is '+str(float(bs_gbc_acc_mean[0])))\n",
    "print('The bootstrapped TPR of boosting model is '+str(float(bs_gbc_acc_mean[1])))\n",
    "print('The bootstrapped FPR of boosting model is '+str(float(bs_gbc_acc_mean[2])))"
   ]
  },
  {
   "cell_type": "code",
   "execution_count": 20,
   "metadata": {},
   "outputs": [
    {
     "data": {
      "text/plain": [
       "(-0.05, 0.05)"
      ]
     },
     "execution_count": 20,
     "metadata": {},
     "output_type": "execute_result"
    },
    {
     "data": {
      "image/png": "[encoded data removed]",
      "text/plain": [
       "<Figure size 864x360 with 2 Axes>"
      ]
     },
     "metadata": {
      "needs_background": "light"
     },
     "output_type": "display_data"
    }
   ],
   "source": [
    "import matplotlib.pyplot as plt\n",
    "\n",
    "test_acc = accuracy(y_pred_gbc,test_y,train_y)\n",
    "\n",
    "fig, axs = plt.subplots(ncols=2, figsize=(12,5))\n",
    "axs[0].set_xlabel('Bootstrap Accuracy Estimate', fontsize=16)\n",
    "axs[1].set_xlabel('Boot Accuracy - Test Set Accuracy', fontsize=16)\n",
    "axs[0].set_ylabel('Count', fontsize=16)\n",
    "axs[0].hist(bs_output_gbc.iloc[:,0], bins=10,edgecolor='green', linewidth=2,color = \"grey\")\n",
    "axs[0].set_xlim([0.54,0.6])\n",
    "axs[1].hist(bs_output_gbc.iloc[:,0]-test_acc, bins=10,edgecolor='green', linewidth=2,color = \"grey\")\n",
    "axs[1].set_xlim([-0.05,0.05])"
   ]
  },
  {
   "cell_type": "markdown",
   "metadata": {},
   "source": [
    "# c)"
   ]
  },
  {
   "cell_type": "markdown",
   "metadata": {},
   "source": [
    "## i)"
   ]
  },
  {
   "cell_type": "markdown",
   "metadata": {},
   "source": [
    "From the baseline model, we can see that about 51.2% of the questions are useful, which means that if we follow the Stack Overflow's current policy that they assign the problem according to the timestamp, the probability that the top question is useful is 51.2%.  \n",
    "Now we would like to rearrange the questions order, then the probability that the top question is useful is actually equivalent to the probability that the question is literally useful given that our model predict it to be useful.  \n",
    "Given the confusion matrix, the probability we wanna calculate is the precision of the model. (The formula of which is $\\frac{TP}{TP+FP}$ \n",
    "I would like to select a model with the highest precision\n"
   ]
  },
  {
   "cell_type": "markdown",
   "metadata": {},
   "source": [
    "## ii）"
   ]
  },
  {
   "cell_type": "markdown",
   "metadata": {},
   "source": [
    "First of all, I calculate the corresponding precision of the models mentioned above given their confusion matrix.  \n",
    "The precision of CART model is $\\frac{2039}{2039+2001} = 50.47\\%$  \n",
    "The precision of Random Forest model is $\\frac{2137}{2137+1729} = 55.28\\%$.   \n",
    "The precision of Logistic Regression model is $\\frac{2067}{2067+1636} = 55.82\\%$.   \n",
    "The precision of LDA model is $\\frac{2045}{2045+1629} = 55.66\\%$.   \n",
    "The precision of Boosting model is $\\frac{1880}{1880+1392} = 57.46\\%$. \n",
    "\n",
    "It seems that the boosting model has the highest precision among all models. In this case, we don't wanna tune any other hyperparameters in the models, however, we may change the threshold of the logistic regression model to get a better precision score.\n",
    "\n",
    "In order to change the threshold, we need to be careful about it. Given the back-of-the-envelope theory, given 15 related questions, the number of useful questions 'on average' is 8. And, we know that most users are extremely impatient and will only pay attention to the single question. Then we would like to have at least 1 positive predictions out of these averaged 8 useful questions. Thus the TPR should be $TPR >= \\frac{1}{8} = 0.125$"
   ]
  },
  {
   "cell_type": "markdown",
   "metadata": {},
   "source": [
    "Recall the logistic regression in the case of p=0.5"
   ]
  },
  {
   "cell_type": "code",
   "execution_count": 22,
   "metadata": {},
   "outputs": [
    {
     "name": "stdout",
     "output_type": "stream",
     "text": [
      "Confusion Matrix: \n",
      " [[2590 1636]\n",
      " [1956 2067]]\n"
     ]
    },
    {
     "name": "stderr",
     "output_type": "stream",
     "text": [
      "/Users/zhouyi/opt/anaconda3/lib/python3.8/site-packages/sklearn/linear_model/_logistic.py:763: ConvergenceWarning: lbfgs failed to converge (status=1):\n",
      "STOP: TOTAL NO. of ITERATIONS REACHED LIMIT.\n",
      "\n",
      "Increase the number of iterations (max_iter) or scale the data as shown in:\n",
      "    https://scikit-learn.org/stable/modules/preprocessing.html\n",
      "Please also refer to the documentation for alternative solver options:\n",
      "    https://scikit-learn.org/stable/modules/linear_model.html#logistic-regression\n",
      "  n_iter_i = _check_optimize_result(\n"
     ]
    }
   ],
   "source": [
    "from sklearn.linear_model import LogisticRegression\n",
    "\n",
    "logreg = LogisticRegression()\n",
    "logreg.fit(train_x, train_y)\n",
    "\n",
    "y_prob = logreg.predict_proba(test_x)\n",
    "y_pred_lr = pd.Series([1 if x > 0.5 else 0 for x in y_prob[:,1]], index=test_y.index)\n",
    "\n",
    "cm = confusion_matrix(test_y, y_pred_lr)\n",
    "print (\"Confusion Matrix: \\n\", cm)"
   ]
  },
  {
   "cell_type": "code",
   "execution_count": 23,
   "metadata": {},
   "outputs": [],
   "source": [
    "threshold = []\n",
    "precision = []\n",
    "TPR = []\n",
    "\n",
    "for p in np.unique(logreg.predict_proba(test_x)[:,1]):\n",
    "    threshold.append(p)\n",
    "    y_pred1 = (logreg.predict_proba(test_x)[:,1]>=p).astype(int)\n",
    "    tn, fp, fn, tp = confusion_matrix(test_y, y_pred1).ravel()\n",
    "    pre = tp/(tp+fp)\n",
    "    tpr = tp / (tp + fn)\n",
    "    precision.append(pre)\n",
    "    TPR.append(tpr)"
   ]
  },
  {
   "cell_type": "code",
   "execution_count": 26,
   "metadata": {},
   "outputs": [
    {
     "data": {
      "text/plain": [
       "<matplotlib.collections.PathCollection at 0x7fe92cad5640>"
      ]
     },
     "execution_count": 26,
     "metadata": {},
     "output_type": "execute_result"
    },
    {
     "data": {
      "image/png": "[encoded data removed]",
      "text/plain": [
       "<Figure size 1296x432 with 3 Axes>"
      ]
     },
     "metadata": {
      "needs_background": "light"
     },
     "output_type": "display_data"
    }
   ],
   "source": [
    "fig, axs = plt.subplots(ncols=3, figsize=(18,6))\n",
    "axs[0].set_xlabel('Threshold', fontsize=16)\n",
    "axs[1].set_xlabel('TPR', fontsize=16)\n",
    "axs[2].set_xlabel('TPR', fontsize=16)\n",
    "axs[0].set_ylabel('Precision', fontsize=16)\n",
    "axs[1].set_ylabel('Precision', fontsize=16)\n",
    "axs[2].set_ylabel('Threshold', fontsize=16)\n",
    "axs[0].scatter(threshold,precision)\n",
    "axs[1].scatter(TPR,precision)\n",
    "axs[2].scatter(TPR,threshold)"
   ]
  },
  {
   "cell_type": "markdown",
   "metadata": {},
   "source": [
    "For the case p=0.5, we have already conducted that TPR>=0.125. And we see from the middle graph that when TPR is rather low, the precision(our measure metric) is quite high but not stable, and precision will decrease with an increase in the TPR. We have already have the lower bound of the TPR and we will round it up to 0.2 in this case, which leads to an approximate 0.6 threshold. We will re-train our logistic model with the threshold being 0.6."
   ]
  },
  {
   "cell_type": "code",
   "execution_count": 27,
   "metadata": {},
   "outputs": [
    {
     "name": "stdout",
     "output_type": "stream",
     "text": [
      "Confusion Matrix: \n",
      " [[3605  621]\n",
      " [3066  957]]\n"
     ]
    },
    {
     "name": "stderr",
     "output_type": "stream",
     "text": [
      "/Users/zhouyi/opt/anaconda3/lib/python3.8/site-packages/sklearn/linear_model/_logistic.py:763: ConvergenceWarning: lbfgs failed to converge (status=1):\n",
      "STOP: TOTAL NO. of ITERATIONS REACHED LIMIT.\n",
      "\n",
      "Increase the number of iterations (max_iter) or scale the data as shown in:\n",
      "    https://scikit-learn.org/stable/modules/preprocessing.html\n",
      "Please also refer to the documentation for alternative solver options:\n",
      "    https://scikit-learn.org/stable/modules/linear_model.html#logistic-regression\n",
      "  n_iter_i = _check_optimize_result(\n"
     ]
    }
   ],
   "source": [
    "logreg2 = LogisticRegression()\n",
    "logreg2.fit(train_x, train_y)\n",
    "\n",
    "y_prob2 = logreg2.predict_proba(test_x)\n",
    "y_pred_lr2 = pd.Series([1 if x > 0.6 else 0 for x in y_prob2[:,1]], index=test_y.index)\n",
    "\n",
    "cm = confusion_matrix(test_y, y_pred_lr2)\n",
    "print (\"Confusion Matrix: \\n\", cm)"
   ]
  },
  {
   "cell_type": "markdown",
   "metadata": {},
   "source": [
    "The precision of this model is $\\frac{957}{957+621} = 60.65\\%$  \n",
    "Therefore, based on our analysis, the increase in the probability of the top question being truly useful is about $60.65\\% - 51.2\\% = 9.45\\%$"
   ]
  },
  {
   "cell_type": "code",
   "execution_count": null,
   "metadata": {},
   "outputs": [],
   "source": []
  }
 ],
 "metadata": {
  "kernelspec": {
   "display_name": "Python 3",
   "language": "python",
   "name": "python3"
  },
  "language_info": {
   "codemirror_mode": {
    "name": "ipython",
    "version": 3
   },
   "file_extension": ".py",
   "mimetype": "text/x-python",
   "name": "python",
   "nbconvert_exporter": "python",
   "pygments_lexer": "ipython3",
   "version": "3.8.3"
  },
  "toc": {
   "base_numbering": 1,
   "nav_menu": {},
   "number_sections": true,
   "sideBar": true,
   "skip_h1_title": false,
   "title_cell": "Table of Contents",
   "title_sidebar": "Contents",
   "toc_cell": false,
   "toc_position": {},
   "toc_section_display": true,
   "toc_window_display": false
  }
 },
 "nbformat": 4,
 "nbformat_minor": 4
}
