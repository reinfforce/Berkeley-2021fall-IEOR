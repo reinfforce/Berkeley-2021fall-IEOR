{
 "cells": [
  {
   "cell_type": "markdown",
   "metadata": {},
   "source": [
    "# Problem 1"
   ]
  },
  {
   "cell_type": "markdown",
   "metadata": {},
   "source": [
    "## a)\n",
    "\n",
    "Given the value of $\\hat \\beta_0$ = -3.5, $\\hat \\beta_1$ = 0.18, $\\hat \\beta_2$ = 1.24, besides that Z = 1 (using python)  and X = 30, we are able to calculate the probality following the formula, giving the probability of 0.9585.\n",
    "\n",
    "Using these coefficient estimates,the probability that a team that spends 30 hours working on the projectand uses Python will receive a good grade is 95.85%"
   ]
  },
  {
   "cell_type": "markdown",
   "metadata": {},
   "source": [
    "## b)\n",
    "\n",
    "### (a) \n",
    "\n",
    "We know that Z (student using Python or R) takes value of 0 or 1. \n",
    "If Z = 0, the formula in part(b) is the same as the one in part (a).\n",
    "If Z = 1, the formula in part(b) is producing another different logistic model fitting the student who are using the Python.\n",
    "Taking Z and (1-Z) as the coeffient out of the denominator to produce two different logistic regression model and after that combining them together is the logic of how this model works.\n",
    "\n",
    "### (b)\n",
    "\n",
    "Given the training dataset, we can firstly divide the training dataset into two smaller training set based on Z value.\n",
    "We then can have two training dataset, denoting them as train_python and train_r.  \n",
    "With the train_python dataset, we use them to fit the first part $(\\frac{1}{1+exp(-(\\alpha_0 + \\alpha_1 X))})$. After that we are able to obtain the value of $\\alpha_0$ and $\\alpha_1$ from the logistic regression summary.  \n",
    "With the train_r dataset， we use them to fit the second part $(\\frac{1}{1+exp(-(\\beta_0 + \\beta_1 X))})$. After that we are able to obtain the value of $\\beta_0$ and $\\beta_1$ from the logistic regression summary.  \n",
    "Finally, we may add these two model together with the Z and (1-Z) coefficient in front of them.\n",
    "\n",
    "### (c)\n",
    "\n",
    "In this case, we have the value for $\\hat \\alpha_0$ = -4.02, $\\hat \\alpha_1$ = 0.24, $\\hat \\beta_0$ = -2.85 and $\\hat \\beta_1$ = 0.15. And X = 30, Z = 1. We then are able to calculate the probability following the formula giving the probaibility of 0.9601. \n",
    "\n",
    "Using these coefficient estimates, the probability that a team thatspends 30 hours working on the project and uses Python will receive a good grade is 96.01%\n",
    "\n",
    "### (d)\n",
    "\n",
    "I would expect the model from part (b) will make more accurate probability predictions in the future semester for the reason that the ratios (# of students receiving good grades to # of students who did not) are different in python and R. It may indicate that we are using different models to calculate the probability of getting good grade in terms of using python or R.\n",
    "\n",
    "### (e)\n",
    "\n",
    "In this case, however the amount of data is quite small, which may lead to underfitting consequences, I would expect the model from part (a) will make more accurate probability predictions in the future semester for the reason the ratios (# of students receiving good grades to # of students who did not) are same in python and R. It may indicate that we are using the same model to calculate the probability of getting good grade in terms of using python or R.\n",
    "\n",
    "\n"
   ]
  },
  {
   "cell_type": "markdown",
   "metadata": {},
   "source": [
    "# Problem 2"
   ]
  },
  {
   "cell_type": "markdown",
   "metadata": {},
   "source": [
    "Here we can firstly make a confusion matrix.  \n",
    "$$\\left[\\begin{matrix}TN & FP \\cr FN & TP\\end{matrix}\\right]$$  \n",
    "\n",
    "And we know that for a fixed x$\\in R^p$, suppose that Pr(Y=1|X=x)=p for some p$\\in$[0,1], so that we may say that P(FP) = p and P(FN) = 1-p  \n",
    "And given the loss of False Positive and False Negative, we then have the equation like this one $$\\bar{p}*L_{FP} = (1-\\bar{p})*L_{FN}$$  \n",
    "And solving this equation gives us $$\\bar{p}=\\frac{L_{FN}}{L_{FP}+L_{FN}}$$"
   ]
  },
  {
   "cell_type": "markdown",
   "metadata": {},
   "source": [
    "# Problem 3"
   ]
  },
  {
   "cell_type": "markdown",
   "metadata": {},
   "source": [
    "## a)\n",
    "\n",
    "### i)"
   ]
  },
  {
   "cell_type": "code",
   "execution_count": 1,
   "metadata": {},
   "outputs": [
    {
     "name": "stdout",
     "output_type": "stream",
     "text": [
      "Optimization terminated successfully.\n",
      "         Current function value: 0.365281\n",
      "         Iterations 7\n",
      "                           Logit Regression Results                           \n",
      "==============================================================================\n",
      "Dep. Variable:             TenYearCHD   No. Observations:                 2560\n",
      "Model:                          Logit   Df Residuals:                     2542\n",
      "Method:                           MLE   Df Model:                           17\n",
      "Date:                Mon, 04 Oct 2021   Pseudo R-squ.:                  0.1331\n",
      "Time:                        17:53:09   Log-Likelihood:                -935.12\n",
      "converged:                       True   LL-Null:                       -1078.7\n",
      "Covariance Type:            nonrobust   LLR p-value:                 5.181e-51\n",
      "===============================================================================================================\n",
      "                                                  coef    std err          z      P>|z|      [0.025      0.975]\n",
      "---------------------------------------------------------------------------------------------------------------\n",
      "Intercept                                      -9.2740      0.882    -10.516      0.000     -11.002      -7.546\n",
      "education[T.High school/GED]                   -0.1053      0.217     -0.485      0.628      -0.531       0.321\n",
      "education[T.Some college/vocational school]    -0.1025      0.241     -0.425      0.671      -0.575       0.370\n",
      "education[T.Some high school]                   0.0610      0.202      0.302      0.762      -0.334       0.456\n",
      "male                                            0.5621      0.134      4.189      0.000       0.299       0.825\n",
      "age                                             0.0689      0.008      8.303      0.000       0.053       0.085\n",
      "currentSmoker                                   0.1539      0.189      0.816      0.415      -0.216       0.524\n",
      "cigsPerDay                                      0.0155      0.007      2.077      0.038       0.001       0.030\n",
      "BPMeds                                          0.1528      0.281      0.544      0.587      -0.398       0.704\n",
      "prevalentStroke                                 0.8209      0.570      1.441      0.150      -0.296       1.938\n",
      "prevalentHyp                                    0.2075      0.167      1.246      0.213      -0.119       0.534\n",
      "diabetes                                       -0.2975      0.395     -0.753      0.452      -1.072       0.477\n",
      "totChol                                         0.0020      0.001      1.445      0.148      -0.001       0.005\n",
      "sysBP                                           0.0181      0.005      3.900      0.000       0.009       0.027\n",
      "diaBP                                          -0.0045      0.008     -0.584      0.560      -0.020       0.011\n",
      "BMI                                             0.0136      0.016      0.867      0.386      -0.017       0.044\n",
      "heartRate                                      -0.0046      0.005     -0.888      0.374      -0.015       0.006\n",
      "glucose                                         0.0096      0.003      3.439      0.001       0.004       0.015\n",
      "===============================================================================================================\n"
     ]
    }
   ],
   "source": [
    "import numpy as np\n",
    "import pandas as pd\n",
    "\n",
    "fram_train = pd.read_csv('framingham_train.csv')\n",
    "\n",
    "import statsmodels.formula.api as smf\n",
    "\n",
    "logreg = smf.logit(formula = 'TenYearCHD ~ male + age + education + currentSmoker + cigsPerDay + BPMeds + prevalentStroke + prevalentHyp + diabetes + totChol + sysBP + diaBP + BMI + heartRate + glucose',\n",
    "                   data = fram_train).fit()\n",
    "\n",
    "print(logreg.summary())"
   ]
  },
  {
   "cell_type": "markdown",
   "metadata": {},
   "source": [
    "The logistic regression model is: $$P(Y=1|X) = \\frac{1}{1+e^{-(\\beta_0+\\beta_1X_1+\\beta_2X_2+...+\\beta_nX_n)}}$$  \n",
    "\n",
    "Where $\\beta_0 = -9.2740$   is the intercept  \n",
    "      $\\beta_1 =  0.5621$   is the coefficient for male  \n",
    "      $\\beta_2 =  0.0689$   is the coefficient for age   \n",
    "      $\\beta_3 = -0.1053$   is the coefficient for education[T.High school/FED]  \n",
    "      $\\beta_4 = -0.1025$   is the coefficient for education[T.Some college/vocational school]  \n",
    "      $\\beta_5 =  0.0610$   is the coefficient for education[T.Some high school]  \n",
    "      $\\beta_6 =  0.1539$   is the coefficient for currentSmoker  \n",
    "      $\\beta_7 =  0.0155$   is the coefficient for cigsPerDay  \n",
    "      $\\beta_8 =  0.1528$   is the coefficient for BPMeds  \n",
    "      $\\beta_9 =  0.8209$   is the coefficient for prevalentStroke  \n",
    "      $\\beta_{10}=0.2075$   is the coefficient for prevalentHyp  \n",
    "      $\\beta_{11} =-0.2975$ is the coefficient for diabetes  \n",
    "      $\\beta_{12} = 0.0020$ is the coefficient for totChol  \n",
    "      $\\beta_{13} = 0.0181$ is the coefficient for sysBP  \n",
    "      $\\beta_{14} =-0.0045$ is the coefficient for diaBP  \n",
    "      $\\beta_{15} = 0.0136$ is the coefficient for BMI  \n",
    "      $\\beta_{16} =-0.0046$ is the coefficient for heartRate  \n",
    "      $\\beta_{17} = 0.0096$ is the coefficient for glucose  \n",
    "      "
   ]
  },
  {
   "cell_type": "markdown",
   "metadata": {},
   "source": [
    "### ii)\n",
    "\n",
    "According to the p-value on the above, the most important risk factors are that the age, male and SysBP.  \n",
    "Other important factors includes glucose and cigsPerDay.  \n",
    "\n",
    "We will take the age factor to describe its impact on a patient's predicted odds of developing CHD in the next ten years.  \n",
    "Keeping everything else constant, an extra year in age increases the odds of developing CHD in the next 10 years by a multiplicative factor of exp(0.0689) = 1.07"
   ]
  },
  {
   "cell_type": "markdown",
   "metadata": {},
   "source": [
    "### iii)\n",
    "\n",
    "We are asked to calculate the threshold value where we are indifferent between prescribing and not prescribing the drug. \n",
    "$$700000*\\bar{p} = 775000*0.15\\bar{p} + 75000*(1-0.15\\bar{p})$$\n",
    "The equality from above gives us $$\\bar{p} = 0.1261$$"
   ]
  },
  {
   "cell_type": "markdown",
   "metadata": {},
   "source": [
    "### iv)"
   ]
  },
  {
   "cell_type": "code",
   "execution_count": 2,
   "metadata": {},
   "outputs": [
    {
     "name": "stdout",
     "output_type": "stream",
     "text": [
      "Confusion Matrix : \n",
      " [[569 354]\n",
      " [ 56 119]]\n"
     ]
    }
   ],
   "source": [
    "fram_test = pd.read_csv('framingham_test.csv')\n",
    "\n",
    "y_test = fram_test['TenYearCHD']\n",
    "y_prob = logreg.predict(fram_test)\n",
    "y_pred = pd.Series([1 if x > 0.1261 else 0 for x in y_prob], index=y_prob.index)\n",
    "\n",
    "from sklearn.metrics import confusion_matrix\n",
    "cm = confusion_matrix(y_test, y_pred)\n",
    "print (\"Confusion Matrix : \\n\", cm) "
   ]
  },
  {
   "cell_type": "markdown",
   "metadata": {},
   "source": [
    "Given the confusion matrix, we are able to calculate these three metrics.\n",
    "\n",
    "$$Accuracy = \\frac{569+119}{569+354+56+119} = 0.6266$$\n",
    "\n",
    "This metric refers to the model's ability to make a correct prediction.  \n",
    "In other words, the model predicts the right outcome (either developing the disease or not) 62.66% over the test set.\n",
    "\n",
    "$$TPR = \\frac{119}{119+56} = 0.68$$\n",
    "\n",
    "This metric refers to the fraction of people that the model correctly identifies as developing the disease, out of all the people who actually end up developing the disease.  \n",
    "In other words, the model identifies 68% of the people who end up with the disease in 10 years.\n",
    "\n",
    "$$FPR = \\frac{354}{354+569} = 0.3835 $$\n",
    "\n",
    "This metric refers to the fraction of people that the model incorrectly assumes will get the disease, out of the people who do not end up getting the disease.  \n",
    "In other words, 38.35% of the people who will not end up being affected by the disease are incorrectly predicted to develop this disease."
   ]
  },
  {
   "cell_type": "markdown",
   "metadata": {},
   "source": [
    "### v)\n",
    "\n",
    "Situation I: Assume that the CHD outcomes in the test set are not affected by the treatment decision.\n",
    "$$ Expected  Cost  Per  Patient = \\frac{700K * 56 + 775K * 119 + 75K * 354}{1098} = 143875.23 $$  \n",
    "\n",
    "This assumption is not reasonable, as it does not take the effect of drug into consideration. \n",
    "\n",
    "Situation II :The effect of treatment decision impacts a patient's risk of developing CHD.  \n",
    "In such way, the number of True positive patients becomes 119*0.15 $\\approx$ 18.  \n",
    "And the number of False Positive patients becomes 354+(119-18) = 455\n",
    "\n",
    "$$ Expected Cost Per Patient = \\frac{700K*56 + 775K*18 + 75K * 455}{1098} = 79485.43$$"
   ]
  },
  {
   "cell_type": "markdown",
   "metadata": {},
   "source": [
    "### vi)\n",
    "\n",
    "Since treatment is not recommended for any patient, such that the confusion matrix can be displayed as followed:\n",
    "$$\\left[\\begin{matrix} 923 & 0 \\cr 175 & 0\\end{matrix}\\right]$$ \n",
    "\n",
    "And these metrics can be calculated as:  \n",
    "$Accuracy = \\frac{923}{923+175} = 84.06\\% $  \n",
    "\n",
    "$TPR = \\frac{0}{175} = 0$  \n",
    "\n",
    "$FPR = \\frac{0}{923} = 0$\n",
    "\n",
    "$Expected Cost Per Patient = \\frac{175 * 700K}{1098} = 111566.48$"
   ]
  },
  {
   "cell_type": "markdown",
   "metadata": {},
   "source": [
    "### vii)\n",
    "\n",
    "In this case, we have the characteristics value of the patient, and we use them into our model based on the threshold from part(iii), we arrive at the fact that the probability that this person will develop CHD in the next 10 years is predicted to be 12.55%, which is lower than the threshold - 12.61%, such that the physician should not prescribe the preventive medication for this patient."
   ]
  },
  {
   "cell_type": "markdown",
   "metadata": {},
   "source": [
    "## b)"
   ]
  },
  {
   "cell_type": "code",
   "execution_count": 3,
   "metadata": {},
   "outputs": [
    {
     "data": {
      "image/png": "[encoded data removed]",
      "text/plain": [
       "<Figure size 576x432 with 1 Axes>"
      ]
     },
     "metadata": {
      "needs_background": "light"
     },
     "output_type": "display_data"
    }
   ],
   "source": [
    "y_train = fram_train['TenYearCHD']\n",
    "x_train = fram_train.drop(['TenYearCHD'],axis=1)\n",
    "\n",
    "y_test = fram_test['TenYearCHD']\n",
    "x_test = fram_test.drop(['TenYearCHD'],axis=1)\n",
    "\n",
    "import matplotlib.pyplot as plt\n",
    "from sklearn.metrics import roc_curve, auc\n",
    "\n",
    "fpr, tpr, _ = roc_curve(y_test, y_prob)\n",
    "roc_auc = auc(fpr, tpr)\n",
    "\n",
    "plt.figure(figsize=(8, 6))\n",
    "plt.title('ROC Curve', fontsize=18)\n",
    "plt.xlabel('FPR', fontsize=16)\n",
    "plt.ylabel('TPR', fontsize=16)\n",
    "plt.xlim([-0.01, 1.00])\n",
    "plt.ylim([-0.01, 1.01])\n",
    "plt.plot(fpr, tpr, lw=3, label='Logistic Regression (area = {:0.2f})'.format(roc_auc))\n",
    "plt.plot([0, 1], [0, 1], color='navy', lw=3, linestyle='--')\n",
    "plt.legend(loc='lower right', fontsize=14)\n",
    "plt.show()"
   ]
  },
  {
   "cell_type": "markdown",
   "metadata": {},
   "source": [
    "$\\bullet$ How this curve may be helpful to decision-makers looking to further study the medication  \n",
    "The ROC curve is a means of understanding how varying the thredhold affects the True Positive Rate and the False Positive Rate. In other words, this graph captures the tradeoff between setting a very strict and a loose threshold for the prediction. \n",
    "\n",
    "In this case, if we are trying to minimize the number of people incorrectly classified as prone to develop the disease (strict threshold), we compromise on the number of perple which the algorithm incorrectly classfies as safe from the disease(low threshold), then we compromise on the number of people incorrectly classified as prone to the disease.\n",
    "\n",
    "$\\bullet$ Descirbe one interesting observation implied by examining the ROC curve.  \n",
    "The ROC curve is characteristic to a particular model, and if it hugs the top left of this graph, then we can say that the model accurately describes the situation.  \n",
    "THe interesting point here is that our ROC curve is not that on the top left of the graph, indicating that our model is not that accurate to describe the data. There may be some improvement in our model so that we can get better predictions.  \n",
    "\n",
    "$\\bullet$ The area under the curve (AUC) is 0.70"
   ]
  },
  {
   "cell_type": "markdown",
   "metadata": {},
   "source": [
    "## c)\n",
    "\n",
    "$$ 0.15p*(500k+C) + (1-0.15p) * C = 500k*p$$  \n",
    "$$ p = \\frac{C}{0.85*500k} = 0.1261$$  \n",
    "\n",
    "$$ C = 53592.5 $$"
   ]
  },
  {
   "cell_type": "markdown",
   "metadata": {},
   "source": [
    "## d) \n",
    "\n",
    "The main ethical concern in this case is that the decision of treatment is solely based on the benefit-cost analysis, regardless of patient will or other factors. The patient are given the decision based on him/herself personal characteristic values, which seems not that reasonable. In reality, the model is supposed to provide a guide for the treatment, and after that the doctor and patient can have better understanding the situation where the patient is and have conversation for weighing the pros and cons for the treatment.  \n",
    "\n",
    "Possible way to address this problem:  \n",
    "Instead of setting one $\\bar{p}$, we can divide it into several ranges indicating different range of risk of the patient for having the possibly to develop CHD in the next ten years.  \n",
    "For example, in this case, we just came up with one $\\bar{p}$ value, instead we are able to calculate several threshold for the low risk, medium risk and high risk. The doctor therefore have different options to discuss with the patients."
   ]
  },
  {
   "cell_type": "code",
   "execution_count": null,
   "metadata": {},
   "outputs": [],
   "source": []
  }
 ],
 "metadata": {
  "kernelspec": {
   "display_name": "Python 3",
   "language": "python",
   "name": "python3"
  },
  "language_info": {
   "codemirror_mode": {
    "name": "ipython",
    "version": 3
   },
   "file_extension": ".py",
   "mimetype": "text/x-python",
   "name": "python",
   "nbconvert_exporter": "python",
   "pygments_lexer": "ipython3",
   "version": "3.8.3"
  },
  "toc": {
   "base_numbering": 1,
   "nav_menu": {},
   "number_sections": true,
   "sideBar": true,
   "skip_h1_title": false,
   "title_cell": "Table of Contents",
   "title_sidebar": "Contents",
   "toc_cell": false,
   "toc_position": {},
   "toc_section_display": true,
   "toc_window_display": false
  }
 },
 "nbformat": 4,
 "nbformat_minor": 4
}
