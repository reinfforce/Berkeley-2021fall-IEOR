{
 "cells": [
  {
   "cell_type": "markdown",
   "metadata": {},
   "source": [
    "# Problem 1\n",
    "\n",
    "## a)\n",
    "\n",
    "$$ \\Delta = C_{imp}(T_{old}) - C_{imp}(T_{new})$$  \n",
    "$$  = \\sum_{m=1}^{M}{N_mQ_m(T_{old})} - \\sum_{m=1}^{M+1}{\\tilde{N_m}\\tilde{Q_m}(T_{new})}$$  \n",
    "$$ = \\sum_{m=1}^{M}{\\sum_{i:x_i\\in{R_m}}^{}{(y_i-\\hat{y_m})^2}} - \\sum_{m=1}^{M+1}{\\sum_{i:x_i\\in{\\tilde{R_m}}}^{}{(y_i-\\hat{\\tilde{y_m}})^2}}$$  \n",
    "Since the first M-1 regions are exactly the same in the old tree and the new tree, we are able to continue with our equation above in the following way:  \n",
    "$$ = \\sum_{i:x_i\\in{R_M}}^{}{(y_i - \\hat{y_M})^2} - \\sum_{m=M}^{M+1}{\\sum_{i:x_i\\in{\\tilde{R_m}}}^{}{(y_i-\\hat{\\tilde{y_m}})^2}}$$\n",
    "Moreover according to the segmentation in the final bucket M, we have $R_M = \\tilde{R_M}\\cup{\\tilde{R_{M+1}}}$, and  \n",
    "$$\\hat{y_M} = \\frac{1}{N_M}\\sum_{i:x_i\\in{R_M}}^{}{y_i}$$\n",
    "$$\\hat{\\tilde{y_m}} = \\frac{1}{\\tilde{N_m}}\\sum_{i:x_i\\in{\\tilde{R_m}}}^{}{y_i}$$\n",
    "Therefore we can conclude that $\\Delta$ only depends on the data points that fall in region $R_M$ in the orginal tree $T_{old}$"
   ]
  },
  {
   "cell_type": "markdown",
   "metadata": {},
   "source": [
    "## b)\n",
    "\n",
    "We will start from the function of RSS  \n",
    "$$RSS(z) = \\sum_{i=1}^{n}{(z_i-z)^2}$$  \n",
    "$$ \\Delta = \\sum_{i:x_i\\in{R_M}}^{}{(y_i-\\hat{y_M})^2} - \\sum_{m=M}^{M+1}{\\sum_{i:x_i\\in{\\tilde{R_m}}}^{}{(y_i-\\hat{\\tilde{y_m}})^2}}$$  \n",
    "$$\\Delta = \\sum_{i:x_i\\in{R_M}}^{}{(y_i-\\hat{y_M})^2} - \\sum_{i:x_i\\in{\\tilde{R_M}}}^{}{(y_i-\\hat{\\tilde{y_M}})^2}-\\sum_{i:x_i\\in{\\tilde{R_{M+1}}}}^{}{(y_i-\\hat{\\tilde{y_{M+1}}})^2}$$  \n",
    "Since $$R_M = \\tilde{R_M} \\cup {\\tilde{R_{M+1}}}$$  \n",
    "$$ R_M = \\sum_{i:x_i\\in{\\tilde{R_M}}}^{}{(y_i-\\hat{y_M})^2}+\\sum_{i:x_i\\in{\\tilde{R_{M+1}}}}^{}{(y_i-\\hat{y_M})^2}-\\sum_{i:x_i\\in{\\tilde{R_M}}}^{}{(y_i-\\hat{\\tilde{y_M}})^2}-\\sum_{i:x_i\\in{\\tilde{R_{M+1}}}}^{}{(y_i-\\hat{\\tilde{y_{M+1}}})^2}$$  \n",
    "$$R_M = RSS_{y_i}(\\hat{y_M}) - RSS_{y_i}(\\hat{\\tilde{y_M}})+RSS_{y_i}(\\hat{y_{M+1}})-RSS_{y_i}(\\hat{\\tilde{y_{M+1}}})$$  \n",
    "Note that we have $\\hat{\\tilde{y_M}} = \\frac{1}{\\tilde{N_M}}\\sum_{i:x_i\\in{\\tilde{R_M}}}^{}{y_i}$ and $\\hat{\\tilde{y_{M+1}}} = \\frac{1}{\\tilde{N_{M+1}}}\\sum_{i:x_i\\in{\\tilde{R_{M+1}}}}^{}{y_i}$, moreover, we may conclude from the hint that they are actually the minimizer of $RSS_{y_i}(z)$ where $i:x_i\\in{\\tilde{R_M}}$ and $RSS_{y_i}(z)$ where $i:x_i\\in{\\tilde{R_{M+1}}}$  \n",
    "Hence $RSS_{y_i}(\\hat{y_M}) - RSS_{y_i}(\\hat{\\tilde{y_M}}) \\geq{0}$ where $i:x_i\\in{\\tilde{R_M}}$  \n",
    "And $RSS_{y_i}(\\hat{y_{M+1}}) - RSS_{y_i}(\\hat{\\tilde{y_{M+1}}}) \\geq{0}$ where $i:x_i\\in{\\tilde{R_{M+1}}}$  \n",
    "Such that we have $\\Delta \\geq{0}$"
   ]
  },
  {
   "cell_type": "markdown",
   "metadata": {},
   "source": [
    "## c)\n",
    "\n",
    "$$ C_{\\alpha}(T_{new}) - C_{\\alpha}(T_{old}) \\leq {0}$$  \n",
    "$$ \\Leftrightarrow C_{imp}(T_{new}) - C_{imp}(T_{old}) + {\\alpha}SST \\leq{0}$$  \n",
    "$$ \\Leftrightarrow -\\Delta + {\\alpha}SST \\leq {0}$$\n",
    "And from the previous question we have the representation of $\\Delta$, after plug in we will have  \n",
    "$$ \\Leftrightarrow \\sum_{m=1}^{M}{\\sum_{i:x_i\\in{R_M}}^{}{(y_i-\\hat{y_m})^2}} - \\sum_{m=1}^{M+1}{\\sum_{i:x_i\\in{\\tilde{R_m}}}^{}{(y_i-\\hat{\\tilde{y_m}})^2}} \\geq{\\alpha}SST$$  \n",
    "by the definition of SSE, we will have. \n",
    "$$ \\Leftrightarrow SSE_{old} - SSE_{new} \\geq{\\alpha}SST$$\n",
    "$$ \\Leftrightarrow \\frac{SSE_{old}}{SST} - \\frac{SSE_{new}}{SST} \\geq{\\alpha}$$. \n",
    "$$ \\Leftrightarrow R_{new}^{2} - R_{old}^{2} \\geq{\\alpha}$$"
   ]
  },
  {
   "cell_type": "markdown",
   "metadata": {},
   "source": [
    "# Problem 2"
   ]
  },
  {
   "cell_type": "markdown",
   "metadata": {},
   "source": [
    "## a)\n",
    "\n",
    "From my point of view, I think treating (Missing) as an explicit category is reasonable.  \n",
    "Firstly, each attribute feature with Missing values in the provided dataset is of categorical form, as a result of which treating them as explicit catefory is operational.  \n",
    "Secondly, we may observe that the missing rate shown in the table 1. They are all above 30%, some of them are even 80%. Therefore it is inaccurate to use several approaches for dealing with missing values in machine learning."
   ]
  },
  {
   "cell_type": "markdown",
   "metadata": {},
   "source": [
    "## b)\n",
    "\n",
    "### i)"
   ]
  },
  {
   "cell_type": "code",
   "execution_count": 1,
   "metadata": {},
   "outputs": [
    {
     "name": "stdout",
     "output_type": "stream",
     "text": [
      "                            OLS Regression Results                            \n",
      "==============================================================================\n",
      "Dep. Variable:                  stars   R-squared:                       0.173\n",
      "Model:                            OLS   Adj. R-squared:                  0.170\n",
      "Method:                 Least Squares   F-statistic:                     52.33\n",
      "Date:                Sun, 17 Oct 2021   Prob (F-statistic):          2.45e-235\n",
      "Time:                        15:55:24   Log-Likelihood:                -7220.7\n",
      "No. Observations:                6272   AIC:                         1.449e+04\n",
      "Df Residuals:                    6246   BIC:                         1.467e+04\n",
      "Df Model:                          25                                         \n",
      "Covariance Type:            nonrobust                                         \n",
      "============================================================================================================================================\n",
      "                                                                               coef    std err          t      P>|t|      [0.025      0.975]\n",
      "--------------------------------------------------------------------------------------------------------------------------------------------\n",
      "Intercept                                                                    3.3413      0.039     85.518      0.000       3.265       3.418\n",
      "C(GoodForKids, Treatment(reference=\"(Missing)\"))[T.FALSE]                   -0.0329      0.046     -0.720      0.472      -0.123       0.057\n",
      "C(GoodForKids, Treatment(reference=\"(Missing)\"))[T.TRUE]                    -0.1325      0.035     -3.757      0.000      -0.202      -0.063\n",
      "C(Alcohol, Treatment(reference=\"(Missing)\"))[T.'beer_and_wine']              0.1925      0.047      4.110      0.000       0.101       0.284\n",
      "C(Alcohol, Treatment(reference=\"(Missing)\"))[T.'full_bar']                   0.1173      0.043      2.698      0.007       0.032       0.203\n",
      "C(Alcohol, Treatment(reference=\"(Missing)\"))[T.'none']                       0.0921      0.039      2.363      0.018       0.016       0.169\n",
      "C(BusinessAcceptsCreditCards, Treatment(reference=\"(Missing)\"))[T.FALSE]     0.6324      0.087      7.257      0.000       0.462       0.803\n",
      "C(BusinessAcceptsCreditCards, Treatment(reference=\"(Missing)\"))[T.TRUE]      0.1338      0.046      2.897      0.004       0.043       0.224\n",
      "C(WiFi, Treatment(reference=\"(Missing)\"))[T.'free']                          0.0685      0.034      1.998      0.046       0.001       0.136\n",
      "C(WiFi, Treatment(reference=\"(Missing)\"))[T.'no']                            0.0858      0.033      2.594      0.009       0.021       0.151\n",
      "C(WiFi, Treatment(reference=\"(Missing)\"))[T.'paid']                         -0.2794      0.103     -2.701      0.007      -0.482      -0.077\n",
      "C(BikeParking, Treatment(reference=\"(Missing)\"))[T.FALSE]                   -0.1784      0.032     -5.608      0.000      -0.241      -0.116\n",
      "C(BikeParking, Treatment(reference=\"(Missing)\"))[T.TRUE]                    -0.1117      0.029     -3.891      0.000      -0.168      -0.055\n",
      "C(ByAppointmentOnly, Treatment(reference=\"(Missing)\"))[T.FALSE]              0.1495      0.034      4.447      0.000       0.084       0.215\n",
      "C(ByAppointmentOnly, Treatment(reference=\"(Missing)\"))[T.TRUE]               0.2560      0.106      2.410      0.016       0.048       0.464\n",
      "C(WheelechairAccessible, Treatment(reference=\"(Missing)\"))[T.FALSE]          0.6685      0.090      7.468      0.000       0.493       0.844\n",
      "C(WheelechairAccessible, Treatment(reference=\"(Missing)\"))[T.TRUE]           0.3469      0.028     12.591      0.000       0.293       0.401\n",
      "C(OutdoorSeating, Treatment(reference=\"(Missing)\"))[T.FALSE]                -0.0755      0.040     -1.908      0.056      -0.153       0.002\n",
      "C(OutdoorSeating, Treatment(reference=\"(Missing)\"))[T.TRUE]                  0.0168      0.042      0.399      0.690      -0.066       0.099\n",
      "C(RestaurantsReservations, Treatment(reference=\"(Missing)\"))[T.FALSE]       -0.2180      0.040     -5.451      0.000      -0.296      -0.140\n",
      "C(RestaurantsReservations, Treatment(reference=\"(Missing)\"))[T.TRUE]        -0.0084      0.045     -0.187      0.851      -0.096       0.079\n",
      "C(DogsAllowed, Treatment(reference=\"(Missing)\"))[T.FALSE]                    0.2539      0.029      8.725      0.000       0.197       0.311\n",
      "C(DogsAllowed, Treatment(reference=\"(Missing)\"))[T.TRUE]                     0.1346      0.054      2.516      0.012       0.030       0.239\n",
      "C(Caters, Treatment(reference=\"(Missing)\"))[T.FALSE]                        -0.0840      0.030     -2.796      0.005      -0.143      -0.025\n",
      "C(Caters, Treatment(reference=\"(Missing)\"))[T.TRUE]                          0.1657      0.033      5.096      0.000       0.102       0.229\n",
      "review_count                                                                 0.0001   2.88e-05      3.566      0.000    4.63e-05       0.000\n",
      "==============================================================================\n",
      "Omnibus:                      130.621   Durbin-Watson:                   1.990\n",
      "Prob(Omnibus):                  0.000   Jarque-Bera (JB):              138.449\n",
      "Skew:                          -0.363   Prob(JB):                     8.63e-31\n",
      "Kurtosis:                       3.058   Cond. No.                     4.88e+03\n",
      "==============================================================================\n",
      "\n",
      "Warnings:\n",
      "[1] Standard Errors assume that the covariance matrix of the errors is correctly specified.\n",
      "[2] The condition number is large, 4.88e+03. This might indicate that there are\n",
      "strong multicollinearity or other numerical problems.\n"
     ]
    }
   ],
   "source": [
    "import pandas as pd\n",
    "import numpy as np\n",
    "data_train = pd.read_csv('yelp242_train.csv')\n",
    "\n",
    "# Below is the code for building a linear regression model\n",
    "import statsmodels.formula.api as smf\n",
    "\n",
    "linear_model = smf.ols(formula='stars ~ review_count + C(GoodForKids, Treatment(reference=\"(Missing)\")) + C(Alcohol, Treatment(reference=\"(Missing)\")) + C(BusinessAcceptsCreditCards, Treatment(reference=\"(Missing)\")) + C(WiFi, Treatment(reference=\"(Missing)\")) + C(BikeParking, Treatment(reference=\"(Missing)\")) + C(ByAppointmentOnly, Treatment(reference=\"(Missing)\")) + C(WheelechairAccessible, Treatment(reference=\"(Missing)\"))+C(OutdoorSeating, Treatment(reference=\"(Missing)\")) + C(RestaurantsReservations, Treatment(reference=\"(Missing)\")) + C(DogsAllowed, Treatment(reference=\"(Missing)\")) + C(Caters, Treatment(reference=\"(Missing)\"))',\n",
    "                 data=data_train).fit()\n",
    "\n",
    "print(linear_model.summary())"
   ]
  },
  {
   "cell_type": "markdown",
   "metadata": {},
   "source": [
    "### ii)"
   ]
  },
  {
   "cell_type": "code",
   "execution_count": 2,
   "metadata": {},
   "outputs": [
    {
     "data": {
      "text/plain": [
       "GridSearchCV(cv=5,\n",
       "             estimator=DecisionTreeRegressor(min_samples_leaf=5,\n",
       "                                             min_samples_split=20,\n",
       "                                             random_state=88),\n",
       "             param_grid={'ccp_alpha': array([0.        , 0.00010204, 0.00020408, 0.00030612, 0.00040816,\n",
       "       0.0005102 , 0.00061224, 0.00071429, 0.00081633, 0.00091837,\n",
       "       0.00102041, 0.00112245, 0.00122449, 0.00132653, 0.00142857,\n",
       "       0.00153061, 0.00163265, 0.00173469, 0.00183673, 0.00193878,\n",
       "       0.00204082, 0.00214286, 0.0022449 , 0.00234694, 0.00244898,\n",
       "       0.00255102, 0.00265306, 0.0027551 , 0.00285714, 0.00295918,\n",
       "       0.00306122, 0.00316327, 0.00326531, 0.00336735, 0.00346939,\n",
       "       0.00357143, 0.00367347, 0.00377551, 0.00387755, 0.00397959,\n",
       "       0.00408163, 0.00418367, 0.00428571, 0.00438776, 0.0044898 ,\n",
       "       0.00459184, 0.00469388, 0.00479592, 0.00489796, 0.005     ])},\n",
       "             scoring='r2')"
      ]
     },
     "execution_count": 2,
     "metadata": {},
     "output_type": "execute_result"
    }
   ],
   "source": [
    "# First we get the data\n",
    "y_train = data_train['stars']\n",
    "x_train = pd.get_dummies(data_train.drop(['stars'],axis=1))\n",
    "\n",
    "# We need to drop the missing columns produced by dummy variables\n",
    "origin_column = list(x_train.columns)\n",
    "new_columns = []\n",
    "for col in origin_column:\n",
    "    if col.find('Missing') == -1:\n",
    "        new_columns.append(col)\n",
    "x_train = x_train[new_columns]\n",
    "\n",
    "# Below is the code for building a decision tree regression model\n",
    "from sklearn.model_selection import GridSearchCV\n",
    "from sklearn.tree import DecisionTreeRegressor\n",
    "\n",
    "grid_values = {'ccp_alpha':np.linspace(0.0,0.005,50)}\n",
    "\n",
    "dtr = DecisionTreeRegressor(min_samples_leaf=5,min_samples_split=20,random_state=88)\n",
    "dtr_cv = GridSearchCV(dtr,param_grid=grid_values, scoring = 'r2',cv=5,verbose=0)\n",
    "dtr_cv.fit(x_train,y_train)"
   ]
  },
  {
   "cell_type": "code",
   "execution_count": 3,
   "metadata": {},
   "outputs": [
    {
     "data": {
      "image/png": "[encoded data removed]",
      "text/plain": [
       "<Figure size 576x432 with 1 Axes>"
      ]
     },
     "metadata": {
      "needs_background": "light"
     },
     "output_type": "display_data"
    }
   ],
   "source": [
    "# We visualize the relationship between ccp_alpha and CV R2 value\n",
    "import matplotlib.pyplot as plt\n",
    "ccp_alpha = dtr_cv.cv_results_['param_ccp_alpha'].data\n",
    "R2_scores = dtr_cv.cv_results_['mean_test_score']\n",
    "\n",
    "plt.figure(figsize=(8, 6))\n",
    "plt.xlabel('ccp_alpha', fontsize=16)\n",
    "plt.ylabel('CV R2', fontsize=16)\n",
    "plt.scatter(ccp_alpha, R2_scores, s=30)\n",
    "plt.plot(ccp_alpha, R2_scores, linewidth=3)\n",
    "plt.grid(True, which='both')\n",
    "plt.xlim([0, 0.005])\n",
    "plt.ylim([0, 0.2])\n",
    "\n",
    "plt.tight_layout()\n",
    "plt.show()"
   ]
  },
  {
   "cell_type": "code",
   "execution_count": 4,
   "metadata": {},
   "outputs": [
    {
     "name": "stdout",
     "output_type": "stream",
     "text": [
      "Best ccp_alpha {'ccp_alpha': 0.0008163265306122449}\n"
     ]
    }
   ],
   "source": [
    "print('Best ccp_alpha', dtr_cv.best_params_)"
   ]
  },
  {
   "cell_type": "markdown",
   "metadata": {},
   "source": [
    "We are required to do the cross-validation to figure out the best ccp_alpha value for the model to obtain the highest R2 value. We define the grid_values by taking steps values of ccp_alpha from 0 to 0.005, and apply it into the GridSearchCV model. With the help of matplotlib, we may notice that when ccp_value = 0.000816, the r2 scores highest graphically. Then we may get this point by using best_params to figure out the value of ccp_alpha."
   ]
  },
  {
   "cell_type": "markdown",
   "metadata": {},
   "source": [
    "### iii)"
   ]
  },
  {
   "cell_type": "code",
   "execution_count": 5,
   "metadata": {},
   "outputs": [
    {
     "data": {
      "text/html": [
       "<style  type=\"text/css\" >\n",
       "    #T_597ea702_2f9d_11ec_ba9c_acde48001122 th {\n",
       "          font-size: 12pt;\n",
       "    }    #T_597ea702_2f9d_11ec_ba9c_acde48001122row0_col0 {\n",
       "            font-size:  14pt;\n",
       "        }    #T_597ea702_2f9d_11ec_ba9c_acde48001122row0_col1 {\n",
       "            font-size:  14pt;\n",
       "        }    #T_597ea702_2f9d_11ec_ba9c_acde48001122row1_col0 {\n",
       "            font-size:  14pt;\n",
       "        }    #T_597ea702_2f9d_11ec_ba9c_acde48001122row1_col1 {\n",
       "            font-size:  14pt;\n",
       "        }</style><table id=\"T_597ea702_2f9d_11ec_ba9c_acde48001122\" ><thead>    <tr>        <th class=\"blank level0\" ></th>        <th class=\"col_heading level0 col0\" >Linear Regression</th>        <th class=\"col_heading level0 col1\" >Decision Tree Regressor</th>    </tr></thead><tbody>\n",
       "                <tr>\n",
       "                        <th id=\"T_597ea702_2f9d_11ec_ba9c_acde48001122level0_row0\" class=\"row_heading level0 row0\" >OSR2</th>\n",
       "                        <td id=\"T_597ea702_2f9d_11ec_ba9c_acde48001122row0_col0\" class=\"data row0 col0\" >0.153</td>\n",
       "                        <td id=\"T_597ea702_2f9d_11ec_ba9c_acde48001122row0_col1\" class=\"data row0 col1\" >0.192</td>\n",
       "            </tr>\n",
       "            <tr>\n",
       "                        <th id=\"T_597ea702_2f9d_11ec_ba9c_acde48001122level0_row1\" class=\"row_heading level0 row1\" >MAE</th>\n",
       "                        <td id=\"T_597ea702_2f9d_11ec_ba9c_acde48001122row1_col0\" class=\"data row1 col0\" >0.640</td>\n",
       "                        <td id=\"T_597ea702_2f9d_11ec_ba9c_acde48001122row1_col1\" class=\"data row1 col1\" >0.620</td>\n",
       "            </tr>\n",
       "    </tbody></table>"
      ],
      "text/plain": [
       "<pandas.io.formats.style.Styler at 0x7fa5437ad940>"
      ]
     },
     "execution_count": 5,
     "metadata": {},
     "output_type": "execute_result"
    }
   ],
   "source": [
    "# Get x_test and y_test from the test dataset\n",
    "data_test = pd.read_csv('yelp242_test.csv')\n",
    "y_test = data_test['stars']\n",
    "x_test = pd.get_dummies(data_test.drop(['stars'],axis=1))\n",
    "\n",
    "origin_test_column = list(x_test.columns)\n",
    "new_test_columns = []\n",
    "for col in origin_test_column:\n",
    "    if col.find('Missing') == -1:\n",
    "        new_test_columns.append(col)\n",
    "x_test = x_test[new_test_columns]\n",
    "\n",
    "# Get the prediction for both models\n",
    "linear_x_test = data_test.drop(['stars'],axis=1)\n",
    "linear_y_pred = linear_model.predict(linear_x_test)\n",
    "dtr_cv_pred = dtr_cv.predict(x_test)\n",
    "\n",
    "#Compute OSR2 and MAE values for both models\n",
    "from sklearn.metrics import r2_score\n",
    "from sklearn.metrics import mean_absolute_error\n",
    "\n",
    "# For linear regression model\n",
    "comparison_data = {'Linear Regression': ['{:.3f}'.format(r2_score(y_test, linear_y_pred)),\n",
    "                                         '{:.3f}'.format(mean_absolute_error(y_test, linear_y_pred))],\n",
    "                   'Decision Tree Regressor': ['{:.3f}'.format(r2_score(y_test, dtr_cv_pred)),\n",
    "                                               '{:.3f}'.format(mean_absolute_error(y_test, dtr_cv_pred))]}\n",
    "comparison_table = pd.DataFrame(data=comparison_data, index=['OSR2','MAE'])\n",
    "comparison_table.style.set_properties(**{'font-size': '14pt',}).set_table_styles([{'selector': 'th', 'props': [('font-size', '12pt')]}])"
   ]
  },
  {
   "cell_type": "markdown",
   "metadata": {},
   "source": [
    "To sum up, Decision Tree Regressor model did better than Linear Regressor model. It has lower mean absolute error and gains higher OSR2 value, indicating a more suitable model."
   ]
  },
  {
   "cell_type": "markdown",
   "metadata": {},
   "source": [
    "## c)"
   ]
  },
  {
   "cell_type": "code",
   "execution_count": 6,
   "metadata": {},
   "outputs": [],
   "source": [
    "data_train['fourOrAbove'] = data_train.apply(lambda x: 1 if x.stars >= 4 else 0, axis =1)\n",
    "data_test['fourOrAbove'] = data_test.apply(lambda x:1 if x.stars >= 4 else 0, axis =1)"
   ]
  },
  {
   "cell_type": "markdown",
   "metadata": {},
   "source": [
    "## d)\n",
    "\n",
    "### i)\n",
    "\n",
    "I don't think it is reasonable to weigh false positive and false positive equally, which will lead to the maximum of error rate when p = 0.5 as shown in the lecture slides."
   ]
  },
  {
   "cell_type": "markdown",
   "metadata": {},
   "source": [
    "### ii)"
   ]
  },
  {
   "cell_type": "code",
   "execution_count": 7,
   "metadata": {},
   "outputs": [
    {
     "data": {
      "text/html": [
       "<div>\n",
       "<style scoped>\n",
       "    .dataframe tbody tr th:only-of-type {\n",
       "        vertical-align: middle;\n",
       "    }\n",
       "\n",
       "    .dataframe tbody tr th {\n",
       "        vertical-align: top;\n",
       "    }\n",
       "\n",
       "    .dataframe thead th {\n",
       "        text-align: right;\n",
       "    }\n",
       "</style>\n",
       "<table border=\"1\" class=\"dataframe\">\n",
       "  <thead>\n",
       "    <tr style=\"text-align: right;\">\n",
       "      <th></th>\n",
       "      <th>stars</th>\n",
       "      <th>review_count</th>\n",
       "      <th>GoodForKids</th>\n",
       "      <th>Alcohol</th>\n",
       "      <th>BusinessAcceptsCreditCards</th>\n",
       "      <th>WiFi</th>\n",
       "      <th>BikeParking</th>\n",
       "      <th>ByAppointmentOnly</th>\n",
       "      <th>WheelechairAccessible</th>\n",
       "      <th>OutdoorSeating</th>\n",
       "      <th>RestaurantsReservations</th>\n",
       "      <th>DogsAllowed</th>\n",
       "      <th>Caters</th>\n",
       "      <th>fourOrAbove</th>\n",
       "      <th>linear_pred</th>\n",
       "      <th>linear_class</th>\n",
       "      <th>dtr_pred</th>\n",
       "      <th>dtr_class</th>\n",
       "    </tr>\n",
       "  </thead>\n",
       "  <tbody>\n",
       "    <tr>\n",
       "      <th>0</th>\n",
       "      <td>4.5</td>\n",
       "      <td>153</td>\n",
       "      <td>FALSE</td>\n",
       "      <td>'beer_and_wine'</td>\n",
       "      <td>TRUE</td>\n",
       "      <td>'free'</td>\n",
       "      <td>FALSE</td>\n",
       "      <td>(Missing)</td>\n",
       "      <td>(Missing)</td>\n",
       "      <td>FALSE</td>\n",
       "      <td>TRUE</td>\n",
       "      <td>FALSE</td>\n",
       "      <td>FALSE</td>\n",
       "      <td>1</td>\n",
       "      <td>3.626468</td>\n",
       "      <td>0</td>\n",
       "      <td>3.726214</td>\n",
       "      <td>0</td>\n",
       "    </tr>\n",
       "    <tr>\n",
       "      <th>1</th>\n",
       "      <td>3.5</td>\n",
       "      <td>19</td>\n",
       "      <td>TRUE</td>\n",
       "      <td>(Missing)</td>\n",
       "      <td>TRUE</td>\n",
       "      <td>'free'</td>\n",
       "      <td>(Missing)</td>\n",
       "      <td>(Missing)</td>\n",
       "      <td>(Missing)</td>\n",
       "      <td>(Missing)</td>\n",
       "      <td>FALSE</td>\n",
       "      <td>(Missing)</td>\n",
       "      <td>(Missing)</td>\n",
       "      <td>0</td>\n",
       "      <td>3.194956</td>\n",
       "      <td>0</td>\n",
       "      <td>2.995918</td>\n",
       "      <td>0</td>\n",
       "    </tr>\n",
       "    <tr>\n",
       "      <th>2</th>\n",
       "      <td>4.5</td>\n",
       "      <td>3</td>\n",
       "      <td>TRUE</td>\n",
       "      <td>'full_bar'</td>\n",
       "      <td>TRUE</td>\n",
       "      <td>(Missing)</td>\n",
       "      <td>(Missing)</td>\n",
       "      <td>(Missing)</td>\n",
       "      <td>(Missing)</td>\n",
       "      <td>TRUE</td>\n",
       "      <td>(Missing)</td>\n",
       "      <td>(Missing)</td>\n",
       "      <td>(Missing)</td>\n",
       "      <td>1</td>\n",
       "      <td>3.476947</td>\n",
       "      <td>0</td>\n",
       "      <td>3.135266</td>\n",
       "      <td>0</td>\n",
       "    </tr>\n",
       "    <tr>\n",
       "      <th>3</th>\n",
       "      <td>4.0</td>\n",
       "      <td>775</td>\n",
       "      <td>TRUE</td>\n",
       "      <td>'none'</td>\n",
       "      <td>TRUE</td>\n",
       "      <td>'free'</td>\n",
       "      <td>TRUE</td>\n",
       "      <td>FALSE</td>\n",
       "      <td>(Missing)</td>\n",
       "      <td>TRUE</td>\n",
       "      <td>TRUE</td>\n",
       "      <td>(Missing)</td>\n",
       "      <td>TRUE</td>\n",
       "      <td>1</td>\n",
       "      <td>3.794694</td>\n",
       "      <td>0</td>\n",
       "      <td>3.557034</td>\n",
       "      <td>0</td>\n",
       "    </tr>\n",
       "    <tr>\n",
       "      <th>4</th>\n",
       "      <td>3.5</td>\n",
       "      <td>24</td>\n",
       "      <td>TRUE</td>\n",
       "      <td>'full_bar'</td>\n",
       "      <td>TRUE</td>\n",
       "      <td>'free'</td>\n",
       "      <td>(Missing)</td>\n",
       "      <td>(Missing)</td>\n",
       "      <td>(Missing)</td>\n",
       "      <td>FALSE</td>\n",
       "      <td>TRUE</td>\n",
       "      <td>(Missing)</td>\n",
       "      <td>(Missing)</td>\n",
       "      <td>0</td>\n",
       "      <td>3.446997</td>\n",
       "      <td>0</td>\n",
       "      <td>3.439358</td>\n",
       "      <td>0</td>\n",
       "    </tr>\n",
       "  </tbody>\n",
       "</table>\n",
       "</div>"
      ],
      "text/plain": [
       "   stars  review_count GoodForKids          Alcohol  \\\n",
       "0    4.5           153       FALSE  'beer_and_wine'   \n",
       "1    3.5            19        TRUE        (Missing)   \n",
       "2    4.5             3        TRUE       'full_bar'   \n",
       "3    4.0           775        TRUE           'none'   \n",
       "4    3.5            24        TRUE       'full_bar'   \n",
       "\n",
       "  BusinessAcceptsCreditCards       WiFi BikeParking ByAppointmentOnly  \\\n",
       "0                       TRUE     'free'       FALSE         (Missing)   \n",
       "1                       TRUE     'free'   (Missing)         (Missing)   \n",
       "2                       TRUE  (Missing)   (Missing)         (Missing)   \n",
       "3                       TRUE     'free'        TRUE             FALSE   \n",
       "4                       TRUE     'free'   (Missing)         (Missing)   \n",
       "\n",
       "  WheelechairAccessible OutdoorSeating RestaurantsReservations DogsAllowed  \\\n",
       "0             (Missing)          FALSE                    TRUE       FALSE   \n",
       "1             (Missing)      (Missing)                   FALSE   (Missing)   \n",
       "2             (Missing)           TRUE               (Missing)   (Missing)   \n",
       "3             (Missing)           TRUE                    TRUE   (Missing)   \n",
       "4             (Missing)          FALSE                    TRUE   (Missing)   \n",
       "\n",
       "      Caters  fourOrAbove  linear_pred  linear_class  dtr_pred  dtr_class  \n",
       "0      FALSE            1     3.626468             0  3.726214          0  \n",
       "1  (Missing)            0     3.194956             0  2.995918          0  \n",
       "2  (Missing)            1     3.476947             0  3.135266          0  \n",
       "3       TRUE            1     3.794694             0  3.557034          0  \n",
       "4  (Missing)            0     3.446997             0  3.439358          0  "
      ]
     },
     "execution_count": 7,
     "metadata": {},
     "output_type": "execute_result"
    }
   ],
   "source": [
    "linear_x_train = data_train.drop(['stars','fourOrAbove'],axis=1)\n",
    "linear_y_train_pred = linear_model.predict(linear_x_train)\n",
    "data_train['linear_pred'] = linear_y_train_pred\n",
    "data_train['linear_class'] = data_train.apply(lambda x: 1 if x.linear_pred >=4 else 0, axis =1 )\n",
    "\n",
    "dtr_y_train_pred = dtr_cv.predict(x_train)\n",
    "data_train['dtr_pred'] = dtr_y_train_pred\n",
    "data_train['dtr_class'] = data_train.apply(lambda x:1 if x.dtr_pred >= 4 else 0, axis = 1)\n",
    "data_train.head()"
   ]
  },
  {
   "cell_type": "code",
   "execution_count": 30,
   "metadata": {},
   "outputs": [
    {
     "name": "stdout",
     "output_type": "stream",
     "text": [
      "2764\n",
      "699\n",
      "891\n"
     ]
    }
   ],
   "source": [
    "print(data_train['fourOrAbove'].sum())\n",
    "print(data_train['linear_class'].sum())\n",
    "print(data_train['dtr_class'].sum())"
   ]
  },
  {
   "cell_type": "markdown",
   "metadata": {},
   "source": [
    "### iii)"
   ]
  },
  {
   "cell_type": "code",
   "execution_count": 8,
   "metadata": {},
   "outputs": [
    {
     "name": "stdout",
     "output_type": "stream",
     "text": [
      "Optimization terminated successfully.\n",
      "         Current function value: 0.604809\n",
      "         Iterations 6\n",
      "                            OLS Regression Results                            \n",
      "==============================================================================\n",
      "Dep. Variable:                  stars   R-squared:                       0.173\n",
      "Model:                            OLS   Adj. R-squared:                  0.170\n",
      "Method:                 Least Squares   F-statistic:                     52.33\n",
      "Date:                Sun, 17 Oct 2021   Prob (F-statistic):          2.45e-235\n",
      "Time:                        15:55:50   Log-Likelihood:                -7220.7\n",
      "No. Observations:                6272   AIC:                         1.449e+04\n",
      "Df Residuals:                    6246   BIC:                         1.467e+04\n",
      "Df Model:                          25                                         \n",
      "Covariance Type:            nonrobust                                         \n",
      "============================================================================================================================================\n",
      "                                                                               coef    std err          t      P>|t|      [0.025      0.975]\n",
      "--------------------------------------------------------------------------------------------------------------------------------------------\n",
      "Intercept                                                                    3.3413      0.039     85.518      0.000       3.265       3.418\n",
      "C(GoodForKids, Treatment(reference=\"(Missing)\"))[T.FALSE]                   -0.0329      0.046     -0.720      0.472      -0.123       0.057\n",
      "C(GoodForKids, Treatment(reference=\"(Missing)\"))[T.TRUE]                    -0.1325      0.035     -3.757      0.000      -0.202      -0.063\n",
      "C(Alcohol, Treatment(reference=\"(Missing)\"))[T.'beer_and_wine']              0.1925      0.047      4.110      0.000       0.101       0.284\n",
      "C(Alcohol, Treatment(reference=\"(Missing)\"))[T.'full_bar']                   0.1173      0.043      2.698      0.007       0.032       0.203\n",
      "C(Alcohol, Treatment(reference=\"(Missing)\"))[T.'none']                       0.0921      0.039      2.363      0.018       0.016       0.169\n",
      "C(BusinessAcceptsCreditCards, Treatment(reference=\"(Missing)\"))[T.FALSE]     0.6324      0.087      7.257      0.000       0.462       0.803\n",
      "C(BusinessAcceptsCreditCards, Treatment(reference=\"(Missing)\"))[T.TRUE]      0.1338      0.046      2.897      0.004       0.043       0.224\n",
      "C(WiFi, Treatment(reference=\"(Missing)\"))[T.'free']                          0.0685      0.034      1.998      0.046       0.001       0.136\n",
      "C(WiFi, Treatment(reference=\"(Missing)\"))[T.'no']                            0.0858      0.033      2.594      0.009       0.021       0.151\n",
      "C(WiFi, Treatment(reference=\"(Missing)\"))[T.'paid']                         -0.2794      0.103     -2.701      0.007      -0.482      -0.077\n",
      "C(BikeParking, Treatment(reference=\"(Missing)\"))[T.FALSE]                   -0.1784      0.032     -5.608      0.000      -0.241      -0.116\n",
      "C(BikeParking, Treatment(reference=\"(Missing)\"))[T.TRUE]                    -0.1117      0.029     -3.891      0.000      -0.168      -0.055\n",
      "C(ByAppointmentOnly, Treatment(reference=\"(Missing)\"))[T.FALSE]              0.1495      0.034      4.447      0.000       0.084       0.215\n",
      "C(ByAppointmentOnly, Treatment(reference=\"(Missing)\"))[T.TRUE]               0.2560      0.106      2.410      0.016       0.048       0.464\n",
      "C(WheelechairAccessible, Treatment(reference=\"(Missing)\"))[T.FALSE]          0.6685      0.090      7.468      0.000       0.493       0.844\n",
      "C(WheelechairAccessible, Treatment(reference=\"(Missing)\"))[T.TRUE]           0.3469      0.028     12.591      0.000       0.293       0.401\n",
      "C(OutdoorSeating, Treatment(reference=\"(Missing)\"))[T.FALSE]                -0.0755      0.040     -1.908      0.056      -0.153       0.002\n",
      "C(OutdoorSeating, Treatment(reference=\"(Missing)\"))[T.TRUE]                  0.0168      0.042      0.399      0.690      -0.066       0.099\n",
      "C(RestaurantsReservations, Treatment(reference=\"(Missing)\"))[T.FALSE]       -0.2180      0.040     -5.451      0.000      -0.296      -0.140\n",
      "C(RestaurantsReservations, Treatment(reference=\"(Missing)\"))[T.TRUE]        -0.0084      0.045     -0.187      0.851      -0.096       0.079\n",
      "C(DogsAllowed, Treatment(reference=\"(Missing)\"))[T.FALSE]                    0.2539      0.029      8.725      0.000       0.197       0.311\n",
      "C(DogsAllowed, Treatment(reference=\"(Missing)\"))[T.TRUE]                     0.1346      0.054      2.516      0.012       0.030       0.239\n",
      "C(Caters, Treatment(reference=\"(Missing)\"))[T.FALSE]                        -0.0840      0.030     -2.796      0.005      -0.143      -0.025\n",
      "C(Caters, Treatment(reference=\"(Missing)\"))[T.TRUE]                          0.1657      0.033      5.096      0.000       0.102       0.229\n",
      "review_count                                                                 0.0001   2.88e-05      3.566      0.000    4.63e-05       0.000\n",
      "==============================================================================\n",
      "Omnibus:                      130.621   Durbin-Watson:                   1.990\n",
      "Prob(Omnibus):                  0.000   Jarque-Bera (JB):              138.449\n",
      "Skew:                          -0.363   Prob(JB):                     8.63e-31\n",
      "Kurtosis:                       3.058   Cond. No.                     4.88e+03\n",
      "==============================================================================\n",
      "\n",
      "Warnings:\n",
      "[1] Standard Errors assume that the covariance matrix of the errors is correctly specified.\n",
      "[2] The condition number is large, 4.88e+03. This might indicate that there are\n",
      "strong multicollinearity or other numerical problems.\n"
     ]
    }
   ],
   "source": [
    "# Below is the code for building a logistic regression model\n",
    "import statsmodels.formula.api as smf\n",
    "\n",
    "logreg_model = smf.logit(formula='fourOrAbove ~ review_count + C(GoodForKids, Treatment(reference=\"(Missing)\")) + C(Alcohol, Treatment(reference=\"(Missing)\")) + C(BusinessAcceptsCreditCards, Treatment(reference=\"(Missing)\")) + C(WiFi, Treatment(reference=\"(Missing)\")) + C(BikeParking, Treatment(reference=\"(Missing)\")) + C(ByAppointmentOnly, Treatment(reference=\"(Missing)\")) + C(WheelechairAccessible, Treatment(reference=\"(Missing)\"))+C(OutdoorSeating, Treatment(reference=\"(Missing)\")) + C(RestaurantsReservations, Treatment(reference=\"(Missing)\")) + C(DogsAllowed, Treatment(reference=\"(Missing)\")) + C(Caters, Treatment(reference=\"(Missing)\"))',\n",
    "                 data=data_train).fit()\n",
    "\n",
    "print(linear_model.summary())"
   ]
  },
  {
   "cell_type": "markdown",
   "metadata": {},
   "source": [
    "### iv)"
   ]
  },
  {
   "cell_type": "code",
   "execution_count": 9,
   "metadata": {},
   "outputs": [
    {
     "name": "stdout",
     "output_type": "stream",
     "text": [
      "Fitting 10 folds for each of 201 candidates, totalling 2010 fits\n"
     ]
    },
    {
     "data": {
      "text/plain": [
       "GridSearchCV(cv=10, estimator=DecisionTreeClassifier(),\n",
       "             param_grid={'ccp_alpha': array([0.    , 0.0005, 0.001 , 0.0015, 0.002 , 0.0025, 0.003 , 0.0035,\n",
       "       0.004 , 0.0045, 0.005 , 0.0055, 0.006 , 0.0065, 0.007 , 0.0075,\n",
       "       0.008 , 0.0085, 0.009 , 0.0095, 0.01  , 0.0105, 0.011 , 0.0115,\n",
       "       0.012 , 0.0125, 0.013 , 0.0135, 0.014 , 0.0145, 0.015 , 0.0155,\n",
       "       0.016 , 0.0165, 0.017 , 0.0175, 0.018 , 0.0185, 0.019 , 0.0195,\n",
       "       0.02  , 0.02...\n",
       "       0.084 , 0.0845, 0.085 , 0.0855, 0.086 , 0.0865, 0.087 , 0.0875,\n",
       "       0.088 , 0.0885, 0.089 , 0.0895, 0.09  , 0.0905, 0.091 , 0.0915,\n",
       "       0.092 , 0.0925, 0.093 , 0.0935, 0.094 , 0.0945, 0.095 , 0.0955,\n",
       "       0.096 , 0.0965, 0.097 , 0.0975, 0.098 , 0.0985, 0.099 , 0.0995,\n",
       "       0.1   ]),\n",
       "                         'class_weight': [{0: 1, 1: 20}], 'max_depth': [30],\n",
       "                         'min_samples_leaf': [5], 'min_samples_split': [20],\n",
       "                         'random_state': [88]},\n",
       "             scoring='accuracy', verbose=1)"
      ]
     },
     "execution_count": 9,
     "metadata": {},
     "output_type": "execute_result"
    }
   ],
   "source": [
    "# Below is the code for building a decision tree classification model\n",
    "dtc_y_train = data_train['fourOrAbove']\n",
    "dtc_x_train = x_train\n",
    "\n",
    "#Exhaustive search over specified parameter values for an estimator.\n",
    "\n",
    "from sklearn.tree import DecisionTreeClassifier\n",
    "\n",
    "grid_values = {'ccp_alpha': np.linspace(0.0, 0.10, 201),\n",
    "               'min_samples_leaf': [5],\n",
    "               'min_samples_split': [20],\n",
    "               'max_depth': [30],\n",
    "               'class_weight' : [{0: 1, 1: 20}],\n",
    "               'random_state': [88]} \n",
    "            \n",
    "dtc = DecisionTreeClassifier()\n",
    "dtc_cv_acc = GridSearchCV(dtc, param_grid = grid_values, scoring = 'accuracy', cv=10, verbose=1) \n",
    "# default scoring metric to optimize is accuracy, used as default if none given.\n",
    "dtc_cv_acc.fit(dtc_x_train, dtc_y_train)"
   ]
  },
  {
   "cell_type": "code",
   "execution_count": 10,
   "metadata": {},
   "outputs": [
    {
     "data": {
      "image/png": "[encoded data removed]",
      "text/plain": [
       "<Figure size 576x432 with 1 Axes>"
      ]
     },
     "metadata": {
      "needs_background": "light"
     },
     "output_type": "display_data"
    }
   ],
   "source": [
    "acc = dtc_cv_acc.cv_results_['mean_test_score'] \n",
    "# what sklearn calls mean_test_score is the holdout set, i.e. the validation set.\n",
    "ccp = dtc_cv_acc.cv_results_['param_ccp_alpha'].data\n",
    "plt.figure(figsize=(8, 6))\n",
    "plt.xlabel('ccp alpha', fontsize=16)\n",
    "plt.ylabel('mean validation accuracy', fontsize=16)\n",
    "plt.scatter(ccp, acc, s=2)\n",
    "plt.plot(ccp, acc, linewidth=3)\n",
    "plt.grid(True, which='both')\n",
    "plt.show()\n"
   ]
  },
  {
   "cell_type": "code",
   "execution_count": 11,
   "metadata": {},
   "outputs": [
    {
     "name": "stdout",
     "output_type": "stream",
     "text": [
      "Grid best parameter ccp_alpha (max. accuracy):  0.0\n",
      "Grid best score (accuracy):  0.4958553012525524\n"
     ]
    }
   ],
   "source": [
    "print('Grid best parameter ccp_alpha (max. accuracy): ', dtc_cv_acc.best_params_['ccp_alpha'])\n",
    "print('Grid best score (accuracy): ', dtc_cv_acc.best_score_)"
   ]
  },
  {
   "cell_type": "markdown",
   "metadata": {},
   "source": [
    "We are required to do the cross-validation to figure out the best ccp_alpha value for the model to obtain the highest accuracy value. We define the grid_values by taking steps values of ccp_alpha from 0 to 0.01, and apply it into the GridSearchCV model. With the help of matplotlib, we may notice that when ccp_value = 0.0, the accuracy scores highest graphically. Then we may get this point by using best_params to figure out the value of ccp_alpha."
   ]
  },
  {
   "cell_type": "markdown",
   "metadata": {},
   "source": [
    "### v)"
   ]
  },
  {
   "cell_type": "code",
   "execution_count": 12,
   "metadata": {},
   "outputs": [],
   "source": [
    "y_test = data_test['fourOrAbove']\n",
    "x_test = data_test.drop(['stars','fourOrAbove'],axis=1)\n",
    "\n",
    "# Baseline model\n",
    "data_test['base_pred'] = 0 # Because 0 is the most frequent outcome in fourOrAbove as data_test['fourOrAbove'].mean() < 0.5\n",
    "\n",
    "# Linear regression model\n",
    "linear_x_test = x_test\n",
    "linear_y_test_pred = linear_model.predict(linear_x_test)\n",
    "data_test['linear_pred'] = linear_y_test_pred\n",
    "data_test['linear_class'] = data_test.apply(lambda x: 1 if x.linear_pred >= 4 else 0, axis = 1)\n",
    "\n",
    "#Decision Tree Regression model\n",
    "dtr_x_test = pd.get_dummies(x_test)\n",
    "\n",
    "origin_dtr_test_columns = list(dtr_x_test.columns)\n",
    "new_dtr_test_columns = []\n",
    "for col in origin_dtr_test_columns:\n",
    "    if col.find('Missing') == -1:\n",
    "        new_dtr_test_columns.append(col)\n",
    "dtr_x_test = dtr_x_test[new_dtr_test_columns]\n",
    "\n",
    "dtr_y_test_pred = dtr_cv.predict(dtr_x_test)\n",
    "data_test['dtr_pred'] = dtr_y_test_pred\n",
    "data_test['dtr_class'] = data_test.apply(lambda x: 1 if x.dtr_pred >= 4 else 0, axis = 1)\n",
    "\n",
    "#Decision Tree Classification Tree\n",
    "dtc_x_test = dtr_x_test\n",
    "\n",
    "dtc_y_pred = dtc_cv_acc.predict(dtc_x_test)\n",
    "data_test['dtc_class'] = dtc_y_pred"
   ]
  },
  {
   "cell_type": "code",
   "execution_count": 13,
   "metadata": {
    "scrolled": true
   },
   "outputs": [
    {
     "data": {
      "text/html": [
       "<div>\n",
       "<style scoped>\n",
       "    .dataframe tbody tr th:only-of-type {\n",
       "        vertical-align: middle;\n",
       "    }\n",
       "\n",
       "    .dataframe tbody tr th {\n",
       "        vertical-align: top;\n",
       "    }\n",
       "\n",
       "    .dataframe thead th {\n",
       "        text-align: right;\n",
       "    }\n",
       "</style>\n",
       "<table border=\"1\" class=\"dataframe\">\n",
       "  <thead>\n",
       "    <tr style=\"text-align: right;\">\n",
       "      <th></th>\n",
       "      <th>stars</th>\n",
       "      <th>review_count</th>\n",
       "      <th>GoodForKids</th>\n",
       "      <th>Alcohol</th>\n",
       "      <th>BusinessAcceptsCreditCards</th>\n",
       "      <th>WiFi</th>\n",
       "      <th>BikeParking</th>\n",
       "      <th>ByAppointmentOnly</th>\n",
       "      <th>WheelechairAccessible</th>\n",
       "      <th>OutdoorSeating</th>\n",
       "      <th>RestaurantsReservations</th>\n",
       "      <th>DogsAllowed</th>\n",
       "      <th>Caters</th>\n",
       "      <th>fourOrAbove</th>\n",
       "      <th>base_pred</th>\n",
       "      <th>linear_pred</th>\n",
       "      <th>linear_class</th>\n",
       "      <th>dtr_pred</th>\n",
       "      <th>dtr_class</th>\n",
       "      <th>dtc_class</th>\n",
       "    </tr>\n",
       "  </thead>\n",
       "  <tbody>\n",
       "    <tr>\n",
       "      <th>0</th>\n",
       "      <td>4.0</td>\n",
       "      <td>34</td>\n",
       "      <td>(Missing)</td>\n",
       "      <td>'full_bar'</td>\n",
       "      <td>TRUE</td>\n",
       "      <td>'free'</td>\n",
       "      <td>TRUE</td>\n",
       "      <td>(Missing)</td>\n",
       "      <td>TRUE</td>\n",
       "      <td>TRUE</td>\n",
       "      <td>TRUE</td>\n",
       "      <td>FALSE</td>\n",
       "      <td>TRUE</td>\n",
       "      <td>1</td>\n",
       "      <td>0</td>\n",
       "      <td>4.327517</td>\n",
       "      <td>1</td>\n",
       "      <td>4.114148</td>\n",
       "      <td>1</td>\n",
       "      <td>1</td>\n",
       "    </tr>\n",
       "    <tr>\n",
       "      <th>1</th>\n",
       "      <td>4.0</td>\n",
       "      <td>802</td>\n",
       "      <td>TRUE</td>\n",
       "      <td>(Missing)</td>\n",
       "      <td>TRUE</td>\n",
       "      <td>'free'</td>\n",
       "      <td>FALSE</td>\n",
       "      <td>(Missing)</td>\n",
       "      <td>(Missing)</td>\n",
       "      <td>TRUE</td>\n",
       "      <td>(Missing)</td>\n",
       "      <td>FALSE</td>\n",
       "      <td>TRUE</td>\n",
       "      <td>1</td>\n",
       "      <td>0</td>\n",
       "      <td>3.751397</td>\n",
       "      <td>0</td>\n",
       "      <td>3.726214</td>\n",
       "      <td>0</td>\n",
       "      <td>0</td>\n",
       "    </tr>\n",
       "    <tr>\n",
       "      <th>2</th>\n",
       "      <td>4.0</td>\n",
       "      <td>231</td>\n",
       "      <td>TRUE</td>\n",
       "      <td>'full_bar'</td>\n",
       "      <td>TRUE</td>\n",
       "      <td>'free'</td>\n",
       "      <td>FALSE</td>\n",
       "      <td>FALSE</td>\n",
       "      <td>(Missing)</td>\n",
       "      <td>FALSE</td>\n",
       "      <td>TRUE</td>\n",
       "      <td>FALSE</td>\n",
       "      <td>TRUE</td>\n",
       "      <td>1</td>\n",
       "      <td>0</td>\n",
       "      <td>3.859013</td>\n",
       "      <td>0</td>\n",
       "      <td>3.726214</td>\n",
       "      <td>0</td>\n",
       "      <td>1</td>\n",
       "    </tr>\n",
       "    <tr>\n",
       "      <th>3</th>\n",
       "      <td>2.0</td>\n",
       "      <td>27</td>\n",
       "      <td>TRUE</td>\n",
       "      <td>'none'</td>\n",
       "      <td>TRUE</td>\n",
       "      <td>'free'</td>\n",
       "      <td>TRUE</td>\n",
       "      <td>(Missing)</td>\n",
       "      <td>TRUE</td>\n",
       "      <td>FALSE</td>\n",
       "      <td>FALSE</td>\n",
       "      <td>FALSE</td>\n",
       "      <td>TRUE</td>\n",
       "      <td>0</td>\n",
       "      <td>0</td>\n",
       "      <td>3.867169</td>\n",
       "      <td>0</td>\n",
       "      <td>3.611111</td>\n",
       "      <td>0</td>\n",
       "      <td>1</td>\n",
       "    </tr>\n",
       "    <tr>\n",
       "      <th>4</th>\n",
       "      <td>3.5</td>\n",
       "      <td>6</td>\n",
       "      <td>(Missing)</td>\n",
       "      <td>'beer_and_wine'</td>\n",
       "      <td>TRUE</td>\n",
       "      <td>(Missing)</td>\n",
       "      <td>(Missing)</td>\n",
       "      <td>(Missing)</td>\n",
       "      <td>(Missing)</td>\n",
       "      <td>FALSE</td>\n",
       "      <td>FALSE</td>\n",
       "      <td>(Missing)</td>\n",
       "      <td>(Missing)</td>\n",
       "      <td>0</td>\n",
       "      <td>0</td>\n",
       "      <td>3.374662</td>\n",
       "      <td>0</td>\n",
       "      <td>3.236181</td>\n",
       "      <td>0</td>\n",
       "      <td>1</td>\n",
       "    </tr>\n",
       "  </tbody>\n",
       "</table>\n",
       "</div>"
      ],
      "text/plain": [
       "   stars  review_count GoodForKids          Alcohol  \\\n",
       "0    4.0            34   (Missing)       'full_bar'   \n",
       "1    4.0           802        TRUE        (Missing)   \n",
       "2    4.0           231        TRUE       'full_bar'   \n",
       "3    2.0            27        TRUE           'none'   \n",
       "4    3.5             6   (Missing)  'beer_and_wine'   \n",
       "\n",
       "  BusinessAcceptsCreditCards       WiFi BikeParking ByAppointmentOnly  \\\n",
       "0                       TRUE     'free'        TRUE         (Missing)   \n",
       "1                       TRUE     'free'       FALSE         (Missing)   \n",
       "2                       TRUE     'free'       FALSE             FALSE   \n",
       "3                       TRUE     'free'        TRUE         (Missing)   \n",
       "4                       TRUE  (Missing)   (Missing)         (Missing)   \n",
       "\n",
       "  WheelechairAccessible OutdoorSeating RestaurantsReservations DogsAllowed  \\\n",
       "0                  TRUE           TRUE                    TRUE       FALSE   \n",
       "1             (Missing)           TRUE               (Missing)       FALSE   \n",
       "2             (Missing)          FALSE                    TRUE       FALSE   \n",
       "3                  TRUE          FALSE                   FALSE       FALSE   \n",
       "4             (Missing)          FALSE                   FALSE   (Missing)   \n",
       "\n",
       "      Caters  fourOrAbove  base_pred  linear_pred  linear_class  dtr_pred  \\\n",
       "0       TRUE            1          0     4.327517             1  4.114148   \n",
       "1       TRUE            1          0     3.751397             0  3.726214   \n",
       "2       TRUE            1          0     3.859013             0  3.726214   \n",
       "3       TRUE            0          0     3.867169             0  3.611111   \n",
       "4  (Missing)            0          0     3.374662             0  3.236181   \n",
       "\n",
       "   dtr_class  dtc_class  \n",
       "0          1          1  \n",
       "1          0          0  \n",
       "2          0          1  \n",
       "3          0          1  \n",
       "4          0          1  "
      ]
     },
     "execution_count": 13,
     "metadata": {},
     "output_type": "execute_result"
    }
   ],
   "source": [
    "data_test.head()"
   ]
  },
  {
   "cell_type": "code",
   "execution_count": 31,
   "metadata": {},
   "outputs": [
    {
     "name": "stdout",
     "output_type": "stream",
     "text": [
      "1190\n",
      "271\n",
      "336\n"
     ]
    }
   ],
   "source": [
    "print(data_test['fourOrAbove'].sum())\n",
    "print(data_test['linear_class'].sum())\n",
    "print(data_test['dtr_class'].sum())"
   ]
  },
  {
   "cell_type": "code",
   "execution_count": 17,
   "metadata": {},
   "outputs": [],
   "source": [
    "base_pred = data_test['base_pred']\n",
    "linear_pred = data_test['linear_class']\n",
    "dtr_pred = data_test['dtr_class']\n",
    "dtc_pred = data_test['dtc_class']\n",
    "\n",
    "from sklearn.metrics import confusion_matrix\n",
    "\n",
    "cm_base = confusion_matrix(y_test, base_pred)\n",
    "cm_linear = confusion_matrix(y_test,linear_pred)\n",
    "cm_dtr = confusion_matrix(y_test,dtr_pred)\n",
    "cm_dtc = confusion_matrix(y_test,dtc_pred)"
   ]
  },
  {
   "cell_type": "code",
   "execution_count": 23,
   "metadata": {},
   "outputs": [
    {
     "data": {
      "text/html": [
       "<style  type=\"text/css\" >\n",
       "    #T_511dca28_2fa4_11ec_ba9c_acde48001122 th {\n",
       "          font-size: 12pt;\n",
       "    }    #T_511dca28_2fa4_11ec_ba9c_acde48001122row0_col0 {\n",
       "            font-size:  14pt;\n",
       "        }    #T_511dca28_2fa4_11ec_ba9c_acde48001122row0_col1 {\n",
       "            font-size:  14pt;\n",
       "        }    #T_511dca28_2fa4_11ec_ba9c_acde48001122row0_col2 {\n",
       "            font-size:  14pt;\n",
       "        }    #T_511dca28_2fa4_11ec_ba9c_acde48001122row0_col3 {\n",
       "            font-size:  14pt;\n",
       "        }    #T_511dca28_2fa4_11ec_ba9c_acde48001122row1_col0 {\n",
       "            font-size:  14pt;\n",
       "        }    #T_511dca28_2fa4_11ec_ba9c_acde48001122row1_col1 {\n",
       "            font-size:  14pt;\n",
       "        }    #T_511dca28_2fa4_11ec_ba9c_acde48001122row1_col2 {\n",
       "            font-size:  14pt;\n",
       "        }    #T_511dca28_2fa4_11ec_ba9c_acde48001122row1_col3 {\n",
       "            font-size:  14pt;\n",
       "        }    #T_511dca28_2fa4_11ec_ba9c_acde48001122row2_col0 {\n",
       "            font-size:  14pt;\n",
       "        }    #T_511dca28_2fa4_11ec_ba9c_acde48001122row2_col1 {\n",
       "            font-size:  14pt;\n",
       "        }    #T_511dca28_2fa4_11ec_ba9c_acde48001122row2_col2 {\n",
       "            font-size:  14pt;\n",
       "        }    #T_511dca28_2fa4_11ec_ba9c_acde48001122row2_col3 {\n",
       "            font-size:  14pt;\n",
       "        }</style><table id=\"T_511dca28_2fa4_11ec_ba9c_acde48001122\" ><thead>    <tr>        <th class=\"blank level0\" ></th>        <th class=\"col_heading level0 col0\" >Baseline Model</th>        <th class=\"col_heading level0 col1\" >Linear Regression Model</th>        <th class=\"col_heading level0 col2\" >Decision Tree Regression Model</th>        <th class=\"col_heading level0 col3\" >Decision Tree Classification Model</th>    </tr></thead><tbody>\n",
       "                <tr>\n",
       "                        <th id=\"T_511dca28_2fa4_11ec_ba9c_acde48001122level0_row0\" class=\"row_heading level0 row0\" >Accuracy</th>\n",
       "                        <td id=\"T_511dca28_2fa4_11ec_ba9c_acde48001122row0_col0\" class=\"data row0 col0\" >0.557</td>\n",
       "                        <td id=\"T_511dca28_2fa4_11ec_ba9c_acde48001122row0_col1\" class=\"data row0 col1\" >0.612</td>\n",
       "                        <td id=\"T_511dca28_2fa4_11ec_ba9c_acde48001122row0_col2\" class=\"data row0 col2\" >0.625</td>\n",
       "                        <td id=\"T_511dca28_2fa4_11ec_ba9c_acde48001122row0_col3\" class=\"data row0 col3\" >0.502</td>\n",
       "            </tr>\n",
       "            <tr>\n",
       "                        <th id=\"T_511dca28_2fa4_11ec_ba9c_acde48001122level0_row1\" class=\"row_heading level0 row1\" >TPR</th>\n",
       "                        <td id=\"T_511dca28_2fa4_11ec_ba9c_acde48001122row1_col0\" class=\"data row1 col0\" >0.000</td>\n",
       "                        <td id=\"T_511dca28_2fa4_11ec_ba9c_acde48001122row1_col1\" class=\"data row1 col1\" >0.176</td>\n",
       "                        <td id=\"T_511dca28_2fa4_11ec_ba9c_acde48001122row1_col2\" class=\"data row1 col2\" >0.218</td>\n",
       "                        <td id=\"T_511dca28_2fa4_11ec_ba9c_acde48001122row1_col3\" class=\"data row1 col3\" >0.935</td>\n",
       "            </tr>\n",
       "            <tr>\n",
       "                        <th id=\"T_511dca28_2fa4_11ec_ba9c_acde48001122level0_row2\" class=\"row_heading level0 row2\" >FPR</th>\n",
       "                        <td id=\"T_511dca28_2fa4_11ec_ba9c_acde48001122row2_col0\" class=\"data row2 col0\" >0.000</td>\n",
       "                        <td id=\"T_511dca28_2fa4_11ec_ba9c_acde48001122row2_col1\" class=\"data row2 col1\" >0.041</td>\n",
       "                        <td id=\"T_511dca28_2fa4_11ec_ba9c_acde48001122row2_col2\" class=\"data row2 col2\" >0.051</td>\n",
       "                        <td id=\"T_511dca28_2fa4_11ec_ba9c_acde48001122row2_col3\" class=\"data row2 col3\" >0.842</td>\n",
       "            </tr>\n",
       "    </tbody></table>"
      ],
      "text/plain": [
       "<pandas.io.formats.style.Styler at 0x7fa543cd1550>"
      ]
     },
     "execution_count": 23,
     "metadata": {},
     "output_type": "execute_result"
    }
   ],
   "source": [
    "# Accuracy\n",
    "base_acc = (cm_base.ravel()[0]+cm_base.ravel()[3])/sum(cm_base.ravel())\n",
    "linear_acc = (cm_linear.ravel()[0]+cm_linear.ravel()[3])/sum(cm_linear.ravel())\n",
    "dtr_acc = (cm_dtr.ravel()[0]+cm_dtr.ravel()[3])/sum(cm_dtr.ravel())\n",
    "dtc_acc = (cm_dtc.ravel()[0]+cm_dtc.ravel()[3])/sum(cm_dtc.ravel())\n",
    "\n",
    "# TPR\n",
    "base_tpr = cm_base.ravel()[3]/(cm_base.ravel()[3] + cm_base.ravel()[2])\n",
    "linear_tpr = cm_linear.ravel()[3]/(cm_linear.ravel()[3] + cm_linear.ravel()[2])\n",
    "dtr_tpr = cm_dtr.ravel()[3]/(cm_dtr.ravel()[3] + cm_dtr.ravel()[2])\n",
    "dtc_tpr = cm_dtc.ravel()[3]/(cm_dtc.ravel()[3] + cm_dtc.ravel()[2])\n",
    "\n",
    "# FPR\n",
    "base_fpr = cm_base.ravel()[1]/(cm_base.ravel()[1] + cm_base.ravel()[0])\n",
    "linear_fpr = cm_linear.ravel()[1]/(cm_linear.ravel()[1] + cm_linear.ravel()[0])\n",
    "dtr_fpr = cm_dtr.ravel()[1]/(cm_dtr.ravel()[1] + cm_dtr.ravel()[0])\n",
    "dtc_fpr = cm_dtc.ravel()[1]/(cm_dtc.ravel()[1] + cm_dtc.ravel()[0])\n",
    "\n",
    "comparison_data = {\n",
    "    'Baseline Model':['{:.3f}'.format(base_acc),\n",
    "                      '{:.3f}'.format(base_tpr),\n",
    "                      '{:.3f}'.format(base_fpr)],\n",
    "    'Linear Regression Model':['{:.3f}'.format(linear_acc),\n",
    "                               '{:.3f}'.format(linear_tpr),\n",
    "                               '{:.3f}'.format(linear_fpr)],\n",
    "    'Decision Tree Regression Model':['{:.3f}'.format(dtr_acc),\n",
    "                                      '{:.3f}'.format(dtr_tpr),\n",
    "                                      '{:.3f}'.format(dtr_fpr)],\n",
    "    'Decision Tree Classification Model':['{:.3f}'.format(dtc_acc),\n",
    "                                      '{:.3f}'.format(dtc_tpr),\n",
    "                                      '{:.3f}'.format(dtc_fpr)]\n",
    "}\n",
    "comparison_table = pd.DataFrame(data=comparison_data, index=['Accuracy','TPR','FPR'])\n",
    "comparison_table.style.set_properties(**{'font-size': '14pt',}).set_table_styles([{'selector': 'th', 'props': [('font-size', '12pt')]}])"
   ]
  },
  {
   "cell_type": "markdown",
   "metadata": {},
   "source": [
    "In terms of accuracy metric, Decision Tree Regression Model outperforms from there four models. It has the the highest accuracy, however not that much compared to others.\n",
    "In terms of TPR and FPR, we can conclude that Baseline Model does not give positive prediction, Linear Regression Model and Decision Tree Regression Model tends to provide less positive predictions compared to Decision Tree Classification Model which tends to give almost all positive prediction.  \n",
    "As the baseline model indicates that there are less fourOrAbove stores, so that the first three models seems quite reasonable, the decision tree classification doesd not.  \n",
    "I would recommend the decision tree regression model, because it has the highest accuracy and reasonable tpr and fpr rate with higher tpr and acceptable fpr."
   ]
  },
  {
   "cell_type": "markdown",
   "metadata": {},
   "source": [
    "## e)"
   ]
  },
  {
   "cell_type": "code",
   "execution_count": 25,
   "metadata": {},
   "outputs": [
    {
     "data": {
      "text/plain": [
       "GridSearchCV(cv=5, estimator=RandomForestRegressor(),\n",
       "             param_grid={'max_features': array([ 1,  2,  3,  4,  5,  6,  7,  8,  9, 10, 11, 12, 13, 14, 15, 16, 17,\n",
       "       18, 19, 20], dtype=int32),\n",
       "                         'min_samples_leaf': [5], 'n_estimators': [500],\n",
       "                         'random_state': [88]},\n",
       "             scoring='r2')"
      ]
     },
     "execution_count": 25,
     "metadata": {},
     "output_type": "execute_result"
    }
   ],
   "source": [
    "from sklearn.ensemble import RandomForestRegressor\n",
    "\n",
    "data_cv = pd.read_csv('yelp242_train.csv')\n",
    "\n",
    "y_train = data_cv['stars']\n",
    "x_train = pd.get_dummies(data_cv.drop(['stars'],axis = 1))\n",
    "\n",
    "origin = list(x_train.columns)\n",
    "new = []\n",
    "for col in origin:\n",
    "    if col.find('Missing') == -1:\n",
    "        new.append(col)\n",
    "x_train = x_train[new]\n",
    "\n",
    "# Below is the code for implementing cross validation for random forest model\n",
    "grid_values = {'max_features': np.linspace(1,20,20, dtype='int32'),\n",
    "              'min_samples_leaf': [5],\n",
    "              'n_estimators': [500],\n",
    "              'random_state': [88]} \n",
    "\n",
    "rf = RandomForestRegressor() \n",
    "rf_cv = GridSearchCV(rf, param_grid=grid_values, scoring='r2', cv=5)\n",
    "rf_cv.fit(x_train, y_train)\n"
   ]
  },
  {
   "cell_type": "code",
   "execution_count": 27,
   "metadata": {},
   "outputs": [
    {
     "data": {
      "text/html": [
       "<div>\n",
       "<style scoped>\n",
       "    .dataframe tbody tr th:only-of-type {\n",
       "        vertical-align: middle;\n",
       "    }\n",
       "\n",
       "    .dataframe tbody tr th {\n",
       "        vertical-align: top;\n",
       "    }\n",
       "\n",
       "    .dataframe thead th {\n",
       "        text-align: right;\n",
       "    }\n",
       "</style>\n",
       "<table border=\"1\" class=\"dataframe\">\n",
       "  <thead>\n",
       "    <tr style=\"text-align: right;\">\n",
       "      <th></th>\n",
       "      <th>Feature</th>\n",
       "      <th>Importance score</th>\n",
       "    </tr>\n",
       "  </thead>\n",
       "  <tbody>\n",
       "    <tr>\n",
       "      <th>0</th>\n",
       "      <td>review_count</td>\n",
       "      <td>25.2</td>\n",
       "    </tr>\n",
       "    <tr>\n",
       "      <th>1</th>\n",
       "      <td>GoodForKids_FALSE</td>\n",
       "      <td>1.3</td>\n",
       "    </tr>\n",
       "    <tr>\n",
       "      <th>2</th>\n",
       "      <td>GoodForKids_TRUE</td>\n",
       "      <td>3.0</td>\n",
       "    </tr>\n",
       "    <tr>\n",
       "      <th>3</th>\n",
       "      <td>Alcohol_'beer_and_wine'</td>\n",
       "      <td>1.2</td>\n",
       "    </tr>\n",
       "    <tr>\n",
       "      <th>4</th>\n",
       "      <td>Alcohol_'full_bar'</td>\n",
       "      <td>2.5</td>\n",
       "    </tr>\n",
       "    <tr>\n",
       "      <th>5</th>\n",
       "      <td>Alcohol_'none'</td>\n",
       "      <td>3.1</td>\n",
       "    </tr>\n",
       "    <tr>\n",
       "      <th>6</th>\n",
       "      <td>BusinessAcceptsCreditCards_FALSE</td>\n",
       "      <td>1.4</td>\n",
       "    </tr>\n",
       "    <tr>\n",
       "      <th>7</th>\n",
       "      <td>BusinessAcceptsCreditCards_TRUE</td>\n",
       "      <td>1.1</td>\n",
       "    </tr>\n",
       "    <tr>\n",
       "      <th>8</th>\n",
       "      <td>WiFi_'free'</td>\n",
       "      <td>2.4</td>\n",
       "    </tr>\n",
       "    <tr>\n",
       "      <th>9</th>\n",
       "      <td>WiFi_'no'</td>\n",
       "      <td>2.3</td>\n",
       "    </tr>\n",
       "    <tr>\n",
       "      <th>10</th>\n",
       "      <td>WiFi_'paid'</td>\n",
       "      <td>0.1</td>\n",
       "    </tr>\n",
       "    <tr>\n",
       "      <th>11</th>\n",
       "      <td>BikeParking_FALSE</td>\n",
       "      <td>2.7</td>\n",
       "    </tr>\n",
       "    <tr>\n",
       "      <th>12</th>\n",
       "      <td>BikeParking_TRUE</td>\n",
       "      <td>2.8</td>\n",
       "    </tr>\n",
       "    <tr>\n",
       "      <th>13</th>\n",
       "      <td>ByAppointmentOnly_FALSE</td>\n",
       "      <td>2.7</td>\n",
       "    </tr>\n",
       "    <tr>\n",
       "      <th>14</th>\n",
       "      <td>ByAppointmentOnly_TRUE</td>\n",
       "      <td>0.2</td>\n",
       "    </tr>\n",
       "    <tr>\n",
       "      <th>15</th>\n",
       "      <td>WheelechairAccessible_FALSE</td>\n",
       "      <td>1.5</td>\n",
       "    </tr>\n",
       "    <tr>\n",
       "      <th>16</th>\n",
       "      <td>WheelechairAccessible_TRUE</td>\n",
       "      <td>15.0</td>\n",
       "    </tr>\n",
       "    <tr>\n",
       "      <th>17</th>\n",
       "      <td>OutdoorSeating_FALSE</td>\n",
       "      <td>3.0</td>\n",
       "    </tr>\n",
       "    <tr>\n",
       "      <th>18</th>\n",
       "      <td>OutdoorSeating_TRUE</td>\n",
       "      <td>2.2</td>\n",
       "    </tr>\n",
       "    <tr>\n",
       "      <th>19</th>\n",
       "      <td>RestaurantsReservations_FALSE</td>\n",
       "      <td>5.7</td>\n",
       "    </tr>\n",
       "    <tr>\n",
       "      <th>20</th>\n",
       "      <td>RestaurantsReservations_TRUE</td>\n",
       "      <td>2.6</td>\n",
       "    </tr>\n",
       "    <tr>\n",
       "      <th>21</th>\n",
       "      <td>DogsAllowed_FALSE</td>\n",
       "      <td>7.5</td>\n",
       "    </tr>\n",
       "    <tr>\n",
       "      <th>22</th>\n",
       "      <td>DogsAllowed_TRUE</td>\n",
       "      <td>1.4</td>\n",
       "    </tr>\n",
       "    <tr>\n",
       "      <th>23</th>\n",
       "      <td>Caters_FALSE</td>\n",
       "      <td>3.7</td>\n",
       "    </tr>\n",
       "    <tr>\n",
       "      <th>24</th>\n",
       "      <td>Caters_TRUE</td>\n",
       "      <td>5.5</td>\n",
       "    </tr>\n",
       "  </tbody>\n",
       "</table>\n",
       "</div>"
      ],
      "text/plain": [
       "                             Feature  Importance score\n",
       "0                       review_count              25.2\n",
       "1                  GoodForKids_FALSE               1.3\n",
       "2                   GoodForKids_TRUE               3.0\n",
       "3            Alcohol_'beer_and_wine'               1.2\n",
       "4                 Alcohol_'full_bar'               2.5\n",
       "5                     Alcohol_'none'               3.1\n",
       "6   BusinessAcceptsCreditCards_FALSE               1.4\n",
       "7    BusinessAcceptsCreditCards_TRUE               1.1\n",
       "8                        WiFi_'free'               2.4\n",
       "9                          WiFi_'no'               2.3\n",
       "10                       WiFi_'paid'               0.1\n",
       "11                 BikeParking_FALSE               2.7\n",
       "12                  BikeParking_TRUE               2.8\n",
       "13           ByAppointmentOnly_FALSE               2.7\n",
       "14            ByAppointmentOnly_TRUE               0.2\n",
       "15       WheelechairAccessible_FALSE               1.5\n",
       "16        WheelechairAccessible_TRUE              15.0\n",
       "17              OutdoorSeating_FALSE               3.0\n",
       "18               OutdoorSeating_TRUE               2.2\n",
       "19     RestaurantsReservations_FALSE               5.7\n",
       "20      RestaurantsReservations_TRUE               2.6\n",
       "21                 DogsAllowed_FALSE               7.5\n",
       "22                  DogsAllowed_TRUE               1.4\n",
       "23                      Caters_FALSE               3.7\n",
       "24                       Caters_TRUE               5.5"
      ]
     },
     "execution_count": 27,
     "metadata": {},
     "output_type": "execute_result"
    }
   ],
   "source": [
    "pd.DataFrame({'Feature' : x_train.columns, \n",
    "              'Importance score': 100*rf_cv.best_estimator_.feature_importances_}).round(1)"
   ]
  },
  {
   "cell_type": "code",
   "execution_count": 28,
   "metadata": {},
   "outputs": [
    {
     "data": {
      "image/png": "[encoded data removed]",
      "text/plain": [
       "<Figure size 576x504 with 1 Axes>"
      ]
     },
     "metadata": {
      "needs_background": "light"
     },
     "output_type": "display_data"
    }
   ],
   "source": [
    "plt.figure(figsize=(8,7))\n",
    "plt.barh(x_train.columns, 100*rf_cv.best_estimator_.feature_importances_)\n",
    "plt.show()"
   ]
  },
  {
   "cell_type": "markdown",
   "metadata": {},
   "source": [
    "From the bar chart shown above, we can figure it out how to improve the ratings.  \n",
    "We may firstly ask the customers to leave more reviews on Yelp as it contribute most on the bar chart above, standing for 25%. Besides review, three tips to truly improve the service is to include WheelchairAccessible, DogsAllowed and Caters. These three features contribute a lot to the higher ratings in Yelp.  \n",
    "Tips:   \n",
    "1) Make your wheelchair easy accessible for the customer  \n",
    "2) Try to make dogs allowed in the business  \n",
    "3) Try to provide catering measures. \n"
   ]
  },
  {
   "cell_type": "code",
   "execution_count": null,
   "metadata": {},
   "outputs": [],
   "source": []
  }
 ],
 "metadata": {
  "kernelspec": {
   "display_name": "Python 3",
   "language": "python",
   "name": "python3"
  },
  "language_info": {
   "codemirror_mode": {
    "name": "ipython",
    "version": 3
   },
   "file_extension": ".py",
   "mimetype": "text/x-python",
   "name": "python",
   "nbconvert_exporter": "python",
   "pygments_lexer": "ipython3",
   "version": "3.8.3"
  },
  "toc": {
   "base_numbering": 1,
   "nav_menu": {},
   "number_sections": true,
   "sideBar": true,
   "skip_h1_title": false,
   "title_cell": "Table of Contents",
   "title_sidebar": "Contents",
   "toc_cell": false,
   "toc_position": {},
   "toc_section_display": true,
   "toc_window_display": false
  }
 },
 "nbformat": 4,
 "nbformat_minor": 4
}
