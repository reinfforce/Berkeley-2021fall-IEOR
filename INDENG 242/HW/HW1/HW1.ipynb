{
 "cells": [
  {
   "cell_type": "markdown",
   "metadata": {},
   "source": [
    " INDENG242 Homework 1"
   ]
  },
  {
   "cell_type": "markdown",
   "metadata": {},
   "source": [
    "# Question 1"
   ]
  },
  {
   "cell_type": "markdown",
   "metadata": {},
   "source": [
    "## (a)\n",
    "We would expect that the RSS calculated using cubic regression tends to be smaller. That is because the cubic regression form has more degrees of freedom to fit the model with training set, resulting in a smaller RSS\n",
    "\n",
    "## (b)\n",
    "Since we already know that the true model is linear, we would expect that linear model does better job thatn the cubic model in terms of the test data.\n",
    "    \n",
    "## (c)\n",
    "In terms of the training set, the cubic model will always do a better job than the linear model, meaning that having a lower RSS than the linear model does. Because it has more degrees of freedom to minimize the RSS\n",
    "\n",
    "## (d)\n",
    "Actually, it depends. In terms of the test sets, it depends on what the real underlying model is, like how non-linear it is. And it also depends on how much test data we have.  \n",
    "If the underlying model is much or very non-linear, then we would expect the cubic regression model does a better job as explained before (having more degrees of freedom to fit the model).  \n",
    "If we're given very little data, for example, only 4-5 sets of data, then calculating RSS for a cubic model is somehow non-sense because it has great variance. Then cubic model may be overfitting, resulting in a ridiculous fit."
   ]
  },
  {
   "cell_type": "markdown",
   "metadata": {},
   "source": [
    "# Question 2"
   ]
  },
  {
   "cell_type": "markdown",
   "metadata": {},
   "source": [
    "With  $$\\hat{\\beta} = \\frac{\\sum_{i=1}^{n}{x_iy_i}}{\\sum_{j=1}^{n}{x_j^{2}}} $$\n",
    "\n",
    "we will have $$\\hat{y_i} = x_i \\frac{\\sum_{i=1}^{n}{x_iy_i}}{\\sum_{j=1}^{n}{x_j^{2}}} = {\\sum_{k=1}^{n}{\\frac{x_ix_k}{\\sum_{j=1}^{n}{x_j^{2}}}}y_k}$$\n",
    "\n",
    "And we had $$\\hat{y_i} = {\\sum_{i'=1}^{n}{a_{i'}y_{i'}}}$$\n",
    "\n",
    "Therefore $$a_{i'} = \\frac{x_ix_{i'}}{\\sum_{j=1}^{n}{x_j^{2}}}$$"
   ]
  },
  {
   "cell_type": "markdown",
   "metadata": {},
   "source": [
    "# Question 3"
   ]
  },
  {
   "cell_type": "markdown",
   "metadata": {},
   "source": [
    "## (a)"
   ]
  },
  {
   "cell_type": "code",
   "execution_count": 1,
   "metadata": {},
   "outputs": [],
   "source": [
    "import pandas as pd\n",
    "import numpy as np"
   ]
  },
  {
   "cell_type": "code",
   "execution_count": 2,
   "metadata": {},
   "outputs": [
    {
     "name": "stdout",
     "output_type": "stream",
     "text": [
      "<class 'pandas.core.frame.DataFrame'>\n",
      "RangeIndex: 162 entries, 0 to 161\n",
      "Data columns (total 8 columns):\n",
      " #   Column        Non-Null Count  Dtype  \n",
      "---  ------        --------------  -----  \n",
      " 0   MonthNumeric  162 non-null    int64  \n",
      " 1   MonthFactor   162 non-null    object \n",
      " 2   Year          162 non-null    int64  \n",
      " 3   RogueSales    162 non-null    int64  \n",
      " 4   Unemployment  162 non-null    float64\n",
      " 5   RogueQueries  162 non-null    int64  \n",
      " 6   CPIAll        162 non-null    float64\n",
      " 7   CPIEnergy     162 non-null    float64\n",
      "dtypes: float64(3), int64(4), object(1)\n",
      "memory usage: 10.2+ KB\n"
     ]
    }
   ],
   "source": [
    "rogue = pd.read_csv('Rogue-242-Fall2021.csv')\n",
    "rogue.info()"
   ]
  },
  {
   "cell_type": "code",
   "execution_count": 3,
   "metadata": {},
   "outputs": [],
   "source": [
    "rogue_train = rogue[rogue['Year'] <= 2015]\n",
    "rogue_testA = rogue[(rogue['Year'] >= 2016) & (rogue['Year'] <= 2019) ]\n",
    "rogue_testB = rogue[(rogue['Year'] >= 2020) & (rogue['Year'] <= 2021) ]"
   ]
  },
  {
   "cell_type": "code",
   "execution_count": 4,
   "metadata": {},
   "outputs": [
    {
     "name": "stdout",
     "output_type": "stream",
     "text": [
      "                            OLS Regression Results                            \n",
      "==============================================================================\n",
      "Dep. Variable:             RogueSales   R-squared:                       0.796\n",
      "Model:                            OLS   Adj. R-squared:                  0.787\n",
      "Method:                 Least Squares   F-statistic:                     88.71\n",
      "Date:                Tue, 21 Sep 2021   Prob (F-statistic):           1.47e-30\n",
      "Time:                        12:52:24   Log-Likelihood:                -898.41\n",
      "No. Observations:                  96   AIC:                             1807.\n",
      "Df Residuals:                      91   BIC:                             1820.\n",
      "Df Model:                           4                                         \n",
      "Covariance Type:            nonrobust                                         \n",
      "================================================================================\n",
      "                   coef    std err          t      P>|t|      [0.025      0.975]\n",
      "--------------------------------------------------------------------------------\n",
      "Intercept    -6.918e+04   1.42e+04     -4.884      0.000   -9.73e+04    -4.1e+04\n",
      "RogueQueries   172.2780     57.473      2.998      0.004      58.115     286.441\n",
      "CPIEnergy      -65.8007     15.636     -4.208      0.000     -96.859     -34.742\n",
      "CPIAll         410.8467     76.709      5.356      0.000     258.474     563.219\n",
      "Unemployment  -138.5673    245.091     -0.565      0.573    -625.411     348.276\n",
      "==============================================================================\n",
      "Omnibus:                       61.772   Durbin-Watson:                   1.459\n",
      "Prob(Omnibus):                  0.000   Jarque-Bera (JB):              442.090\n",
      "Skew:                           1.883   Prob(JB):                     1.00e-96\n",
      "Kurtosis:                      12.815   Cond. No.                     1.55e+04\n",
      "==============================================================================\n",
      "\n",
      "Warnings:\n",
      "[1] Standard Errors assume that the covariance matrix of the errors is correctly specified.\n",
      "[2] The condition number is large, 1.55e+04. This might indicate that there are\n",
      "strong multicollinearity or other numerical problems.\n"
     ]
    }
   ],
   "source": [
    "import statsmodels.formula.api as smf\n",
    "\n",
    "model = smf.ols(formula='RogueSales ~ RogueQueries + CPIEnergy + CPIAll + Unemployment',data=rogue_train).fit()\n",
    "\n",
    "print(model.summary())"
   ]
  },
  {
   "cell_type": "code",
   "execution_count": 5,
   "metadata": {},
   "outputs": [],
   "source": [
    "# Calculate Variance Inflation Factor for each explanatory variable\n",
    "\n",
    "from statsmodels.stats.outliers_influence import variance_inflation_factor\n",
    "import statsmodels.api as sm\n",
    "\n",
    "def VIF(df, columns):\n",
    "    \n",
    "    values = sm.add_constant(df[columns]).values  # the dataframe passed to VIF must include the intercept term. We add it the same way we did before.\n",
    "    num_columns = len(columns)+1\n",
    "    vif = [variance_inflation_factor(values, i) for i in range(num_columns)]\n",
    "    \n",
    "    return pd.Series(vif[1:], index=columns)"
   ]
  },
  {
   "cell_type": "code",
   "execution_count": 6,
   "metadata": {},
   "outputs": [
    {
     "name": "stdout",
     "output_type": "stream",
     "text": [
      "                            OLS Regression Results                            \n",
      "==============================================================================\n",
      "Dep. Variable:             RogueSales   R-squared:                       0.795\n",
      "Model:                            OLS   Adj. R-squared:                  0.789\n",
      "Method:                 Least Squares   F-statistic:                     119.1\n",
      "Date:                Tue, 21 Sep 2021   Prob (F-statistic):           1.45e-31\n",
      "Time:                        12:52:25   Log-Likelihood:                -898.57\n",
      "No. Observations:                  96   AIC:                             1805.\n",
      "Df Residuals:                      92   BIC:                             1815.\n",
      "Df Model:                           3                                         \n",
      "Covariance Type:            nonrobust                                         \n",
      "================================================================================\n",
      "                   coef    std err          t      P>|t|      [0.025      0.975]\n",
      "--------------------------------------------------------------------------------\n",
      "Intercept    -6.908e+04   1.41e+04     -4.895      0.000   -9.71e+04   -4.11e+04\n",
      "RogueQueries   188.9291     49.170      3.842      0.000      91.273     286.585\n",
      "CPIEnergy      -63.7953     15.172     -4.205      0.000     -93.928     -33.663\n",
      "CPIAll         401.8088     74.747      5.376      0.000     253.355     550.262\n",
      "==============================================================================\n",
      "Omnibus:                       60.885   Durbin-Watson:                   1.452\n",
      "Prob(Omnibus):                  0.000   Jarque-Bera (JB):              428.754\n",
      "Skew:                           1.854   Prob(JB):                     7.89e-94\n",
      "Kurtosis:                      12.667   Cond. No.                     1.55e+04\n",
      "==============================================================================\n",
      "\n",
      "Warnings:\n",
      "[1] Standard Errors assume that the covariance matrix of the errors is correctly specified.\n",
      "[2] The condition number is large, 1.55e+04. This might indicate that there are\n",
      "strong multicollinearity or other numerical problems.\n"
     ]
    },
    {
     "data": {
      "text/plain": [
       "RogueQueries    4.477880\n",
       "CPIEnergy       1.471781\n",
       "CPIAll          5.098905\n",
       "dtype: float64"
      ]
     },
     "execution_count": 6,
     "metadata": {},
     "output_type": "execute_result"
    }
   ],
   "source": [
    "# We remove Unemployment since it has a large p-value\n",
    "model2 = smf.ols(formula='RogueSales ~ RogueQueries + CPIEnergy + CPIAll',data=rogue_train).fit()\n",
    "\n",
    "print(model2.summary())\n",
    "\n",
    "VIF(rogue_train,['RogueQueries','CPIEnergy','CPIAll'])"
   ]
  },
  {
   "cell_type": "code",
   "execution_count": 7,
   "metadata": {},
   "outputs": [
    {
     "name": "stdout",
     "output_type": "stream",
     "text": [
      "                            OLS Regression Results                            \n",
      "==============================================================================\n",
      "Dep. Variable:             RogueSales   R-squared:                       0.731\n",
      "Model:                            OLS   Adj. R-squared:                  0.725\n",
      "Method:                 Least Squares   F-statistic:                     126.3\n",
      "Date:                Tue, 21 Sep 2021   Prob (F-statistic):           3.12e-27\n",
      "Time:                        12:52:26   Log-Likelihood:                -911.69\n",
      "No. Observations:                  96   AIC:                             1829.\n",
      "Df Residuals:                      93   BIC:                             1837.\n",
      "Df Model:                           2                                         \n",
      "Covariance Type:            nonrobust                                         \n",
      "================================================================================\n",
      "                   coef    std err          t      P>|t|      [0.025      0.975]\n",
      "--------------------------------------------------------------------------------\n",
      "Intercept     5168.8436   3301.430      1.566      0.121   -1387.141    1.17e+04\n",
      "RogueQueries   421.7451     26.543     15.889      0.000     369.035     474.455\n",
      "CPIEnergy      -17.8061     14.286     -1.246      0.216     -46.175      10.562\n",
      "==============================================================================\n",
      "Omnibus:                       45.821   Durbin-Watson:                   1.192\n",
      "Prob(Omnibus):                  0.000   Jarque-Bera (JB):              303.543\n",
      "Skew:                           1.276   Prob(JB):                     1.22e-66\n",
      "Kurtosis:                      11.329   Cond. No.                     2.28e+03\n",
      "==============================================================================\n",
      "\n",
      "Warnings:\n",
      "[1] Standard Errors assume that the covariance matrix of the errors is correctly specified.\n",
      "[2] The condition number is large, 2.28e+03. This might indicate that there are\n",
      "strong multicollinearity or other numerical problems.\n"
     ]
    },
    {
     "data": {
      "text/plain": [
       "RogueQueries    1.003797\n",
       "CPIEnergy       1.003797\n",
       "dtype: float64"
      ]
     },
     "execution_count": 7,
     "metadata": {},
     "output_type": "execute_result"
    }
   ],
   "source": [
    "# We remove the CPIAll because it has a large VIF value\n",
    "model3 = smf.ols(formula='RogueSales ~ RogueQueries + CPIEnergy',data=rogue_train).fit()\n",
    "\n",
    "print(model3.summary())\n",
    "\n",
    "VIF(rogue_train,['RogueQueries','CPIEnergy'])"
   ]
  },
  {
   "cell_type": "code",
   "execution_count": 8,
   "metadata": {},
   "outputs": [
    {
     "name": "stdout",
     "output_type": "stream",
     "text": [
      "                            OLS Regression Results                            \n",
      "==============================================================================\n",
      "Dep. Variable:             RogueSales   R-squared:                       0.726\n",
      "Model:                            OLS   Adj. R-squared:                  0.723\n",
      "Method:                 Least Squares   F-statistic:                     249.5\n",
      "Date:                Tue, 21 Sep 2021   Prob (F-statistic):           3.39e-28\n",
      "Time:                        12:52:29   Log-Likelihood:                -912.48\n",
      "No. Observations:                  96   AIC:                             1829.\n",
      "Df Residuals:                      94   BIC:                             1834.\n",
      "Df Model:                           1                                         \n",
      "Covariance Type:            nonrobust                                         \n",
      "================================================================================\n",
      "                   coef    std err          t      P>|t|      [0.025      0.975]\n",
      "--------------------------------------------------------------------------------\n",
      "Intercept     1168.7582    777.053      1.504      0.136    -374.099    2711.615\n",
      "RogueQueries   419.7103     26.571     15.796      0.000     366.953     472.468\n",
      "==============================================================================\n",
      "Omnibus:                       39.437   Durbin-Watson:                   1.179\n",
      "Prob(Omnibus):                  0.000   Jarque-Bera (JB):              247.446\n",
      "Skew:                           1.054   Prob(JB):                     1.85e-54\n",
      "Kurtosis:                      10.578   Cond. No.                         67.9\n",
      "==============================================================================\n",
      "\n",
      "Warnings:\n",
      "[1] Standard Errors assume that the covariance matrix of the errors is correctly specified.\n"
     ]
    }
   ],
   "source": [
    "# We remove the CPIEnergy because it has a large p-value\n",
    "model4 = smf.ols(formula='RogueSales ~ RogueQueries',data=rogue_train).fit()\n",
    "\n",
    "print(model4.summary())"
   ]
  },
  {
   "cell_type": "markdown",
   "metadata": {},
   "source": [
    "### i)\n",
    "If we denote y to be the RogueSales and x to be the RogueQueries. The linear regression equation is \n",
    "$$y = 419.7103x+1168.7582 $$\n",
    "    \n",
    "How to interpret the coefficients: It means if the approximation of the number of Google search for \"Rogue\" increases by 1 unit, the Rogue Sales is estimated to increase by 419.7103 unit. Even if there is no search on the Google about it, the intercept stands for the mean value for the Rogue Sales.\n",
    "    \n",
    "### ii)\n",
    "How to select the variable:  \n",
    "Firstly we are given four variables which may leave an effect on the Rogue Sales. After taken all these four variables into OLS regression analysis, we found that the \"Unemployment\" has a quite large p-value(0.573). We then remove it from our model.  \n",
    "After that, we use the VIF function to determine the multicollinearity. We found that the VIF value for CPIAll is vey large(>5). We therefore remove \"CPIAll\" too.  \n",
    "And we are left with \"CPIEnergy\" and \"RogueQueries\". We still use the OLS Regression Analysis Result. Again the p-value for \"CPIEnergy\" is 0.216, which is also quite big. We remove the \"CPIEnergy\" too. \n",
    "Finally, we have \"RogueQueries\" left in our model.\n",
    "\n",
    "### iii)\n",
    "The coefficient of \"RogueQueries\" is positive, meaning that there will be an increase in Sales if the number of Google search increases. It seems quite reasonable. If people show interest in Rogue, they may search it online for the feedback or price, then people who are really interested and determined are likely to buy them, leading to an increase in the sales.\n",
    "    \n",
    "### iv)\n",
    "According to the last OLS regression results, the R-Squared value is 0.726 which can be seen as a good enough sign of data fit."
   ]
  },
  {
   "cell_type": "markdown",
   "metadata": {},
   "source": [
    "## (b)"
   ]
  },
  {
   "cell_type": "code",
   "execution_count": 9,
   "metadata": {},
   "outputs": [
    {
     "name": "stdout",
     "output_type": "stream",
     "text": [
      "                            OLS Regression Results                            \n",
      "==============================================================================\n",
      "Dep. Variable:             RogueSales   R-squared:                       0.851\n",
      "Model:                            OLS   Adj. R-squared:                  0.823\n",
      "Method:                 Least Squares   F-statistic:                     30.46\n",
      "Date:                Tue, 21 Sep 2021   Prob (F-statistic):           7.49e-27\n",
      "Time:                        12:52:31   Log-Likelihood:                -883.30\n",
      "No. Observations:                  96   AIC:                             1799.\n",
      "Df Residuals:                      80   BIC:                             1840.\n",
      "Df Model:                          15                                         \n",
      "Covariance Type:            nonrobust                                         \n",
      "============================================================================================\n",
      "                               coef    std err          t      P>|t|      [0.025      0.975]\n",
      "--------------------------------------------------------------------------------------------\n",
      "Intercept                -8.216e+04   1.41e+04     -5.845      0.000    -1.1e+05   -5.42e+04\n",
      "MonthFactor[T.August]     3280.0709   1344.593      2.439      0.017     604.245    5955.896\n",
      "MonthFactor[T.Decemeber]   976.4637   1323.099      0.738      0.463   -1656.587    3609.515\n",
      "MonthFactor[T.February]   2724.2250   1320.184      2.064      0.042      96.975    5351.475\n",
      "MonthFactor[T.January]    -976.9897   1326.575     -0.736      0.464   -3616.959    1662.979\n",
      "MonthFactor[T.July]       1713.7269   1338.649      1.280      0.204    -950.269    4377.723\n",
      "MonthFactor[T.June]        605.8386   1320.488      0.459      0.648   -2022.015    3233.693\n",
      "MonthFactor[T.March]      3990.3761   1322.016      3.018      0.003    1359.481    6621.271\n",
      "MonthFactor[T.May]        2682.1772   1313.479      2.042      0.044      68.270    5296.084\n",
      "MonthFactor[T.November]   -255.6589   1322.607     -0.193      0.847   -2887.731    2376.413\n",
      "MonthFactor[T.October]     179.6851   1320.181      0.136      0.892   -2447.559    2806.929\n",
      "MonthFactor[T.Septeber]    689.5712   1315.836      0.524      0.602   -1929.025    3308.168\n",
      "Unemployment              -266.8447    229.344     -1.164      0.248    -723.253     189.564\n",
      "RogueQueries               111.2632     58.459      1.903      0.061      -5.075     227.601\n",
      "CPIAll                     486.4558     77.483      6.278      0.000     332.260     640.651\n",
      "CPIEnergy                  -78.2961     15.220     -5.144      0.000    -108.586     -48.006\n",
      "==============================================================================\n",
      "Omnibus:                       70.261   Durbin-Watson:                   1.174\n",
      "Prob(Omnibus):                  0.000   Jarque-Bera (JB):              655.246\n",
      "Skew:                           2.117   Prob(JB):                    5.19e-143\n",
      "Kurtosis:                      15.078   Cond. No.                     1.69e+04\n",
      "==============================================================================\n",
      "\n",
      "Warnings:\n",
      "[1] Standard Errors assume that the covariance matrix of the errors is correctly specified.\n",
      "[2] The condition number is large, 1.69e+04. This might indicate that there are\n",
      "strong multicollinearity or other numerical problems.\n"
     ]
    }
   ],
   "source": [
    "model5 = smf.ols(formula='RogueSales ~ Unemployment + RogueQueries + CPIAll + CPIEnergy + MonthFactor', data=rogue_train).fit()\n",
    "\n",
    "print(model5.summary())"
   ]
  },
  {
   "cell_type": "markdown",
   "metadata": {},
   "source": [
    "### i)\n",
    "Describe your new model. Along with \"Unemployment\",\"CPIAll\",\"CPIEnergy\" and \"RogueQueries\", this new model has a new independent variable MonthFactror to take seasonality into consideration.\n",
    "If we denote these variable \"Unemployment\" to $x_1$, \"RogueQueries\" to $x_2$, \"CPIAll\" to $x_3$, \"CPIEnergy\" to $x_4$, and the \"MonthFactor\" to $x_5$, the \"RogueSales\" to y, the regression equation is $$ y = {\\beta_1}x_1 + {\\beta_2}x_2 +{\\beta_3}x_3 + {\\beta_4}x_4 +{\\beta_5}I(x_5)x_5 + {\\alpha}$$\n",
    "The ${\\beta}$ is the corresponding coefficient in the above OLS regression result and ${\\alpha}$ is the intercept.   \n",
    "\n",
    "And ${\\beta_1} = -266.84,  {\\beta_2} = 111.26,  {\\beta_3} = 486.46, {\\beta_4} = -79.3$  \n",
    "\n",
    "Note that there is an indicator function in the MonthFactor term. The MonthFactor is turned into a bunch of categorical variables, each of which will have data value 0 or 1 in each of the observation records.\n",
    "\n",
    "Interpretation of MonthFactor: It represents the extra sales in a given month compared to the baseline month keeping other variables fixed.\n",
    "\n",
    "### ii)\n",
    "The R-Squared value for the new model is 0.851. And the significant variables are RogueQueries, MonthFactor[T.March], MonthFactor[T.August], MonthFactor[T.February],MonthFactor[T.May]\n",
    "\n",
    "### iii)\n",
    "Adding the independent variable MonthFactor does improve the quality of the model. First of all, we are able to discover more significant variables. Moreover, the R-Square value has increased compared to the previou one.\n",
    "\n",
    "### iv)\n",
    "I will choose to make a variable selection according to the p-value given in the previous regression analysis. If we are able to calculate with only significant independent monthly variable, we may improve the model since that many of the dummy variables are not statistically significant. Moreover, we can just change the data type from month to season, like spring\\summer\\autumn\\winter to have a more specific or clear view of the change in terms of seasonality."
   ]
  },
  {
   "cell_type": "markdown",
   "metadata": {},
   "source": [
    "## (c)"
   ]
  },
  {
   "cell_type": "code",
   "execution_count": 10,
   "metadata": {},
   "outputs": [
    {
     "name": "stdout",
     "output_type": "stream",
     "text": [
      "                            OLS Regression Results                            \n",
      "==============================================================================\n",
      "Dep. Variable:             RogueSales   R-squared:                       0.777\n",
      "Model:                            OLS   Adj. R-squared:                  0.742\n",
      "Method:                 Least Squares   F-statistic:                     21.98\n",
      "Date:                Tue, 21 Sep 2021   Prob (F-statistic):           1.93e-21\n",
      "Time:                        12:52:32   Log-Likelihood:                -902.66\n",
      "No. Observations:                  96   AIC:                             1833.\n",
      "Df Residuals:                      82   BIC:                             1869.\n",
      "Df Model:                          13                                         \n",
      "Covariance Type:            nonrobust                                         \n",
      "============================================================================================\n",
      "                               coef    std err          t      P>|t|      [0.025      0.975]\n",
      "--------------------------------------------------------------------------------------------\n",
      "Intercept                 4280.4539   3402.953      1.258      0.212   -2489.104    1.11e+04\n",
      "MonthFactor[T.August]     1993.0238   1596.080      1.249      0.215   -1182.088    5168.136\n",
      "MonthFactor[T.Decemeber]  1830.1026   1590.456      1.151      0.253   -1333.822    4994.027\n",
      "MonthFactor[T.February]   1920.2654   1587.266      1.210      0.230   -1237.312    5077.842\n",
      "MonthFactor[T.January]   -2057.9894   1588.490     -1.296      0.199   -5218.002    1102.023\n",
      "MonthFactor[T.July]        516.2099   1593.805      0.324      0.747   -2654.376    3686.796\n",
      "MonthFactor[T.June]         19.5868   1589.262      0.012      0.990   -3141.962    3181.135\n",
      "MonthFactor[T.March]      3143.2320   1587.779      1.980      0.051     -15.365    6301.830\n",
      "MonthFactor[T.May]        2627.9902   1586.820      1.656      0.102    -528.700    5784.681\n",
      "MonthFactor[T.November]    716.7511   1587.344      0.452      0.653   -2440.981    3874.483\n",
      "MonthFactor[T.October]    1015.8955   1587.252      0.640      0.524   -2141.655    4173.446\n",
      "MonthFactor[T.Septeber]    922.6345   1588.936      0.581      0.563   -2238.266    4083.535\n",
      "RogueQueries               421.4513     25.970     16.228      0.000     369.788     473.115\n",
      "CPIEnergy                  -18.4994     14.039     -1.318      0.191     -46.428       9.429\n",
      "==============================================================================\n",
      "Omnibus:                       51.362   Durbin-Watson:                   0.903\n",
      "Prob(Omnibus):                  0.000   Jarque-Bera (JB):              359.482\n",
      "Skew:                           1.469   Prob(JB):                     8.70e-79\n",
      "Kurtosis:                      12.013   Cond. No.                     2.99e+03\n",
      "==============================================================================\n",
      "\n",
      "Warnings:\n",
      "[1] Standard Errors assume that the covariance matrix of the errors is correctly specified.\n",
      "[2] The condition number is large, 2.99e+03. This might indicate that there are\n",
      "strong multicollinearity or other numerical problems.\n"
     ]
    }
   ],
   "source": [
    "model6 = smf.ols(formula='RogueSales ~ RogueQueries + CPIEnergy + MonthFactor', data=rogue_train).fit()\n",
    "\n",
    "print(model6.summary())"
   ]
  },
  {
   "cell_type": "code",
   "execution_count": 11,
   "metadata": {},
   "outputs": [],
   "source": [
    "def OSR2(model, df_train, df_test, dependent_var):   \n",
    "    \n",
    "    y_test = df_test[dependent_var]\n",
    "    y_pred = model.predict(df_test)\n",
    "    SSE = np.sum((y_test - y_pred)**2)\n",
    "    SST = np.sum((y_test - np.mean(df_train[dependent_var]))**2)    \n",
    "    \n",
    "    return 1 - SSE/SST"
   ]
  },
  {
   "cell_type": "code",
   "execution_count": 12,
   "metadata": {},
   "outputs": [
    {
     "data": {
      "text/plain": [
       "0.9076908646686015"
      ]
     },
     "execution_count": 12,
     "metadata": {},
     "output_type": "execute_result"
    }
   ],
   "source": [
    "OSR2(model6, rogue_train, rogue_testA, 'RogueSales')"
   ]
  },
  {
   "cell_type": "code",
   "execution_count": 13,
   "metadata": {},
   "outputs": [
    {
     "data": {
      "text/plain": [
       "-0.31156177523204787"
      ]
     },
     "execution_count": 13,
     "metadata": {},
     "output_type": "execute_result"
    }
   ],
   "source": [
    "OSR2(model6, rogue_train, rogue_testB, 'RogueSales')"
   ]
  },
  {
   "cell_type": "markdown",
   "metadata": {},
   "source": [
    "### i)\n",
    "The variables I used in this model include \"RogueQueries\", \"CPIEnergy\" and \"MonthFactor\". The reason I choose \"RogueQueries\" and \"MonthFactor\" is same as the one I did in the previous, they are acting significant in the regression analysis.  \n",
    "The \"CPIEnergy\", however, which was removed due to its not that statistical significance, it can be interpreted as if it increases, households have less purchasing power and there will be less car sales: if the price of gasoline increases for instance, less people will buy new cars. And as you can see that the coefficient of CPIenergy is negative.\n",
    "\n",
    "### ii)\n",
    "The training set R-Square value is 0.777\n",
    "\n",
    "### iii)\n",
    "The $OSR^2$ value for testing set A is 0.90769\n",
    "The $OSR^2$ value for testing set B is -0.31156\n",
    "\n",
    "### iv)\n",
    "$ R^2$ is a coefficient of determination, measuring the overall quality of the regression model. The R-Square value here is 0.777, which is a comparably good fit.  \n",
    "The $OSR^2$ s an assessment of the real-world performance of the model we have built. If OSR2is significantly smaller than R2(on the training data), this is an indicator of potential overfitting, however, it is not the case in our model.   \n",
    "One thing that is very obvious is that the $ OSR^2 $ for the testB test set is negative. According to the formula of OSR, we can conclude that the Sum of squared residuals of regression model on the Test Set B is bigger than the Sum of squared residuals of baseline model applied to the Test Set B. We know that OSR>0 means that we improve compared to the baseline model, indicating the model is useful. If the OSR is negative, it may be due to the time series (the time of test set B is not as close to training set as test set A). And we have already known that the pandemic in 2020 and 2021 left a huge influencee on the RogueSales, which can not be anticipated just by the training set data. The negativity of OSR Squared value for test data B is reasonable and acceptable."
   ]
  },
  {
   "cell_type": "markdown",
   "metadata": {},
   "source": [
    "## (d)"
   ]
  },
  {
   "cell_type": "code",
   "execution_count": 14,
   "metadata": {},
   "outputs": [],
   "source": [
    "ppi_data = pd.read_csv('ppi.csv')\n",
    "rogue_new = pd.merge(rogue,ppi_data,on=['Year','MonthFactor'])"
   ]
  },
  {
   "cell_type": "code",
   "execution_count": 15,
   "metadata": {},
   "outputs": [],
   "source": [
    "rogue_train1 = rogue_new[rogue_new['Year'] <= 2015]\n",
    "rogue_testA1 = rogue_new[(rogue_new['Year'] >= 2016) & (rogue_new['Year'] <= 2019) ]\n",
    "rogue_testB1 = rogue_new[(rogue_new['Year'] >= 2020) & (rogue_new['Year'] <= 2021) ]"
   ]
  },
  {
   "cell_type": "code",
   "execution_count": 16,
   "metadata": {},
   "outputs": [
    {
     "name": "stdout",
     "output_type": "stream",
     "text": [
      "                            OLS Regression Results                            \n",
      "==============================================================================\n",
      "Dep. Variable:             RogueSales   R-squared:                       0.778\n",
      "Model:                            OLS   Adj. R-squared:                  0.739\n",
      "Method:                 Least Squares   F-statistic:                     20.25\n",
      "Date:                Tue, 21 Sep 2021   Prob (F-statistic):           8.13e-21\n",
      "Time:                        12:52:35   Log-Likelihood:                -902.49\n",
      "No. Observations:                  96   AIC:                             1835.\n",
      "Df Residuals:                      81   BIC:                             1873.\n",
      "Df Model:                          14                                         \n",
      "Covariance Type:            nonrobust                                         \n",
      "============================================================================================\n",
      "                               coef    std err          t      P>|t|      [0.025      0.975]\n",
      "--------------------------------------------------------------------------------------------\n",
      "Intercept                 5929.5920   4619.886      1.283      0.203   -3262.532    1.51e+04\n",
      "MonthFactor[T.August]     2015.8941   1603.698      1.257      0.212   -1174.963    5206.751\n",
      "MonthFactor[T.Decemeber]  1963.4055   1617.107      1.214      0.228   -1254.129    5180.940\n",
      "MonthFactor[T.February]   1862.9967   1597.915      1.166      0.247   -1316.353    5042.347\n",
      "MonthFactor[T.January]   -2073.5243   1595.764     -1.299      0.197   -5248.594    1101.546\n",
      "MonthFactor[T.July]        506.8465   1600.931      0.317      0.752   -2678.504    3692.197\n",
      "MonthFactor[T.June]        -12.9631   1597.449     -0.008      0.994   -3191.386    3165.460\n",
      "MonthFactor[T.March]      3086.4883   1598.363      1.931      0.057     -93.752    6266.729\n",
      "MonthFactor[T.May]        2622.8187   1593.848      1.646      0.104    -548.438    5794.076\n",
      "MonthFactor[T.November]    884.8759   1625.528      0.544      0.588   -2349.414    4119.166\n",
      "MonthFactor[T.October]    1180.1306   1624.024      0.727      0.470   -2051.168    4411.429\n",
      "MonthFactor[T.Septeber]    986.6477   1600.497      0.616      0.539   -2197.840    4171.135\n",
      "RogueQueries               441.3758     45.723      9.653      0.000     350.401     532.351\n",
      "CPIEnergy                  -19.2251     14.168     -1.357      0.179     -47.414       8.964\n",
      "PPI                        -11.4922     21.660     -0.531      0.597     -54.589      31.604\n",
      "==============================================================================\n",
      "Omnibus:                       52.064   Durbin-Watson:                   0.922\n",
      "Prob(Omnibus):                  0.000   Jarque-Bera (JB):              376.533\n",
      "Skew:                           1.482   Prob(JB):                     1.73e-82\n",
      "Kurtosis:                      12.238   Cond. No.                     4.28e+03\n",
      "==============================================================================\n",
      "\n",
      "Warnings:\n",
      "[1] Standard Errors assume that the covariance matrix of the errors is correctly specified.\n",
      "[2] The condition number is large, 4.28e+03. This might indicate that there are\n",
      "strong multicollinearity or other numerical problems.\n"
     ]
    }
   ],
   "source": [
    "model7 = smf.ols(formula='RogueSales ~ RogueQueries + CPIEnergy + MonthFactor + PPI', data=rogue_train1).fit()\n",
    "\n",
    "print(model7.summary())"
   ]
  },
  {
   "cell_type": "code",
   "execution_count": 17,
   "metadata": {},
   "outputs": [
    {
     "data": {
      "text/plain": [
       "0.8988622063379132"
      ]
     },
     "execution_count": 17,
     "metadata": {},
     "output_type": "execute_result"
    }
   ],
   "source": [
    "OSR2(model7, rogue_train1, rogue_testA1, 'RogueSales')"
   ]
  },
  {
   "cell_type": "code",
   "execution_count": 18,
   "metadata": {},
   "outputs": [
    {
     "data": {
      "text/plain": [
       "-0.2666808850586413"
      ]
     },
     "execution_count": 18,
     "metadata": {},
     "output_type": "execute_result"
    }
   ],
   "source": [
    "OSR2(model7, rogue_train1, rogue_testB1, 'RogueSales')"
   ]
  },
  {
   "cell_type": "markdown",
   "metadata": {},
   "source": [
    "This time I choose the variable PPI (a different economic indicator) The Producer Price Index (PPI) program measures the average change over time in the selling prices received by domestic producers for their output. The prices included in the PPI are from the first commercial transaction for many products and some services.\n",
    "\n",
    "After conducting the regression analysis, I found that the R-Square has increased slightly from 0.777 to 0.778. As we all know, R-Square value will always increased by adding variables into the regression model. And moreover, the p-value of the new variable 'PPI' is 0.597, which is quite big, indicating that the new variable is not statistical significant.\n",
    "\n",
    "We then move to the OSR-Squared value. We found that the OSR squared value decreased a bit.   \n",
    "\n",
    "The new model does not add that much predictive value."
   ]
  },
  {
   "cell_type": "markdown",
   "metadata": {},
   "source": [
    "## (e)"
   ]
  },
  {
   "cell_type": "markdown",
   "metadata": {},
   "source": [
    "According to out simplified assumption that the number of units carried over from month to month is always less than or equal to the target inventory, leading to the fact that the carried over inventory only lasted for one month for each unit.\n",
    "Our lost function can be composed by three parts.  \n",
    "I).   The scenario that the value of actual sales is larger than the value of expected sales. (The opportunity cost)  \n",
    "II).  The scenario that the value of actual sales is smaller than the value of expected sales. (The carring over cost)  \n",
    "III). At last, we need to take the profit into the loss funtion consideration.  \n",
    "\n",
    "We use the indicator function to imply the relationship between the actual sales and expected sales.\n",
    "\n",
    "The loss function is presented as followed:\n",
    "$$ l(\\hat{y},y) = 500\\sum_{i=1}^{N}{(\\hat{y}_i-y_i)}I(y_i<\\hat{y}_i) + 3000\\sum_{i=2}^{N}{(y_i-\\hat{y}_i)}I(\\hat{y}_i+(\\hat{y}_{i-1}-y_{i-1},0)_+<y_i) - 3000\\sum_{i=1}^{N}{\\hat{y_i}}$$\n",
    "\n",
    "where N is the total number of month.  \n",
    "\n",
    "The first term in the loss function $500\\sum_{i=1}^{N}{(\\hat{y}_i-y_i)}I(y_i<\\hat{y}_i)$ represents the scenario that the value of actual sales is smaller than the value of expected sales, such that the carrying over cost is occured. The cost per unit is 500. Moreover, according to our simplified assumption, the carried over inventory would not be carried again into the third following month. The carrying over cost is occured once for each unit.  \n",
    "\n",
    "The second term of the loss function $3000\\sum_{i=2}^{N}{(y_i-\\hat{y}_i)}I(\\hat{y}_i+(\\hat{y}_{i-1}-y_{i-1},0)_+<y_i)$ represents the scenario that the value of actual value is larger than the value of expected sales, so that the opportunity cost of underestimating the sale is occured. The cost per unit is 3000.  \n",
    "In this indicator function, we not only take the difference between actual and expected sales into consideration, we also need to pay attention to the fact that whether there will be carrying over inventory from the previous month to cover the opportunity cost. The term $(\\hat{y}_{i-1}-y_{i-1},0)_+$ checks whether there will be carried-over inventory from last month. And if the expected sales plus the carried-over inventory is still less than the actual sales, we will face the opportunity cost.  \n",
    "\n",
    "The last term is easy to understand. It is the total profit we made according to the expected sales schedule."
   ]
  }
 ],
 "metadata": {
  "kernelspec": {
   "display_name": "Python 3",
   "language": "python",
   "name": "python3"
  },
  "language_info": {
   "codemirror_mode": {
    "name": "ipython",
    "version": 3
   },
   "file_extension": ".py",
   "mimetype": "text/x-python",
   "name": "python",
   "nbconvert_exporter": "python",
   "pygments_lexer": "ipython3",
   "version": "3.8.3"
  },
  "toc": {
   "base_numbering": 1,
   "nav_menu": {},
   "number_sections": true,
   "sideBar": true,
   "skip_h1_title": false,
   "title_cell": "Table of Contents",
   "title_sidebar": "Contents",
   "toc_cell": false,
   "toc_position": {},
   "toc_section_display": true,
   "toc_window_display": false
  }
 },
 "nbformat": 4,
 "nbformat_minor": 4
}
